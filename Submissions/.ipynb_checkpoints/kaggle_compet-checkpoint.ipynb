{
 "cells": [
  {
   "cell_type": "markdown",
   "metadata": {},
   "source": [
    "# Препроцессинг данных"
   ]
  },
  {
   "cell_type": "markdown",
   "metadata": {},
   "source": [
    "## Загрузка данных в ноутбук"
   ]
  },
  {
   "cell_type": "code",
   "execution_count": 1,
   "metadata": {},
   "outputs": [
    {
     "name": "stdout",
     "output_type": "stream",
     "text": [
      "../../Kaggle\\xxx_submission.csv\n",
      "../../Kaggle\\xxx_test.csv\n",
      "../../Kaggle\\xxx_train.csv\n"
     ]
    }
   ],
   "source": [
    "# This Python 3 environment comes with many helpful analytics libraries installed\n",
    "# It is defined by the kaggle/python Docker image: https://github.com/kaggle/docker-python\n",
    "# For example, here's several helpful packages to load\n",
    "import numpy as np # linear algebra\n",
    "import pandas as pd # data processing, CSV file I/O (e.g. pd.read_csv)\n",
    "\n",
    "# Input data files are available in the read-only \"../input/\" directory\n",
    "# For example, running this (by clicking run or pressing Shift+Enter) will list all files under the input directory\n",
    "\n",
    "import os\n",
    "for dirname, _, filenames in os.walk('../../Kaggle'):\n",
    "    for filename in filenames:\n",
    "        print(os.path.join(dirname, filename))\n",
    "\n",
    "# You can write up to 20GB to the current directory (/kaggle/working/) that gets preserved as output when you create a version using \"Save & Run All\" \n",
    "# You can also write temporary files to /kaggle/temp/, but they won't be saved outside of the current session"
   ]
  },
  {
   "cell_type": "code",
   "execution_count": 2,
   "metadata": {},
   "outputs": [
    {
     "name": "stdout",
     "output_type": "stream",
     "text": [
      "Populating the interactive namespace from numpy and matplotlib\n"
     ]
    }
   ],
   "source": [
    "%pylab inline\n",
    "plt.style.use('seaborn-dark')\n",
    "import warnings\n",
    "warnings.filterwarnings(\"ignore\") # отключение варнингов\n",
    "pd.set_option('display.max_columns', None) # pd.options.display.max_columns = None \n",
    "# pd.set_option('display.max_rows', None) # не прятать столбцы при выводе дата-фреймов\n",
    "import matplotlib.pyplot as plt\n",
    "import matplotlib as mpl\n",
    "plt.rc('font', size=14)"
   ]
  },
  {
   "cell_type": "code",
   "execution_count": 3,
   "metadata": {},
   "outputs": [
    {
     "name": "stdout",
     "output_type": "stream",
     "text": [
      "(10000, 301) (50000, 300)\n"
     ]
    }
   ],
   "source": [
    "train = pd.read_csv('../../Kaggle/xxx_train.csv')\n",
    "test = pd.read_csv('../../Kaggle/xxx_test.csv')\n",
    "# размеры данных\n",
    "print(train.shape, test.shape)"
   ]
  },
  {
   "cell_type": "code",
   "execution_count": null,
   "metadata": {
    "tags": []
   },
   "outputs": [],
   "source": [
    "train.sample(5)"
   ]
  },
  {
   "cell_type": "markdown",
   "metadata": {},
   "source": [
    "### Целевой вектор y"
   ]
  },
  {
   "cell_type": "code",
   "execution_count": 5,
   "metadata": {},
   "outputs": [
    {
     "data": {
      "text/plain": [
       "((10000, 300), (10000,))"
      ]
     },
     "execution_count": 5,
     "metadata": {},
     "output_type": "execute_result"
    }
   ],
   "source": [
    "y = train.pop('y') # целевой вектор\n",
    "train.shape, y.shape"
   ]
  },
  {
   "cell_type": "markdown",
   "metadata": {},
   "source": [
    "### Создание матрицы признаком $Matrix \\in \\mathbb{R}^{10000\\times300}$"
   ]
  },
  {
   "cell_type": "code",
   "execution_count": 6,
   "metadata": {},
   "outputs": [
    {
     "name": "stdout",
     "output_type": "stream",
     "text": [
      "(10000, 300)\n",
      "(10000,)\n"
     ]
    }
   ],
   "source": [
    "Matrix = np.zeros((10000, 300))\n",
    "\n",
    "for i in range(100):\n",
    "    for j in range(3):\n",
    "        ind = 3*i + j\n",
    "        Matrix[:, ind] = np.array(train.pop('X_'+str(i)+'_'+str(j)))\n",
    "\n",
    "print(Matrix.shape)\n",
    "print(y.shape)"
   ]
  },
  {
   "cell_type": "markdown",
   "metadata": {},
   "source": [
    "### Создание Матрицы тестовой выборки $\\mathbb{R}^{50000\\times300}$"
   ]
  },
  {
   "cell_type": "code",
   "execution_count": 7,
   "metadata": {},
   "outputs": [
    {
     "name": "stdout",
     "output_type": "stream",
     "text": [
      "(50000, 300)\n"
     ]
    }
   ],
   "source": [
    "Tester = np.array(test)\n",
    "print(Tester.shape)"
   ]
  },
  {
   "cell_type": "markdown",
   "metadata": {},
   "source": [
    "# Первая неделя"
   ]
  },
  {
   "cell_type": "markdown",
   "metadata": {},
   "source": [
    "# Уменьшение длины признаков через методы математической статистики"
   ]
  },
  {
   "cell_type": "markdown",
   "metadata": {},
   "source": [
    "## Использование корреляции Пирсона и t-критерия Стьюдента для выбора значимых признаков"
   ]
  },
  {
   "cell_type": "markdown",
   "metadata": {},
   "source": [
    "### Проверка на нормальность распределения y, то есть $Y \\sim \\mathbb{N}(18.3, 6.87^2)$"
   ]
  },
  {
   "cell_type": "code",
   "execution_count": 8,
   "metadata": {},
   "outputs": [],
   "source": [
    "sigma = 6.87\n",
    "mu = 18.3"
   ]
  },
  {
   "cell_type": "code",
   "execution_count": 9,
   "metadata": {},
   "outputs": [
    {
     "data": {
      "text/plain": [
       "[<matplotlib.lines.Line2D at 0x7fedc9c1d610>]"
      ]
     },
     "execution_count": 9,
     "metadata": {},
     "output_type": "execute_result"
    },
    {
     "data": {
      "image/png": "[encoded data removed]",
      "text/plain": [
       "<Figure size 432x288 with 1 Axes>"
      ]
     },
     "metadata": {},
     "output_type": "display_data"
    }
   ],
   "source": [
    "count, bins, ignored = plt.hist(y, 47, density=True)\n",
    "plt.plot(bins, 1/(sigma * np.sqrt(2 * np.pi)) *\n",
    "        np.exp( - (bins - mu)**2 / (2 * sigma**2) ),\n",
    "        linewidth=2, color='r')"
   ]
  },
  {
   "cell_type": "markdown",
   "metadata": {},
   "source": [
    "### Определение корреляции Пирсона"
   ]
  },
  {
   "cell_type": "code",
   "execution_count": 10,
   "metadata": {},
   "outputs": [],
   "source": [
    "def pearson(a,b):\n",
    "    a_avg, b_avg = np.average(a), np.average(b)\n",
    "    a_stdev, b_stdev = np.std(a), np.std(b)\n",
    "    n = len(a)\n",
    "    denominator = a_stdev * b_stdev * n\n",
    "    numerator = np.sum(np.multiply(a-a_avg, b-b_avg))\n",
    "    p_coef = numerator/denominator\n",
    "    return p_coef"
   ]
  },
  {
   "cell_type": "code",
   "execution_count": 11,
   "metadata": {},
   "outputs": [],
   "source": [
    "# Корреляции входных признаков с ответом y\n",
    "corrs = np.zeros((300))\n",
    "for i in range(300):\n",
    "    corrs[i] = pearson(Matrix[:,i], y)"
   ]
  },
  {
   "cell_type": "markdown",
   "metadata": {},
   "source": [
    "### t-критерий Стьюдента для оценки значимости корреляции"
   ]
  },
  {
   "cell_type": "code",
   "execution_count": 12,
   "metadata": {},
   "outputs": [],
   "source": [
    "t = np.zeros_like(corrs)\n",
    "t = corrs/np.sqrt(1-corrs**2) * np.sqrt(300-2)"
   ]
  },
  {
   "cell_type": "markdown",
   "metadata": {},
   "source": [
    "### Доверительный интервал для параметра 99%"
   ]
  },
  {
   "cell_type": "code",
   "execution_count": 13,
   "metadata": {},
   "outputs": [],
   "source": [
    "import numpy as np\n",
    "import scipy.stats\n",
    "\n",
    "\n",
    "def mean_confidence_interval(data, confidence=0.95):\n",
    "    a = 1.0 * np.array(data)\n",
    "    n = len(a)\n",
    "    m, se = np.mean(a), scipy.stats.sem(a)\n",
    "    h = se * scipy.stats.t.ppf((1 + confidence) / 2., n-1)\n",
    "    return m, m-h, m+h"
   ]
  },
  {
   "cell_type": "code",
   "execution_count": 14,
   "metadata": {},
   "outputs": [],
   "source": [
    "mean_t, left_t, right_t = mean_confidence_interval(t, confidence=0.99999)"
   ]
  },
  {
   "cell_type": "markdown",
   "metadata": {},
   "source": [
    "### Выделение значимых признаков(признаков, входящих в доверительный интервал)"
   ]
  },
  {
   "cell_type": "code",
   "execution_count": 15,
   "metadata": {},
   "outputs": [
    {
     "name": "stdout",
     "output_type": "stream",
     "text": [
      "64\n",
      "[23, 53, 59, 62, 65, 68, 71, 74, 82, 83, 86, 87, 101, 105, 107, 110, 111, 114, 119, 126, 140, 142, 152, 153, 162, 166, 168, 174, 180, 181, 183, 186, 189, 190, 193, 198, 201, 205, 211, 213, 214, 216, 222, 225, 226, 228, 231, 232, 238, 240, 241, 246, 247, 252, 255, 259, 261, 264, 267, 273, 276, 280, 291, 298]\n"
     ]
    }
   ],
   "source": [
    "count = 0                               # Кол-во незначимых признаков\n",
    "imp = list()                            # Список индексов значимых признаков\n",
    "for i in range(len(t)):\n",
    "    if t[i] < left_t or t[i] > right_t:\n",
    "        count += 1\n",
    "    else:\n",
    "        imp.append(i)\n",
    "print(300 - count)\n",
    "print(imp) "
   ]
  },
  {
   "cell_type": "markdown",
   "metadata": {},
   "source": [
    "### Построение Матрицы __значимых__ признаков тренировочной и тестовой выборки"
   ]
  },
  {
   "cell_type": "code",
   "execution_count": 16,
   "metadata": {},
   "outputs": [
    {
     "name": "stdout",
     "output_type": "stream",
     "text": [
      "(10000, 300)\n",
      "(10000, 64)\n"
     ]
    }
   ],
   "source": [
    "print(Matrix.shape)\n",
    "Matrix1 = np.zeros((10000, 300-count))       # Матрица значимых признаков тренировочной выборки\n",
    "for i in range(len(imp)): \n",
    "    Matrix1[:, i] = Matrix[:, imp[i]]\n",
    "print(Matrix1.shape)"
   ]
  },
  {
   "cell_type": "code",
   "execution_count": 17,
   "metadata": {},
   "outputs": [
    {
     "name": "stdout",
     "output_type": "stream",
     "text": [
      "(50000, 64)\n"
     ]
    }
   ],
   "source": [
    "Tester_Matrix = np.zeros((50000, 300-count)) # Матрицы значимых признаков тестовой выборки\n",
    "for i in range(len(imp)):\n",
    "    Tester_Matrix[:, i] = Tester[:, imp[i]]\n",
    "print(Tester_Matrix.shape)"
   ]
  },
  {
   "cell_type": "markdown",
   "metadata": {},
   "source": [
    "## Сравнение классификаторов Sklearn"
   ]
  },
  {
   "cell_type": "markdown",
   "metadata": {},
   "source": [
    "### Использование кросс-валидации для оценки моделей на данных(Matrix)"
   ]
  },
  {
   "cell_type": "code",
   "execution_count": 15,
   "metadata": {},
   "outputs": [],
   "source": [
    "from sklearn.model_selection import KFold"
   ]
  },
  {
   "cell_type": "code",
   "execution_count": 16,
   "metadata": {},
   "outputs": [
    {
     "name": "stdout",
     "output_type": "stream",
     "text": [
      "(9000, 300)\n"
     ]
    }
   ],
   "source": [
    "kf = KFold(n_splits=10)\n",
    "\n",
    "for train_index, test_index in kf.split(Correct_Matrix, y):\n",
    "    X_train, X_test = Correct_Matrix[train_index], Correct_Matrix[test_index]\n",
    "    y_train, y_test = y[train_index], y[test_index]\n",
    "print(X_train.shape)"
   ]
  },
  {
   "cell_type": "markdown",
   "metadata": {},
   "source": [
    "#### Непредвзятая проверка моделей обучения\n",
    "1. Обучаем модели на разбитых в методе KFold данных\n",
    "2. Выводим точности для каждой\n",
    "3. Из лучших составляем ансамбль\n",
    "4. Проверяем его точность в сравнении с отдельными моделями\n",
    "5. Выбираем лучшую модель\n",
    "6. Обучаем модель на всей выборке\n",
    "7. Предсказываем ответ и отправляем на проверку"
   ]
  },
  {
   "cell_type": "code",
   "execution_count": 17,
   "metadata": {},
   "outputs": [],
   "source": [
    "from sklearn.model_selection import GridSearchCV     #Поиск лучших моделей\n",
    "from sklearn.neighbors import KNeighborsRegressor    #K ближайших соседей, определим лучший параметр\n",
    "from sklearn.ensemble import RandomForestRegressor   #Случайный лес. ВАЖНО: ограничить max_depth, иначе ооочень долго\n",
    "from sklearn.linear_model import LogisticRegression  #Логистическая регрессия\n",
    "from sklearn.ensemble import VotingRegressor         #Регрессор голосвания - ансамбль лучших моделей\n",
    "from sklearn.linear_model import SGDRegressor\n",
    "from sklearn.ensemble import AdaBoostRegressor\n",
    "from sklearn import tree"
   ]
  },
  {
   "cell_type": "markdown",
   "metadata": {},
   "source": [
    "##### KNN"
   ]
  },
  {
   "cell_type": "code",
   "execution_count": 28,
   "metadata": {},
   "outputs": [
    {
     "name": "stdout",
     "output_type": "stream",
     "text": [
      "{'n_neighbors': 300}\n"
     ]
    }
   ],
   "source": [
    "knn = KNeighborsRegressor()\n",
    "params_knn = {'n_neighbors': [100, 300, 500, 1000]}\n",
    "knn_gs = GridSearchCV(knn, params_knn, cv=5)\n",
    "knn_gs.fit(X_train, y_train)\n",
    "\n",
    "#save best model\n",
    "knn_best = knn_gs.best_estimator_\n",
    "print(knn_gs.best_params_)"
   ]
  },
  {
   "cell_type": "markdown",
   "metadata": {},
   "source": [
    "##### Random Forest(сравнение параметра n_estimators)"
   ]
  },
  {
   "cell_type": "code",
   "execution_count": 29,
   "metadata": {},
   "outputs": [
    {
     "name": "stdout",
     "output_type": "stream",
     "text": [
      "{'max_depth': 3, 'n_estimators': 5000}\n"
     ]
    }
   ],
   "source": [
    "rf = RandomForestRegressor()\n",
    "params_rf = {'n_estimators': [100, 500, 1000, 5000], 'max_depth' : [3]}\n",
    "rf_gs = GridSearchCV(rf, params_rf, cv=5)\n",
    "rf_gs.fit(X_train, y_train)\n",
    "\n",
    "rf_best = rf_gs.best_estimator_\n",
    "print(rf_gs.best_params_)"
   ]
  },
  {
   "cell_type": "markdown",
   "metadata": {},
   "source": [
    "##### Logistic Regression"
   ]
  },
  {
   "cell_type": "code",
   "execution_count": 30,
   "metadata": {},
   "outputs": [
    {
     "data": {
      "text/plain": [
       "LogisticRegression()"
      ]
     },
     "execution_count": 30,
     "metadata": {},
     "output_type": "execute_result"
    }
   ],
   "source": [
    "log = LogisticRegression()\n",
    "log.fit(X_train, y_train)"
   ]
  },
  {
   "cell_type": "markdown",
   "metadata": {},
   "source": [
    "##### SGDClassifier"
   ]
  },
  {
   "cell_type": "code",
   "execution_count": 31,
   "metadata": {},
   "outputs": [
    {
     "data": {
      "text/plain": [
       "SGDRegressor()"
      ]
     },
     "execution_count": 31,
     "metadata": {},
     "output_type": "execute_result"
    }
   ],
   "source": [
    "sgd = SGDRegressor()\n",
    "sgd.fit(X_train, y_train)"
   ]
  },
  {
   "cell_type": "markdown",
   "metadata": {},
   "source": [
    "##### Ada Boost"
   ]
  },
  {
   "cell_type": "code",
   "execution_count": 32,
   "metadata": {},
   "outputs": [
    {
     "data": {
      "text/plain": [
       "AdaBoostRegressor()"
      ]
     },
     "execution_count": 32,
     "metadata": {},
     "output_type": "execute_result"
    }
   ],
   "source": [
    "ada = AdaBoostRegressor()\n",
    "ada.fit(X_train, y_train)"
   ]
  },
  {
   "cell_type": "markdown",
   "metadata": {},
   "source": [
    "##### Decision tree"
   ]
  },
  {
   "cell_type": "code",
   "execution_count": 33,
   "metadata": {},
   "outputs": [
    {
     "data": {
      "text/plain": [
       "DecisionTreeRegressor()"
      ]
     },
     "execution_count": 33,
     "metadata": {},
     "output_type": "execute_result"
    }
   ],
   "source": [
    "tre = tree.DecisionTreeRegressor()\n",
    "tre.fit(X_train, y_train)"
   ]
  },
  {
   "cell_type": "markdown",
   "metadata": {},
   "source": [
    "##### Ансамбль моделей -- регрессор голосования"
   ]
  },
  {
   "cell_type": "code",
   "execution_count": 54,
   "metadata": {},
   "outputs": [],
   "source": [
    "estimators=[('knn', knn_best), ('rf', rf_best), ('log', log), ('ada', ada), ('dec', tre), ('gaus', model), ('sgd', sgd)]\n",
    "ensemble = VotingClassifier(estimators, voting='hard')"
   ]
  },
  {
   "cell_type": "markdown",
   "metadata": {},
   "source": [
    "__Проверка результатов__"
   ]
  },
  {
   "cell_type": "code",
   "execution_count": 55,
   "metadata": {},
   "outputs": [
    {
     "data": {
      "text/plain": [
       "0.046"
      ]
     },
     "execution_count": 55,
     "metadata": {},
     "output_type": "execute_result"
    }
   ],
   "source": [
    "ensemble.fit(X_train, y_train)\n",
    "ensemble.score(X_test, y_test)"
   ]
  },
  {
   "cell_type": "markdown",
   "metadata": {},
   "source": [
    "__Проверка точности предыдущих моделей__"
   ]
  },
  {
   "cell_type": "code",
   "execution_count": 34,
   "metadata": {},
   "outputs": [],
   "source": [
    "from sklearn.metrics import accuracy_score"
   ]
  },
  {
   "cell_type": "code",
   "execution_count": 35,
   "metadata": {},
   "outputs": [],
   "source": [
    "def accuracy(model, X_test = X_test, y_test = y_test):\n",
    "    y_pred = model.predict(X_test)\n",
    "    return accuracy_score(y_test, y_pred)"
   ]
  },
  {
   "cell_type": "code",
   "execution_count": 42,
   "metadata": {},
   "outputs": [
    {
     "name": "stdout",
     "output_type": "stream",
     "text": [
      "KNN 0.024570862459284304\n",
      "RandomForest 0.07895576249155589\n",
      "Logistic 0.046\n",
      "SGD -2.9897434143987674e+25\n",
      "Ada 0.16120463487274206\n",
      "DecTree 0.04\n"
     ]
    }
   ],
   "source": [
    "print(\"KNN \" + str(knn_best.score(X_train, y_train)))\n",
    "print(\"RandomForest \" + str((rf_best.score(X_train, y_train))))\n",
    "print(\"Logistic \" + str(accuracy(log)))\n",
    "print(\"SGD \" + str(sgd.score(X_train, y_train)))\n",
    "print(\"Ada \" + str(ada.score(X_train, y_train)))\n",
    "print(\"DecTree \" + str(accuracy(tre)))"
   ]
  },
  {
   "cell_type": "code",
   "execution_count": 43,
   "metadata": {},
   "outputs": [
    {
     "name": "stdout",
     "output_type": "stream",
     "text": [
      "Средняя абсолютная ошибка: 5.310826944651101\n"
     ]
    }
   ],
   "source": [
    "# Ошибка модели RF\n",
    "dif = np.abs(y_test - rf_best.predict(X_test)).mean()\n",
    "print(\"Средняя абсолютная ошибка: \" + str(dif))"
   ]
  },
  {
   "cell_type": "markdown",
   "metadata": {},
   "source": [
    "### Результат регрессоров sklearn\n",
    "Лучшей моделью оказался: RandomForestRegressor(n_estimators = 5000, max_deph = 3)\n",
    "\n",
    "Точность: 0.07895576249155589\n",
    "\n",
    "Ошибка: 5.310826944651101"
   ]
  },
  {
   "cell_type": "markdown",
   "metadata": {},
   "source": [
    "## Проверка ошибки -- средняя абсолютная ошибка"
   ]
  },
  {
   "cell_type": "code",
   "execution_count": 36,
   "metadata": {},
   "outputs": [],
   "source": [
    "def dif(model, X_test = X_test, y_test = y_test):\n",
    "    ans = np.abs(y_test - rf_best.predict(X_test)).mean()\n",
    "    print(\"Средняя абсолютная ошибка: \" + str(ans))\n",
    "    return ans"
   ]
  },
  {
   "cell_type": "markdown",
   "metadata": {},
   "source": [
    "## Тренировка лучшей модели регрессии RandomForestRegressor"
   ]
  },
  {
   "cell_type": "markdown",
   "metadata": {},
   "source": [
    "### Подбор параметров\n",
    "__Изначальные параметры__:\n",
    "- n_estimators = 5000\n",
    "- max_deph = 5\n",
    "- max_features = кол-во признаков\n",
    "- n_jobs = -1"
   ]
  },
  {
   "cell_type": "markdown",
   "metadata": {},
   "source": [
    "#### Проверка параметра n_estimators"
   ]
  },
  {
   "cell_type": "code",
   "execution_count": 16,
   "metadata": {
    "tags": []
   },
   "outputs": [
    {
     "name": "stdout",
     "output_type": "stream",
     "text": [
      "Fitting 5 folds for each of 8 candidates, totalling 40 fits\n",
      "{'max_depth': 5, 'max_features': 300, 'min_samples_leaf': 5, 'min_samples_split': 20, 'n_estimators': 5000, 'n_jobs': -1}\n"
     ]
    }
   ],
   "source": [
    "rf_Best_n = RandomForestRegressor()\n",
    "params_rf_Best_n = {'n_estimators': [5000], 'max_depth' : [5], 'max_features' : [100, 300], 'min_samples_split' : [2, 20], 'min_samples_leaf' : [1, 5], 'n_jobs' : [-1]}\n",
    "rf_gs_Best_n = GridSearchCV(rf_Best_n, params_rf_Best_n, cv=5, n_jobs=-1, verbose=2)\n",
    "rf_gs_Best_n.fit(X_train, y_train)\n",
    "\n",
    "rf_best_Best_n = rf_gs_Best_n.best_estimator_\n",
    "print(rf_gs_Best_n.best_params_)"
   ]
  },
  {
   "cell_type": "code",
   "execution_count": 17,
   "metadata": {},
   "outputs": [
    {
     "name": "stdout",
     "output_type": "stream",
     "text": [
      "5.059807361011329\n"
     ]
    }
   ],
   "source": [
    "print(np.abs(y - rf_best_Best_n.predict(Correct_Matrix)).mean())"
   ]
  },
  {
   "cell_type": "code",
   "execution_count": 19,
   "metadata": {},
   "outputs": [
    {
     "name": "stdout",
     "output_type": "stream",
     "text": [
      "Fitting 5 folds for each of 2 candidates, totalling 10 fits\n",
      "{'max_depth': 5, 'max_features': 300, 'min_samples_leaf': 5, 'min_samples_split': 20, 'n_estimators': 5000, 'n_jobs': -1}\n"
     ]
    }
   ],
   "source": [
    "rf_Best_n = RandomForestRegressor()\n",
    "params_rf_Best_n = {'n_estimators': [5000], 'max_depth' : [2, 5], 'max_features' : [300], \n",
    "                    'min_samples_split' : [20], 'min_samples_leaf' : [5], 'n_jobs' : [-1]}\n",
    "rf_gs_Best_n1 = GridSearchCV(rf_Best_n, params_rf_Best_n, cv=5, n_jobs=-1, verbose=2)\n",
    "rf_gs_Best_n1.fit(X_train, y_train)\n",
    "\n",
    "rf_best_deph = rf_gs_Best_n1.best_estimator_\n",
    "print(rf_gs_Best_n1.best_params_)"
   ]
  },
  {
   "cell_type": "code",
   "execution_count": 20,
   "metadata": {},
   "outputs": [
    {
     "name": "stdout",
     "output_type": "stream",
     "text": [
      "5.060724215492922\n"
     ]
    }
   ],
   "source": [
    "print(np.abs(y - rf_best_deph.predict(Correct_Matrix)).mean())"
   ]
  },
  {
   "cell_type": "code",
   "execution_count": null,
   "metadata": {},
   "outputs": [
    {
     "name": "stdout",
     "output_type": "stream",
     "text": [
      "Fitting 5 folds for each of 4 candidates, totalling 20 fits\n"
     ]
    }
   ],
   "source": [
    "rf_Best_n = RandomForestRegressor()\n",
    "params_rf_Best_n = {'n_estimators': [5000], 'max_depth' : [5], 'max_features' : [300], \n",
    "                    'min_samples_split' : [20, 30], 'min_samples_leaf' : [10, 20], 'n_jobs' : [-1]}\n",
    "rf_gs_Best_n1 = GridSearchCV(rf_Best_n, params_rf_Best_n, cv=5, n_jobs=-1, verbose=2)\n",
    "rf_gs_Best_n1.fit(X_train, y_train)\n",
    "\n",
    "rf_best_deph = rf_gs_Best_n1.best_estimator_\n",
    "print(rf_gs_Best_n1.best_params_)"
   ]
  },
  {
   "cell_type": "code",
   "execution_count": 25,
   "metadata": {},
   "outputs": [
    {
     "name": "stdout",
     "output_type": "stream",
     "text": [
      "5.057996233178779\n"
     ]
    }
   ],
   "source": [
    "print(np.abs(y - rf_best_deph.predict(Correct_Matrix)).mean())"
   ]
  },
  {
   "cell_type": "markdown",
   "metadata": {},
   "source": [
    "### Результат тестирования (начало в 12:46 -- конец в 15:21)\n",
    "\n",
    "__Лучшая модель__\n",
    "\n",
    "- {'max_depth': 5, 'max_features': 300, 'min_samples_leaf': 5, 'min_samples_split': 20, 'n_estimators': 5000, 'n_jobs': -1}"
   ]
  },
  {
   "cell_type": "markdown",
   "metadata": {},
   "source": [
    "## Проверка других моделей регрессии(например, МНК)\n",
    "\n",
    "На степенях полинома $\\ge 7$ невозможно найти параметры, ошибка становится очень большой, порядка $10^{12}$"
   ]
  },
  {
   "cell_type": "code",
   "execution_count": 40,
   "metadata": {},
   "outputs": [],
   "source": [
    "from scipy.optimize import curve_fit"
   ]
  },
  {
   "cell_type": "code",
   "execution_count": 51,
   "metadata": {},
   "outputs": [],
   "source": [
    "l = 200  + 1 # кол-во признаков(при проверке проверялись 42 признака)"
   ]
  },
  {
   "cell_type": "code",
   "execution_count": 52,
   "metadata": {
    "collapsed": true,
    "jupyter": {
     "outputs_hidden": true
    },
    "tags": []
   },
   "outputs": [
    {
     "name": "stdout",
     "output_type": "stream",
     "text": [
      "a1, a2, a3, a4, a5, a6, a7, a8, a9, a10, a11, a12, a13, a14, a15, a16, a17, a18, a19, a20, a21, a22, a23, a24, a25, a26, a27, a28, a29, a30, a31, a32, a33, a34, a35, a36, a37, a38, a39, a40, a41, a42, a43, a44, a45, a46, a47, a48, a49, a50, a51, a52, a53, a54, a55, a56, a57, a58, a59, a60, a61, a62, a63, a64, a65, a66, a67, a68, a69, a70, a71, a72, a73, a74, a75, a76, a77, a78, a79, a80, a81, a82, a83, a84, a85, a86, a87, a88, a89, a90, a91, a92, a93, a94, a95, a96, a97, a98, a99, a100, a101, a102, a103, a104, a105, a106, a107, a108, a109, a110, a111, a112, a113, a114, a115, a116, a117, a118, a119, a120, a121, a122, a123, a124, a125, a126, a127, a128, a129, a130, a131, a132, a133, a134, a135, a136, a137, a138, a139, a140, a141, a142, a143, a144, a145, a146, a147, a148, a149, a150, a151, a152, a153, a154, a155, a156, a157, a158, a159, a160, a161, a162, a163, a164, a165, a166, a167, a168, a169, a170, a171, a172, a173, a174, a175, a176, a177, a178, a179, a180, a181, a182, a183, a184, a185, a186, a187, a188, a189, a190, a191, a192, a193, a194, a195, a196, a197, a198, a199, a200, b1, b2, b3, b4, b5, b6, b7, b8, b9, b10, b11, b12, b13, b14, b15, b16, b17, b18, b19, b20, b21, b22, b23, b24, b25, b26, b27, b28, b29, b30, b31, b32, b33, b34, b35, b36, b37, b38, b39, b40, b41, b42, b43, b44, b45, b46, b47, b48, b49, b50, b51, b52, b53, b54, b55, b56, b57, b58, b59, b60, b61, b62, b63, b64, b65, b66, b67, b68, b69, b70, b71, b72, b73, b74, b75, b76, b77, b78, b79, b80, b81, b82, b83, b84, b85, b86, b87, b88, b89, b90, b91, b92, b93, b94, b95, b96, b97, b98, b99, b100, b101, b102, b103, b104, b105, b106, b107, b108, b109, b110, b111, b112, b113, b114, b115, b116, b117, b118, b119, b120, b121, b122, b123, b124, b125, b126, b127, b128, b129, b130, b131, b132, b133, b134, b135, b136, b137, b138, b139, b140, b141, b142, b143, b144, b145, b146, b147, b148, b149, b150, b151, b152, b153, b154, b155, b156, b157, b158, b159, b160, b161, b162, b163, b164, b165, b166, b167, b168, b169, b170, b171, b172, b173, b174, b175, b176, b177, b178, b179, b180, b181, b182, b183, b184, b185, b186, b187, b188, b189, b190, b191, b192, b193, b194, b195, b196, b197, b198, b199, b200, c1, c2, c3, c4, c5, c6, c7, c8, c9, c10, c11, c12, c13, c14, c15, c16, c17, c18, c19, c20, c21, c22, c23, c24, c25, c26, c27, c28, c29, c30, c31, c32, c33, c34, c35, c36, c37, c38, c39, c40, c41, c42, c43, c44, c45, c46, c47, c48, c49, c50, c51, c52, c53, c54, c55, c56, c57, c58, c59, c60, c61, c62, c63, c64, c65, c66, c67, c68, c69, c70, c71, c72, c73, c74, c75, c76, c77, c78, c79, c80, c81, c82, c83, c84, c85, c86, c87, c88, c89, c90, c91, c92, c93, c94, c95, c96, c97, c98, c99, c100, c101, c102, c103, c104, c105, c106, c107, c108, c109, c110, c111, c112, c113, c114, c115, c116, c117, c118, c119, c120, c121, c122, c123, c124, c125, c126, c127, c128, c129, c130, c131, c132, c133, c134, c135, c136, c137, c138, c139, c140, c141, c142, c143, c144, c145, c146, c147, c148, c149, c150, c151, c152, c153, c154, c155, c156, c157, c158, c159, c160, c161, c162, c163, c164, c165, c166, c167, c168, c169, c170, c171, c172, c173, c174, c175, c176, c177, c178, c179, c180, c181, c182, c183, c184, c185, c186, c187, c188, c189, c190, c191, c192, c193, c194, c195, c196, c197, c198, c199, c200, a1*X[:,0] + a2*X[:,1] + a3*X[:,2] + a4*X[:,3] + a5*X[:,4] + a6*X[:,5] + a7*X[:,6] + a8*X[:,7] + a9*X[:,8] + a10*X[:,9] + a11*X[:,10] + a12*X[:,11] + a13*X[:,12] + a14*X[:,13] + a15*X[:,14] + a16*X[:,15] + a17*X[:,16] + a18*X[:,17] + a19*X[:,18] + a20*X[:,19] + a21*X[:,20] + a22*X[:,21] + a23*X[:,22] + a24*X[:,23] + a25*X[:,24] + a26*X[:,25] + a27*X[:,26] + a28*X[:,27] + a29*X[:,28] + a30*X[:,29] + a31*X[:,30] + a32*X[:,31] + a33*X[:,32] + a34*X[:,33] + a35*X[:,34] + a36*X[:,35] + a37*X[:,36] + a38*X[:,37] + a39*X[:,38] + a40*X[:,39] + a41*X[:,40] + a42*X[:,41] + a43*X[:,42] + a44*X[:,43] + a45*X[:,44] + a46*X[:,45] + a47*X[:,46] + a48*X[:,47] + a49*X[:,48] + a50*X[:,49] + a51*X[:,50] + a52*X[:,51] + a53*X[:,52] + a54*X[:,53] + a55*X[:,54] + a56*X[:,55] + a57*X[:,56] + a58*X[:,57] + a59*X[:,58] + a60*X[:,59] + a61*X[:,60] + a62*X[:,61] + a63*X[:,62] + a64*X[:,63] + a65*X[:,64] + a66*X[:,65] + a67*X[:,66] + a68*X[:,67] + a69*X[:,68] + a70*X[:,69] + a71*X[:,70] + a72*X[:,71] + a73*X[:,72] + a74*X[:,73] + a75*X[:,74] + a76*X[:,75] + a77*X[:,76] + a78*X[:,77] + a79*X[:,78] + a80*X[:,79] + a81*X[:,80] + a82*X[:,81] + a83*X[:,82] + a84*X[:,83] + a85*X[:,84] + a86*X[:,85] + a87*X[:,86] + a88*X[:,87] + a89*X[:,88] + a90*X[:,89] + a91*X[:,90] + a92*X[:,91] + a93*X[:,92] + a94*X[:,93] + a95*X[:,94] + a96*X[:,95] + a97*X[:,96] + a98*X[:,97] + a99*X[:,98] + a100*X[:,99] + a101*X[:,100] + a102*X[:,101] + a103*X[:,102] + a104*X[:,103] + a105*X[:,104] + a106*X[:,105] + a107*X[:,106] + a108*X[:,107] + a109*X[:,108] + a110*X[:,109] + a111*X[:,110] + a112*X[:,111] + a113*X[:,112] + a114*X[:,113] + a115*X[:,114] + a116*X[:,115] + a117*X[:,116] + a118*X[:,117] + a119*X[:,118] + a120*X[:,119] + a121*X[:,120] + a122*X[:,121] + a123*X[:,122] + a124*X[:,123] + a125*X[:,124] + a126*X[:,125] + a127*X[:,126] + a128*X[:,127] + a129*X[:,128] + a130*X[:,129] + a131*X[:,130] + a132*X[:,131] + a133*X[:,132] + a134*X[:,133] + a135*X[:,134] + a136*X[:,135] + a137*X[:,136] + a138*X[:,137] + a139*X[:,138] + a140*X[:,139] + a141*X[:,140] + a142*X[:,141] + a143*X[:,142] + a144*X[:,143] + a145*X[:,144] + a146*X[:,145] + a147*X[:,146] + a148*X[:,147] + a149*X[:,148] + a150*X[:,149] + a151*X[:,150] + a152*X[:,151] + a153*X[:,152] + a154*X[:,153] + a155*X[:,154] + a156*X[:,155] + a157*X[:,156] + a158*X[:,157] + a159*X[:,158] + a160*X[:,159] + a161*X[:,160] + a162*X[:,161] + a163*X[:,162] + a164*X[:,163] + a165*X[:,164] + a166*X[:,165] + a167*X[:,166] + a168*X[:,167] + a169*X[:,168] + a170*X[:,169] + a171*X[:,170] + a172*X[:,171] + a173*X[:,172] + a174*X[:,173] + a175*X[:,174] + a176*X[:,175] + a177*X[:,176] + a178*X[:,177] + a179*X[:,178] + a180*X[:,179] + a181*X[:,180] + a182*X[:,181] + a183*X[:,182] + a184*X[:,183] + a185*X[:,184] + a186*X[:,185] + a187*X[:,186] + a188*X[:,187] + a189*X[:,188] + a190*X[:,189] + a191*X[:,190] + a192*X[:,191] + a193*X[:,192] + a194*X[:,193] + a195*X[:,194] + a196*X[:,195] + a197*X[:,196] + a198*X[:,197] + a199*X[:,198] + a200*X[:,199] + b1*X[:,0]**2 + b2*X[:,1]**2 + b3*X[:,2]**2 + b4*X[:,3]**2 + b5*X[:,4]**2 + b6*X[:,5]**2 + b7*X[:,6]**2 + b8*X[:,7]**2 + b9*X[:,8]**2 + b10*X[:,9]**2 + b11*X[:,10]**2 + b12*X[:,11]**2 + b13*X[:,12]**2 + b14*X[:,13]**2 + b15*X[:,14]**2 + b16*X[:,15]**2 + b17*X[:,16]**2 + b18*X[:,17]**2 + b19*X[:,18]**2 + b20*X[:,19]**2 + b21*X[:,20]**2 + b22*X[:,21]**2 + b23*X[:,22]**2 + b24*X[:,23]**2 + b25*X[:,24]**2 + b26*X[:,25]**2 + b27*X[:,26]**2 + b28*X[:,27]**2 + b29*X[:,28]**2 + b30*X[:,29]**2 + b31*X[:,30]**2 + b32*X[:,31]**2 + b33*X[:,32]**2 + b34*X[:,33]**2 + b35*X[:,34]**2 + b36*X[:,35]**2 + b37*X[:,36]**2 + b38*X[:,37]**2 + b39*X[:,38]**2 + b40*X[:,39]**2 + b41*X[:,40]**2 + b42*X[:,41]**2 + b43*X[:,42]**2 + b44*X[:,43]**2 + b45*X[:,44]**2 + b46*X[:,45]**2 + b47*X[:,46]**2 + b48*X[:,47]**2 + b49*X[:,48]**2 + b50*X[:,49]**2 + b51*X[:,50]**2 + b52*X[:,51]**2 + b53*X[:,52]**2 + b54*X[:,53]**2 + b55*X[:,54]**2 + b56*X[:,55]**2 + b57*X[:,56]**2 + b58*X[:,57]**2 + b59*X[:,58]**2 + b60*X[:,59]**2 + b61*X[:,60]**2 + b62*X[:,61]**2 + b63*X[:,62]**2 + b64*X[:,63]**2 + b65*X[:,64]**2 + b66*X[:,65]**2 + b67*X[:,66]**2 + b68*X[:,67]**2 + b69*X[:,68]**2 + b70*X[:,69]**2 + b71*X[:,70]**2 + b72*X[:,71]**2 + b73*X[:,72]**2 + b74*X[:,73]**2 + b75*X[:,74]**2 + b76*X[:,75]**2 + b77*X[:,76]**2 + b78*X[:,77]**2 + b79*X[:,78]**2 + b80*X[:,79]**2 + b81*X[:,80]**2 + b82*X[:,81]**2 + b83*X[:,82]**2 + b84*X[:,83]**2 + b85*X[:,84]**2 + b86*X[:,85]**2 + b87*X[:,86]**2 + b88*X[:,87]**2 + b89*X[:,88]**2 + b90*X[:,89]**2 + b91*X[:,90]**2 + b92*X[:,91]**2 + b93*X[:,92]**2 + b94*X[:,93]**2 + b95*X[:,94]**2 + b96*X[:,95]**2 + b97*X[:,96]**2 + b98*X[:,97]**2 + b99*X[:,98]**2 + b100*X[:,99]**2 + b101*X[:,100]**2 + b102*X[:,101]**2 + b103*X[:,102]**2 + b104*X[:,103]**2 + b105*X[:,104]**2 + b106*X[:,105]**2 + b107*X[:,106]**2 + b108*X[:,107]**2 + b109*X[:,108]**2 + b110*X[:,109]**2 + b111*X[:,110]**2 + b112*X[:,111]**2 + b113*X[:,112]**2 + b114*X[:,113]**2 + b115*X[:,114]**2 + b116*X[:,115]**2 + b117*X[:,116]**2 + b118*X[:,117]**2 + b119*X[:,118]**2 + b120*X[:,119]**2 + b121*X[:,120]**2 + b122*X[:,121]**2 + b123*X[:,122]**2 + b124*X[:,123]**2 + b125*X[:,124]**2 + b126*X[:,125]**2 + b127*X[:,126]**2 + b128*X[:,127]**2 + b129*X[:,128]**2 + b130*X[:,129]**2 + b131*X[:,130]**2 + b132*X[:,131]**2 + b133*X[:,132]**2 + b134*X[:,133]**2 + b135*X[:,134]**2 + b136*X[:,135]**2 + b137*X[:,136]**2 + b138*X[:,137]**2 + b139*X[:,138]**2 + b140*X[:,139]**2 + b141*X[:,140]**2 + b142*X[:,141]**2 + b143*X[:,142]**2 + b144*X[:,143]**2 + b145*X[:,144]**2 + b146*X[:,145]**2 + b147*X[:,146]**2 + b148*X[:,147]**2 + b149*X[:,148]**2 + b150*X[:,149]**2 + b151*X[:,150]**2 + b152*X[:,151]**2 + b153*X[:,152]**2 + b154*X[:,153]**2 + b155*X[:,154]**2 + b156*X[:,155]**2 + b157*X[:,156]**2 + b158*X[:,157]**2 + b159*X[:,158]**2 + b160*X[:,159]**2 + b161*X[:,160]**2 + b162*X[:,161]**2 + b163*X[:,162]**2 + b164*X[:,163]**2 + b165*X[:,164]**2 + b166*X[:,165]**2 + b167*X[:,166]**2 + b168*X[:,167]**2 + b169*X[:,168]**2 + b170*X[:,169]**2 + b171*X[:,170]**2 + b172*X[:,171]**2 + b173*X[:,172]**2 + b174*X[:,173]**2 + b175*X[:,174]**2 + b176*X[:,175]**2 + b177*X[:,176]**2 + b178*X[:,177]**2 + b179*X[:,178]**2 + b180*X[:,179]**2 + b181*X[:,180]**2 + b182*X[:,181]**2 + b183*X[:,182]**2 + b184*X[:,183]**2 + b185*X[:,184]**2 + b186*X[:,185]**2 + b187*X[:,186]**2 + b188*X[:,187]**2 + b189*X[:,188]**2 + b190*X[:,189]**2 + b191*X[:,190]**2 + b192*X[:,191]**2 + b193*X[:,192]**2 + b194*X[:,193]**2 + b195*X[:,194]**2 + b196*X[:,195]**2 + b197*X[:,196]**2 + b198*X[:,197]**2 + b199*X[:,198]**2 + b200*X[:,199]**2 + c1*X[:,0]**3 + c2*X[:,1]**3 + c3*X[:,2]**3 + c4*X[:,3]**3 + c5*X[:,4]**3 + c6*X[:,5]**3 + c7*X[:,6]**3 + c8*X[:,7]**3 + c9*X[:,8]**3 + c10*X[:,9]**3 + c11*X[:,10]**3 + c12*X[:,11]**3 + c13*X[:,12]**3 + c14*X[:,13]**3 + c15*X[:,14]**3 + c16*X[:,15]**3 + c17*X[:,16]**3 + c18*X[:,17]**3 + c19*X[:,18]**3 + c20*X[:,19]**3 + c21*X[:,20]**3 + c22*X[:,21]**3 + c23*X[:,22]**3 + c24*X[:,23]**3 + c25*X[:,24]**3 + c26*X[:,25]**3 + c27*X[:,26]**3 + c28*X[:,27]**3 + c29*X[:,28]**3 + c30*X[:,29]**3 + c31*X[:,30]**3 + c32*X[:,31]**3 + c33*X[:,32]**3 + c34*X[:,33]**3 + c35*X[:,34]**3 + c36*X[:,35]**3 + c37*X[:,36]**3 + c38*X[:,37]**3 + c39*X[:,38]**3 + c40*X[:,39]**3 + c41*X[:,40]**3 + c42*X[:,41]**3 + c43*X[:,42]**3 + c44*X[:,43]**3 + c45*X[:,44]**3 + c46*X[:,45]**3 + c47*X[:,46]**3 + c48*X[:,47]**3 + c49*X[:,48]**3 + c50*X[:,49]**3 + c51*X[:,50]**3 + c52*X[:,51]**3 + c53*X[:,52]**3 + c54*X[:,53]**3 + c55*X[:,54]**3 + c56*X[:,55]**3 + c57*X[:,56]**3 + c58*X[:,57]**3 + c59*X[:,58]**3 + c60*X[:,59]**3 + c61*X[:,60]**3 + c62*X[:,61]**3 + c63*X[:,62]**3 + c64*X[:,63]**3 + c65*X[:,64]**3 + c66*X[:,65]**3 + c67*X[:,66]**3 + c68*X[:,67]**3 + c69*X[:,68]**3 + c70*X[:,69]**3 + c71*X[:,70]**3 + c72*X[:,71]**3 + c73*X[:,72]**3 + c74*X[:,73]**3 + c75*X[:,74]**3 + c76*X[:,75]**3 + c77*X[:,76]**3 + c78*X[:,77]**3 + c79*X[:,78]**3 + c80*X[:,79]**3 + c81*X[:,80]**3 + c82*X[:,81]**3 + c83*X[:,82]**3 + c84*X[:,83]**3 + c85*X[:,84]**3 + c86*X[:,85]**3 + c87*X[:,86]**3 + c88*X[:,87]**3 + c89*X[:,88]**3 + c90*X[:,89]**3 + c91*X[:,90]**3 + c92*X[:,91]**3 + c93*X[:,92]**3 + c94*X[:,93]**3 + c95*X[:,94]**3 + c96*X[:,95]**3 + c97*X[:,96]**3 + c98*X[:,97]**3 + c99*X[:,98]**3 + c100*X[:,99]**3 + c101*X[:,100]**3 + c102*X[:,101]**3 + c103*X[:,102]**3 + c104*X[:,103]**3 + c105*X[:,104]**3 + c106*X[:,105]**3 + c107*X[:,106]**3 + c108*X[:,107]**3 + c109*X[:,108]**3 + c110*X[:,109]**3 + c111*X[:,110]**3 + c112*X[:,111]**3 + c113*X[:,112]**3 + c114*X[:,113]**3 + c115*X[:,114]**3 + c116*X[:,115]**3 + c117*X[:,116]**3 + c118*X[:,117]**3 + c119*X[:,118]**3 + c120*X[:,119]**3 + c121*X[:,120]**3 + c122*X[:,121]**3 + c123*X[:,122]**3 + c124*X[:,123]**3 + c125*X[:,124]**3 + c126*X[:,125]**3 + c127*X[:,126]**3 + c128*X[:,127]**3 + c129*X[:,128]**3 + c130*X[:,129]**3 + c131*X[:,130]**3 + c132*X[:,131]**3 + c133*X[:,132]**3 + c134*X[:,133]**3 + c135*X[:,134]**3 + c136*X[:,135]**3 + c137*X[:,136]**3 + c138*X[:,137]**3 + c139*X[:,138]**3 + c140*X[:,139]**3 + c141*X[:,140]**3 + c142*X[:,141]**3 + c143*X[:,142]**3 + c144*X[:,143]**3 + c145*X[:,144]**3 + c146*X[:,145]**3 + c147*X[:,146]**3 + c148*X[:,147]**3 + c149*X[:,148]**3 + c150*X[:,149]**3 + c151*X[:,150]**3 + c152*X[:,151]**3 + c153*X[:,152]**3 + c154*X[:,153]**3 + c155*X[:,154]**3 + c156*X[:,155]**3 + c157*X[:,156]**3 + c158*X[:,157]**3 + c159*X[:,158]**3 + c160*X[:,159]**3 + c161*X[:,160]**3 + c162*X[:,161]**3 + c163*X[:,162]**3 + c164*X[:,163]**3 + c165*X[:,164]**3 + c166*X[:,165]**3 + c167*X[:,166]**3 + c168*X[:,167]**3 + c169*X[:,168]**3 + c170*X[:,169]**3 + c171*X[:,170]**3 + c172*X[:,171]**3 + c173*X[:,172]**3 + c174*X[:,173]**3 + c175*X[:,174]**3 + c176*X[:,175]**3 + c177*X[:,176]**3 + c178*X[:,177]**3 + c179*X[:,178]**3 + c180*X[:,179]**3 + c181*X[:,180]**3 + c182*X[:,181]**3 + c183*X[:,182]**3 + c184*X[:,183]**3 + c185*X[:,184]**3 + c186*X[:,185]**3 + c187*X[:,186]**3 + c188*X[:,187]**3 + c189*X[:,188]**3 + c190*X[:,189]**3 + c191*X[:,190]**3 + c192*X[:,191]**3 + c193*X[:,192]**3 + c194*X[:,193]**3 + c195*X[:,194]**3 + c196*X[:,195]**3 + c197*X[:,196]**3 + c198*X[:,197]**3 + c199*X[:,198]**3 + c200*X[:,199]**3 + "
     ]
    }
   ],
   "source": [
    "# 1-ая степень\n",
    "for i in range(1, l):\n",
    "    print('a'+str(i)+', ', end='')\n",
    "# 2-ая степень\n",
    "for i in range(1, l):\n",
    "    print('b'+str(i)+', ', end='')\n",
    "# 3-ья степень\n",
    "for i in range(1, l):\n",
    "    print('c'+str(i)+', ', end='')\n",
    "# 4-ая степень\n",
    "#for i in range(1, l):\n",
    "#    print('d'+str(i)+', ', end='')\n",
    "# 5-ая степень\n",
    "#for i in range(1, l):\n",
    "#    print('e'+str(i)+', ', end='')\n",
    "# 6-ая степень\n",
    "#for i in range(1, l):\n",
    "#    print('f'+str(i)+', ', end='')\n",
    "\n",
    "for i in range(1, l):\n",
    "    print('a'+str(i)+'*X[:,'+str(i-1)+'] + ', end='')\n",
    "for i in range(1, l):\n",
    "    print('b'+str(i)+'*X[:,'+str(i-1)+']**2 + ', end='')\n",
    "for i in range(1, l):\n",
    "    print('c'+str(i)+'*X[:,'+str(i-1)+']**3 + ', end='')\n",
    "#for i in range(1, l):\n",
    "#    print('d'+str(i)+'*X[:,'+str(i-1)+']**4 + ', end='')\n",
    "#for i in range(1, l):\n",
    "#    print('e'+str(i)+'*X[:,'+str(i-1)+']**5 + ', end='')\n",
    "#for i in range(1, l):\n",
    "#    print('f'+str(i)+'*X[:,'+str(i-1)+']**6 + ', end='')"
   ]
  },
  {
   "cell_type": "code",
   "execution_count": 54,
   "metadata": {
    "tags": []
   },
   "outputs": [],
   "source": [
    "def f(X, a1, a2, a3, a4, a5, a6, a7, a8, a9, a10, a11, a12, a13, a14, a15, a16, a17, a18, a19, a20, a21, a22, a23, a24, a25, a26, a27, a28, a29, a30, a31, a32, a33, a34, a35, a36, a37, a38, a39, a40, a41, a42, a43, a44, a45, a46, a47, a48, a49, a50, a51, a52, a53, a54, a55, a56, a57, a58, a59, a60, a61, a62, a63, a64, a65, a66, a67, a68, a69, a70, a71, a72, a73, a74, a75, a76, a77, a78, a79, a80, a81, a82, a83, a84, a85, a86, a87, a88, a89, a90, a91, a92, a93, a94, a95, a96, a97, a98, a99, a100, a101, a102, a103, a104, a105, a106, a107, a108, a109, a110, a111, a112, a113, a114, a115, a116, a117, a118, a119, a120, a121, a122, a123, a124, a125, a126, a127, a128, a129, a130, a131, a132, a133, a134, a135, a136, a137, a138, a139, a140, a141, a142, a143, a144, a145, a146, a147, a148, a149, a150, a151, a152, a153, a154, a155, a156, a157, a158, a159, a160, a161, a162, a163, a164, a165, a166, a167, a168, a169, a170, a171, a172, a173, a174, a175, a176, a177, a178, a179, a180, a181, a182, a183, a184, a185, a186, a187, a188, a189, a190, a191, a192, a193, a194, a195, a196, a197, a198, a199, a200, b1, b2, b3, b4, b5, b6, b7, b8, b9, b10, b11, b12, b13, b14, b15, b16, b17, b18, b19, b20, b21, b22, b23, b24, b25, b26, b27, b28, b29, b30, b31, b32, b33, b34, b35, b36, b37, b38, b39, b40, b41, b42, b43, b44, b45, b46, b47, b48, b49, b50, b51, b52, b53, b54, b55, b56, b57, b58, b59, b60, b61, b62, b63, b64, b65, b66, b67, b68, b69, b70, b71, b72, b73, b74, b75, b76, b77, b78, b79, b80, b81, b82, b83, b84, b85, b86, b87, b88, b89, b90, b91, b92, b93, b94, b95, b96, b97, b98, b99, b100, b101, b102, b103, b104, b105, b106, b107, b108, b109, b110, b111, b112, b113, b114, b115, b116, b117, b118, b119, b120, b121, b122, b123, b124, b125, b126, b127, b128, b129, b130, b131, b132, b133, b134, b135, b136, b137, b138, b139, b140, b141, b142, b143, b144, b145, b146, b147, b148, b149, b150, b151, b152, b153, b154, b155, b156, b157, b158, b159, b160, b161, b162, b163, b164, b165, b166, b167, b168, b169, b170, b171, b172, b173, b174, b175, b176, b177, b178, b179, b180, b181, b182, b183, b184, b185, b186, b187, b188, b189, b190, b191, b192, b193, b194, b195, b196, b197, b198, b199, b200, c1, c2, c3, c4, c5, c6, c7, c8, c9, c10, c11, c12, c13, c14, c15, c16, c17, c18, c19, c20, c21, c22, c23, c24, c25, c26, c27, c28, c29, c30, c31, c32, c33, c34, c35, c36, c37, c38, c39, c40, c41, c42, c43, c44, c45, c46, c47, c48, c49, c50, c51, c52, c53, c54, c55, c56, c57, c58, c59, c60, c61, c62, c63, c64, c65, c66, c67, c68, c69, c70, c71, c72, c73, c74, c75, c76, c77, c78, c79, c80, c81, c82, c83, c84, c85, c86, c87, c88, c89, c90, c91, c92, c93, c94, c95, c96, c97, c98, c99, c100, c101, c102, c103, c104, c105, c106, c107, c108, c109, c110, c111, c112, c113, c114, c115, c116, c117, c118, c119, c120, c121, c122, c123, c124, c125, c126, c127, c128, c129, c130, c131, c132, c133, c134, c135, c136, c137, c138, c139, c140, c141, c142, c143, c144, c145, c146, c147, c148, c149, c150, c151, c152, c153, c154, c155, c156, c157, c158, c159, c160, c161, c162, c163, c164, c165, c166, c167, c168, c169, c170, c171, c172, c173, c174, c175, c176, c177, c178, c179, c180, c181, c182, c183, c184, c185, c186, c187, c188, c189, c190, c191, c192, c193, c194, c195, c196, c197, c198, c199, c200,\n",
    "      m):\n",
    "    return (a1*X[:,0] + a2*X[:,1] + a3*X[:,2] + a4*X[:,3] + a5*X[:,4] + a6*X[:,5] + a7*X[:,6] + a8*X[:,7] + a9*X[:,8] + a10*X[:,9] + a11*X[:,10] + a12*X[:,11] + a13*X[:,12] + a14*X[:,13] + a15*X[:,14] + a16*X[:,15] + a17*X[:,16] + a18*X[:,17] + a19*X[:,18] + a20*X[:,19] + a21*X[:,20] + a22*X[:,21] + a23*X[:,22] + a24*X[:,23] + a25*X[:,24] + a26*X[:,25] + a27*X[:,26] + \n",
    "            a28*X[:,27] + a29*X[:,28] + a30*X[:,29] + a31*X[:,30] + a32*X[:,31] + a33*X[:,32] + a34*X[:,33] + a35*X[:,34] + a36*X[:,35] + a37*X[:,36] + a38*X[:,37] + a39*X[:,38] + a40*X[:,39] + a41*X[:,40] + a42*X[:,41] + a43*X[:,42] + a44*X[:,43] + a45*X[:,44] + a46*X[:,45] + a47*X[:,46] + a48*X[:,47] + a49*X[:,48] + a50*X[:,49] + a51*X[:,50] + a52*X[:,51] + a53*X[:,52] + a54*X[:,53] + a55*X[:,54] + a56*X[:,55] + a57*X[:,56] + a58*X[:,57] + a59*X[:,58] + a60*X[:,59] + a61*X[:,60] + a62*X[:,61] + a63*X[:,62] + a64*X[:,63] + a65*X[:,64] + a66*X[:,65] + a67*X[:,66] + a68*X[:,67] + a69*X[:,68] + a70*X[:,69] + a71*X[:,70] + a72*X[:,71] + a73*X[:,72] + a74*X[:,73] + a75*X[:,74] + a76*X[:,75] + a77*X[:,76] + a78*X[:,77] + a79*X[:,78] + a80*X[:,79] + a81*X[:,80] + a82*X[:,81] + a83*X[:,82] + a84*X[:,83] + a85*X[:,84] + a86*X[:,85] + a87*X[:,86] + a88*X[:,87] + a89*X[:,88] + a90*X[:,89] + a91*X[:,90] + a92*X[:,91] + a93*X[:,92] + a94*X[:,93] + a95*X[:,94] + a96*X[:,95] + a97*X[:,96] + a98*X[:,97] + a99*X[:,98] + a100*X[:,99] + a101*X[:,100] + a102*X[:,101] + a103*X[:,102] + a104*X[:,103] + a105*X[:,104] + a106*X[:,105] + a107*X[:,106] + a108*X[:,107] + a109*X[:,108] + a110*X[:,109] + a111*X[:,110] + a112*X[:,111] + a113*X[:,112] + a114*X[:,113] + a115*X[:,114] + a116*X[:,115] + a117*X[:,116] + a118*X[:,117] + a119*X[:,118] + a120*X[:,119] + a121*X[:,120] + a122*X[:,121] + a123*X[:,122] + a124*X[:,123] + a125*X[:,124] + a126*X[:,125] + a127*X[:,126] + a128*X[:,127] + a129*X[:,128] + a130*X[:,129] + a131*X[:,130] + a132*X[:,131] + a133*X[:,132] + a134*X[:,133] + a135*X[:,134] + a136*X[:,135] + a137*X[:,136] + a138*X[:,137] + a139*X[:,138] + a140*X[:,139] + a141*X[:,140] + a142*X[:,141] + a143*X[:,142] + a144*X[:,143] + a145*X[:,144] + a146*X[:,145] + a147*X[:,146] + a148*X[:,147] + a149*X[:,148] + a150*X[:,149] + a151*X[:,150] + a152*X[:,151] + a153*X[:,152] + a154*X[:,153] + a155*X[:,154] + a156*X[:,155] + a157*X[:,156] + a158*X[:,157] + a159*X[:,158] + a160*X[:,159] + a161*X[:,160] + a162*X[:,161] + a163*X[:,162] + a164*X[:,163] + a165*X[:,164] + a166*X[:,165] + a167*X[:,166] + a168*X[:,167] + a169*X[:,168] + a170*X[:,169] + a171*X[:,170] + a172*X[:,171] + a173*X[:,172] + a174*X[:,173] + a175*X[:,174] + a176*X[:,175] + a177*X[:,176] + a178*X[:,177] + a179*X[:,178] + a180*X[:,179] + a181*X[:,180] + a182*X[:,181] + a183*X[:,182] + a184*X[:,183] + a185*X[:,184] + a186*X[:,185] + a187*X[:,186] + a188*X[:,187] + a189*X[:,188] + a190*X[:,189] + a191*X[:,190] + a192*X[:,191] + a193*X[:,192] + a194*X[:,193] + a195*X[:,194] + a196*X[:,195] + a197*X[:,196] + a198*X[:,197] + a199*X[:,198] + a200*X[:,199] + b1*X[:,0]**2 + b2*X[:,1]**2 + b3*X[:,2]**2 + b4*X[:,3]**2 + b5*X[:,4]**2 + b6*X[:,5]**2 + b7*X[:,6]**2 + b8*X[:,7]**2 + b9*X[:,8]**2 + b10*X[:,9]**2 + b11*X[:,10]**2 + b12*X[:,11]**2 + b13*X[:,12]**2 + b14*X[:,13]**2 + b15*X[:,14]**2 + b16*X[:,15]**2 + b17*X[:,16]**2 + b18*X[:,17]**2 + b19*X[:,18]**2 + b20*X[:,19]**2 + b21*X[:,20]**2 + b22*X[:,21]**2 + b23*X[:,22]**2 + b24*X[:,23]**2 + b25*X[:,24]**2 + b26*X[:,25]**2 + b27*X[:,26]**2 + b28*X[:,27]**2 + b29*X[:,28]**2 + b30*X[:,29]**2 + b31*X[:,30]**2 + b32*X[:,31]**2 + b33*X[:,32]**2 + b34*X[:,33]**2 + b35*X[:,34]**2 + b36*X[:,35]**2 + b37*X[:,36]**2 + b38*X[:,37]**2 + b39*X[:,38]**2 + b40*X[:,39]**2 + b41*X[:,40]**2 + b42*X[:,41]**2 + b43*X[:,42]**2 + b44*X[:,43]**2 + b45*X[:,44]**2 + b46*X[:,45]**2 + b47*X[:,46]**2 + b48*X[:,47]**2 + b49*X[:,48]**2 + b50*X[:,49]**2 + b51*X[:,50]**2 + b52*X[:,51]**2 + b53*X[:,52]**2 + b54*X[:,53]**2 + b55*X[:,54]**2 + b56*X[:,55]**2 + b57*X[:,56]**2 + b58*X[:,57]**2 + b59*X[:,58]**2 + b60*X[:,59]**2 + b61*X[:,60]**2 + b62*X[:,61]**2 + b63*X[:,62]**2 + b64*X[:,63]**2 + b65*X[:,64]**2 + b66*X[:,65]**2 + b67*X[:,66]**2 + b68*X[:,67]**2 + b69*X[:,68]**2 + b70*X[:,69]**2 + b71*X[:,70]**2 + b72*X[:,71]**2 + b73*X[:,72]**2 + b74*X[:,73]**2 + b75*X[:,74]**2 + b76*X[:,75]**2 + b77*X[:,76]**2 + b78*X[:,77]**2 + b79*X[:,78]**2 + b80*X[:,79]**2 + b81*X[:,80]**2 + b82*X[:,81]**2 + b83*X[:,82]**2 + b84*X[:,83]**2 + b85*X[:,84]**2 + b86*X[:,85]**2 + b87*X[:,86]**2 + b88*X[:,87]**2 + b89*X[:,88]**2 + b90*X[:,89]**2 + b91*X[:,90]**2 + b92*X[:,91]**2 + b93*X[:,92]**2 + b94*X[:,93]**2 + b95*X[:,94]**2 + b96*X[:,95]**2 + b97*X[:,96]**2 + b98*X[:,97]**2 + b99*X[:,98]**2 + b100*X[:,99]**2 + b101*X[:,100]**2 + b102*X[:,101]**2 + b103*X[:,102]**2 + b104*X[:,103]**2 + b105*X[:,104]**2 + b106*X[:,105]**2 + b107*X[:,106]**2 + b108*X[:,107]**2 + b109*X[:,108]**2 + b110*X[:,109]**2 + b111*X[:,110]**2 + b112*X[:,111]**2 + b113*X[:,112]**2 + b114*X[:,113]**2 + b115*X[:,114]**2 + b116*X[:,115]**2 + b117*X[:,116]**2 + b118*X[:,117]**2 + b119*X[:,118]**2 + b120*X[:,119]**2 + b121*X[:,120]**2 + b122*X[:,121]**2 + b123*X[:,122]**2 + b124*X[:,123]**2 + b125*X[:,124]**2 + b126*X[:,125]**2 + b127*X[:,126]**2 + b128*X[:,127]**2 + b129*X[:,128]**2 + b130*X[:,129]**2 + b131*X[:,130]**2 + b132*X[:,131]**2 + b133*X[:,132]**2 + b134*X[:,133]**2 + b135*X[:,134]**2 + b136*X[:,135]**2 + b137*X[:,136]**2 + b138*X[:,137]**2 + b139*X[:,138]**2 + b140*X[:,139]**2 + b141*X[:,140]**2 + b142*X[:,141]**2 + b143*X[:,142]**2 + b144*X[:,143]**2 + b145*X[:,144]**2 + b146*X[:,145]**2 + b147*X[:,146]**2 + b148*X[:,147]**2 + b149*X[:,148]**2 + b150*X[:,149]**2 + b151*X[:,150]**2 + b152*X[:,151]**2 + b153*X[:,152]**2 + b154*X[:,153]**2 + b155*X[:,154]**2 + b156*X[:,155]**2 + b157*X[:,156]**2 + b158*X[:,157]**2 + b159*X[:,158]**2 + b160*X[:,159]**2 + b161*X[:,160]**2 + b162*X[:,161]**2 + b163*X[:,162]**2 + b164*X[:,163]**2 + b165*X[:,164]**2 + b166*X[:,165]**2 + b167*X[:,166]**2 + b168*X[:,167]**2 + b169*X[:,168]**2 + b170*X[:,169]**2 + b171*X[:,170]**2 + b172*X[:,171]**2 + b173*X[:,172]**2 + b174*X[:,173]**2 + b175*X[:,174]**2 + b176*X[:,175]**2 + b177*X[:,176]**2 + b178*X[:,177]**2 + b179*X[:,178]**2 + b180*X[:,179]**2 + b181*X[:,180]**2 + b182*X[:,181]**2 + b183*X[:,182]**2 + b184*X[:,183]**2 + b185*X[:,184]**2 + b186*X[:,185]**2 + b187*X[:,186]**2 + b188*X[:,187]**2 + b189*X[:,188]**2 + b190*X[:,189]**2 + b191*X[:,190]**2 + b192*X[:,191]**2 + b193*X[:,192]**2 + b194*X[:,193]**2 + b195*X[:,194]**2 + b196*X[:,195]**2 + b197*X[:,196]**2 + b198*X[:,197]**2 + b199*X[:,198]**2 + b200*X[:,199]**2 + c1*X[:,0]**3 + c2*X[:,1]**3 + c3*X[:,2]**3 + c4*X[:,3]**3 + c5*X[:,4]**3 + c6*X[:,5]**3 + c7*X[:,6]**3 + c8*X[:,7]**3 + c9*X[:,8]**3 + c10*X[:,9]**3 + c11*X[:,10]**3 + c12*X[:,11]**3 + c13*X[:,12]**3 + c14*X[:,13]**3 + c15*X[:,14]**3 + c16*X[:,15]**3 + c17*X[:,16]**3 + c18*X[:,17]**3 + c19*X[:,18]**3 + c20*X[:,19]**3 + c21*X[:,20]**3 + c22*X[:,21]**3 + c23*X[:,22]**3 + c24*X[:,23]**3 + c25*X[:,24]**3 + c26*X[:,25]**3 + c27*X[:,26]**3 + c28*X[:,27]**3 + c29*X[:,28]**3 + c30*X[:,29]**3 + c31*X[:,30]**3 + c32*X[:,31]**3 + c33*X[:,32]**3 + c34*X[:,33]**3 + c35*X[:,34]**3 + c36*X[:,35]**3 + c37*X[:,36]**3 + c38*X[:,37]**3 + c39*X[:,38]**3 + c40*X[:,39]**3 + c41*X[:,40]**3 + c42*X[:,41]**3 + c43*X[:,42]**3 + c44*X[:,43]**3 + c45*X[:,44]**3 + c46*X[:,45]**3 + c47*X[:,46]**3 + c48*X[:,47]**3 + c49*X[:,48]**3 + c50*X[:,49]**3 + c51*X[:,50]**3 + c52*X[:,51]**3 + c53*X[:,52]**3 + c54*X[:,53]**3 + c55*X[:,54]**3 + c56*X[:,55]**3 + c57*X[:,56]**3 + c58*X[:,57]**3 + c59*X[:,58]**3 + c60*X[:,59]**3 + c61*X[:,60]**3 + c62*X[:,61]**3 + c63*X[:,62]**3 + c64*X[:,63]**3 + c65*X[:,64]**3 + c66*X[:,65]**3 + c67*X[:,66]**3 + c68*X[:,67]**3 + c69*X[:,68]**3 + c70*X[:,69]**3 + c71*X[:,70]**3 + c72*X[:,71]**3 + c73*X[:,72]**3 + c74*X[:,73]**3 + c75*X[:,74]**3 + c76*X[:,75]**3 + c77*X[:,76]**3 + c78*X[:,77]**3 + c79*X[:,78]**3 + c80*X[:,79]**3 + c81*X[:,80]**3 + c82*X[:,81]**3 + c83*X[:,82]**3 + c84*X[:,83]**3 + c85*X[:,84]**3 + c86*X[:,85]**3 + c87*X[:,86]**3 + c88*X[:,87]**3 + c89*X[:,88]**3 + c90*X[:,89]**3 + c91*X[:,90]**3 + c92*X[:,91]**3 + c93*X[:,92]**3 + c94*X[:,93]**3 + c95*X[:,94]**3 + c96*X[:,95]**3 + c97*X[:,96]**3 + c98*X[:,97]**3 + c99*X[:,98]**3 + c100*X[:,99]**3 + c101*X[:,100]**3 + c102*X[:,101]**3 + c103*X[:,102]**3 + c104*X[:,103]**3 + c105*X[:,104]**3 + c106*X[:,105]**3 + c107*X[:,106]**3 + c108*X[:,107]**3 + c109*X[:,108]**3 + c110*X[:,109]**3 + c111*X[:,110]**3 + c112*X[:,111]**3 + c113*X[:,112]**3 + c114*X[:,113]**3 + c115*X[:,114]**3 + c116*X[:,115]**3 + c117*X[:,116]**3 + c118*X[:,117]**3 + c119*X[:,118]**3 + c120*X[:,119]**3 + c121*X[:,120]**3 + c122*X[:,121]**3 + c123*X[:,122]**3 + c124*X[:,123]**3 + c125*X[:,124]**3 + c126*X[:,125]**3 + c127*X[:,126]**3 + c128*X[:,127]**3 + c129*X[:,128]**3 + c130*X[:,129]**3 + c131*X[:,130]**3 + c132*X[:,131]**3 + c133*X[:,132]**3 + c134*X[:,133]**3 + c135*X[:,134]**3 + c136*X[:,135]**3 + c137*X[:,136]**3 + c138*X[:,137]**3 + c139*X[:,138]**3 + c140*X[:,139]**3 + c141*X[:,140]**3 + c142*X[:,141]**3 + c143*X[:,142]**3 + c144*X[:,143]**3 + c145*X[:,144]**3 + c146*X[:,145]**3 + c147*X[:,146]**3 + c148*X[:,147]**3 + c149*X[:,148]**3 + c150*X[:,149]**3 + c151*X[:,150]**3 + c152*X[:,151]**3 + c153*X[:,152]**3 + c154*X[:,153]**3 + c155*X[:,154]**3 + c156*X[:,155]**3 + c157*X[:,156]**3 + c158*X[:,157]**3 + c159*X[:,158]**3 + c160*X[:,159]**3 + c161*X[:,160]**3 + c162*X[:,161]**3 + c163*X[:,162]**3 + c164*X[:,163]**3 + c165*X[:,164]**3 + c166*X[:,165]**3 + c167*X[:,166]**3 + c168*X[:,167]**3 + c169*X[:,168]**3 + c170*X[:,169]**3 + c171*X[:,170]**3 + c172*X[:,171]**3 + c173*X[:,172]**3 + c174*X[:,173]**3 + c175*X[:,174]**3 + c176*X[:,175]**3 + c177*X[:,176]**3 + c178*X[:,177]**3 + c179*X[:,178]**3 + c180*X[:,179]**3 + c181*X[:,180]**3 + c182*X[:,181]**3 + c183*X[:,182]**3 + c184*X[:,183]**3 + c185*X[:,184]**3 + c186*X[:,185]**3 + c187*X[:,186]**3 + c188*X[:,187]**3 + c189*X[:,188]**3 + c190*X[:,189]**3 + c191*X[:,190]**3 + c192*X[:,191]**3 + c193*X[:,192]**3 + c194*X[:,193]**3 + c195*X[:,194]**3 + c196*X[:,195]**3 + c197*X[:,196]**3 + c198*X[:,197]**3 + c199*X[:,198]**3 + c200*X[:,199]**3 + \n",
    "            m)"
   ]
  },
  {
   "cell_type": "code",
   "execution_count": 70,
   "metadata": {},
   "outputs": [
    {
     "name": "stdout",
     "output_type": "stream",
     "text": [
      "(10000, 200)\n"
     ]
    }
   ],
   "source": [
    "MNK_Matrix = np.zeros((10000, 200))\n",
    "for i in range(100):\n",
    "    MNK_Matrix[:,2*i] = Correct_Matrix[:,3*i+1]/100\n",
    "    MNK_Matrix[:,2*i+1] = Correct_Matrix[:,3*i+2]\n",
    "print(MNK_Matrix.shape)"
   ]
  },
  {
   "cell_type": "code",
   "execution_count": 71,
   "metadata": {},
   "outputs": [
    {
     "name": "stdout",
     "output_type": "stream",
     "text": [
      "(10000, 300)\n"
     ]
    }
   ],
   "source": [
    "print(Correct_Matrix.shape)"
   ]
  },
  {
   "cell_type": "code",
   "execution_count": 72,
   "metadata": {
    "tags": []
   },
   "outputs": [],
   "source": [
    "cofs, _ = curve_fit(f, MNK_Matrix, y)"
   ]
  },
  {
   "cell_type": "code",
   "execution_count": 73,
   "metadata": {},
   "outputs": [
    {
     "name": "stdout",
     "output_type": "stream",
     "text": [
      "(601,)\n"
     ]
    }
   ],
   "source": [
    "print(cofs.shape)"
   ]
  },
  {
   "cell_type": "code",
   "execution_count": 74,
   "metadata": {},
   "outputs": [],
   "source": [
    "l1 = l-1"
   ]
  },
  {
   "cell_type": "code",
   "execution_count": 75,
   "metadata": {},
   "outputs": [],
   "source": [
    "def fun(X, ar):\n",
    "    return (X.dot(ar[:l1]) + (X**2).dot(ar[l1:(2*l1)]) + (X**3).dot(ar[(2*l1):(3*l1)]) +\n",
    "            #(X**4).dot(ar[(3*l1):(4*l1)]) + (X**5).dot(ar[(4*l1):(5*l1)]) + (X**6).dot(ar[(5*l1):(6*l1)]) +\n",
    "            ar[-1])"
   ]
  },
  {
   "cell_type": "markdown",
   "metadata": {},
   "source": [
    "# Вторая неделя"
   ]
  },
  {
   "cell_type": "markdown",
   "metadata": {},
   "source": [
    "## Проверка МНК для параметров без учета типов методов"
   ]
  },
  {
   "cell_type": "code",
   "execution_count": 76,
   "metadata": {},
   "outputs": [
    {
     "name": "stdout",
     "output_type": "stream",
     "text": [
      "(50000, 200)\n"
     ]
    }
   ],
   "source": [
    "MNK_Tester = np.zeros((50000, 200))\n",
    "for i in range(100):\n",
    "    MNK_Tester[:,2*i] = Correct_Tester[:,3*i+1]/100\n",
    "    MNK_Tester[:,2*i+1] = Correct_Tester[:,3*i+2]\n",
    "print(MNK_Tester.shape)"
   ]
  },
  {
   "cell_type": "code",
   "execution_count": 77,
   "metadata": {},
   "outputs": [
    {
     "name": "stdout",
     "output_type": "stream",
     "text": [
      "(50000,)\n",
      "[14.46479949 16.01043969 23.42541949 ... 19.07039872 14.29782743\n",
      " 14.08791359]\n",
      "3.8957499935960485\n"
     ]
    }
   ],
   "source": [
    "y_mnk = fun(MNK_Tester, cofs)\n",
    "print(y_mnk.shape)\n",
    "print(y_mnk)\n",
    "dif = np.abs(y - fun(MNK_Matrix, cofs)).mean()\n",
    "print(dif)"
   ]
  },
  {
   "cell_type": "markdown",
   "metadata": {},
   "source": [
    "### 4-ая степень(время поиска 1.5 часа)"
   ]
  },
  {
   "cell_type": "code",
   "execution_count": 30,
   "metadata": {},
   "outputs": [
    {
     "name": "stdout",
     "output_type": "stream",
     "text": [
      "(50000,)\n",
      "[15.92107113 16.14234477 24.72814375 ... 25.05600023 15.54393769\n",
      " 11.16059917]\n",
      "3.033704383752483\n"
     ]
    }
   ],
   "source": [
    "y_mnk = fun(Tester, cofs)\n",
    "print(y_mnk.shape)\n",
    "print(y_mnk)\n",
    "dif = np.abs(y - fun(Matrix, cofs)).mean()\n",
    "print(dif)"
   ]
  },
  {
   "cell_type": "code",
   "execution_count": 107,
   "metadata": {},
   "outputs": [
    {
     "name": "stdout",
     "output_type": "stream",
     "text": [
      "(50000,)\n",
      "[17.75566128 20.25299547 17.40513659 ... 13.92114814 16.13770784\n",
      " 16.71005132]\n",
      "4.611651715730697\n"
     ]
    }
   ],
   "source": [
    "y_mnk = fun(Tester_Matrix, cofs)\n",
    "print(y_mnk.shape)\n",
    "print(y_mnk)\n",
    "dif = np.abs(y - fun(Matrix1, cofs)).mean()\n",
    "print(dif)"
   ]
  },
  {
   "cell_type": "markdown",
   "metadata": {},
   "source": [
    "### Результат подбора параметров для МНК полинома 6-ой степени от 42 значимых признаков"
   ]
  },
  {
   "cell_type": "code",
   "execution_count": 59,
   "metadata": {},
   "outputs": [
    {
     "name": "stdout",
     "output_type": "stream",
     "text": [
      "(50000,)\n",
      "[15.3249454  19.30929694 16.91540181 ... 15.55070284 19.10789593\n",
      " 16.15705615]\n"
     ]
    }
   ],
   "source": [
    "y_mnk = fun(Tester_Matrix, cofs)\n",
    "print(y_mnk.shape)\n",
    "print(y_mnk)"
   ]
  },
  {
   "cell_type": "code",
   "execution_count": 60,
   "metadata": {},
   "outputs": [
    {
     "name": "stdout",
     "output_type": "stream",
     "text": [
      "4.870604365694106\n"
     ]
    }
   ],
   "source": [
    "dif = np.abs(y - fun(Matrix1, cofs)).mean()\n",
    "print(dif)"
   ]
  },
  {
   "cell_type": "markdown",
   "metadata": {},
   "source": [
    "## Deep Learning algorithm\n",
    "\n",
    "Лучшая модель\n",
    "- 3 слоя\n",
    "- 1-ый слой: 200 нейронов\n",
    "- 2-ой слой: 100 нейронов\n",
    "- 3-ий слой: 50 нейронов"
   ]
  },
  {
   "cell_type": "code",
   "execution_count": 50,
   "metadata": {},
   "outputs": [],
   "source": [
    "from keras.models import Sequential\n",
    "from keras.layers import Dense\n",
    "from tensorflow.keras import models\n",
    "import os"
   ]
  },
  {
   "cell_type": "code",
   "execution_count": 53,
   "metadata": {},
   "outputs": [],
   "source": [
    "dl = Sequential()\n",
    "dl.add(Dense(200, activation = 'relu', input_shape=(X_train.shape[1],)))\n",
    "dl.add(Dense(100, activation='relu', input_shape =(45,)))\n",
    "dl.add(Dense(1))\n",
    "dl.compile(optimizer='adam', loss='mse', metrics=['mae'])"
   ]
  },
  {
   "cell_type": "markdown",
   "metadata": {},
   "source": [
    "### Проверка ошибки сети и сохранение модели"
   ]
  },
  {
   "cell_type": "code",
   "execution_count": 54,
   "metadata": {},
   "outputs": [],
   "source": [
    "def check_stat(model, X_test = X_test, y_test = y_test, path = './Best_Model/dl_model.h5'):\n",
    "    mse, mae = model.evaluate(X_test, y_test, verbose=0)\n",
    "    print(\"Средняя абсолютная ошибка: \" + str(mae))\n",
    "    model.save(path)"
   ]
  },
  {
   "cell_type": "markdown",
   "metadata": {},
   "source": [
    "### Получение модели из файла"
   ]
  },
  {
   "cell_type": "code",
   "execution_count": 55,
   "metadata": {},
   "outputs": [],
   "source": [
    "def get_model(path = './Best_Model/dl_model.h5'):\n",
    "    model = load_model(path)\n",
    "    return model"
   ]
  },
  {
   "cell_type": "markdown",
   "metadata": {},
   "source": [
    "### Обучение модели"
   ]
  },
  {
   "cell_type": "code",
   "execution_count": 56,
   "metadata": {
    "collapsed": true,
    "jupyter": {
     "outputs_hidden": true
    },
    "tags": []
   },
   "outputs": [
    {
     "name": "stdout",
     "output_type": "stream",
     "text": [
      "Epoch 1/100\n",
      "9000/9000 - 9s - loss: 53.1983 - mae: 5.7283\n",
      "Epoch 2/100\n",
      "9000/9000 - 7s - loss: 40.1535 - mae: 5.0514\n",
      "Epoch 3/100\n",
      "9000/9000 - 7s - loss: 35.8744 - mae: 4.7551\n",
      "Epoch 4/100\n",
      "9000/9000 - 7s - loss: 33.1565 - mae: 4.5893\n",
      "Epoch 5/100\n",
      "9000/9000 - 7s - loss: 30.9693 - mae: 4.4162\n",
      "Epoch 6/100\n",
      "9000/9000 - 7s - loss: 27.9776 - mae: 4.1873\n",
      "Epoch 7/100\n",
      "9000/9000 - 7s - loss: 26.2744 - mae: 4.0286\n",
      "Epoch 8/100\n",
      "9000/9000 - 7s - loss: 23.6747 - mae: 3.8287\n",
      "Epoch 9/100\n",
      "9000/9000 - 8s - loss: 21.5139 - mae: 3.6592\n",
      "Epoch 10/100\n",
      "9000/9000 - 7s - loss: 19.2238 - mae: 3.4440\n",
      "Epoch 11/100\n",
      "9000/9000 - 7s - loss: 17.5178 - mae: 3.3049\n",
      "Epoch 12/100\n",
      "9000/9000 - 7s - loss: 16.2375 - mae: 3.1781\n",
      "Epoch 13/100\n",
      "9000/9000 - 7s - loss: 14.6881 - mae: 3.0192\n",
      "Epoch 14/100\n",
      "9000/9000 - 11s - loss: 13.4697 - mae: 2.8803\n",
      "Epoch 15/100\n",
      "9000/9000 - 9s - loss: 12.2594 - mae: 2.7452\n",
      "Epoch 16/100\n",
      "9000/9000 - 7s - loss: 11.5528 - mae: 2.6782\n",
      "Epoch 17/100\n",
      "9000/9000 - 8s - loss: 10.5670 - mae: 2.5566\n",
      "Epoch 18/100\n",
      "9000/9000 - 7s - loss: 10.0205 - mae: 2.4784\n",
      "Epoch 19/100\n",
      "9000/9000 - 7s - loss: 9.4293 - mae: 2.4094\n",
      "Epoch 20/100\n",
      "9000/9000 - 7s - loss: 8.7312 - mae: 2.3316\n",
      "Epoch 21/100\n",
      "9000/9000 - 7s - loss: 8.3966 - mae: 2.2812\n",
      "Epoch 22/100\n",
      "9000/9000 - 8s - loss: 8.0322 - mae: 2.2385\n",
      "Epoch 23/100\n",
      "9000/9000 - 9s - loss: 7.4732 - mae: 2.1445\n",
      "Epoch 24/100\n",
      "9000/9000 - 11s - loss: 7.0771 - mae: 2.0885\n",
      "Epoch 25/100\n",
      "9000/9000 - 10s - loss: 6.8077 - mae: 2.0539\n",
      "Epoch 26/100\n",
      "9000/9000 - 8s - loss: 6.4734 - mae: 1.9991\n",
      "Epoch 27/100\n",
      "9000/9000 - 8s - loss: 6.3123 - mae: 1.9832\n",
      "Epoch 28/100\n",
      "9000/9000 - 9s - loss: 5.9454 - mae: 1.9162\n",
      "Epoch 29/100\n",
      "9000/9000 - 9s - loss: 5.7446 - mae: 1.8884\n",
      "Epoch 30/100\n",
      "9000/9000 - 8s - loss: 5.4622 - mae: 1.8275\n",
      "Epoch 31/100\n",
      "9000/9000 - 9s - loss: 5.2963 - mae: 1.8105\n",
      "Epoch 32/100\n",
      "9000/9000 - 9s - loss: 5.1026 - mae: 1.7726\n",
      "Epoch 33/100\n",
      "9000/9000 - 9s - loss: 4.9017 - mae: 1.7398\n",
      "Epoch 34/100\n",
      "9000/9000 - 8s - loss: 4.7569 - mae: 1.7128\n",
      "Epoch 35/100\n",
      "9000/9000 - 8s - loss: 4.6577 - mae: 1.6832\n",
      "Epoch 36/100\n",
      "9000/9000 - 8s - loss: 4.5570 - mae: 1.6772\n",
      "Epoch 37/100\n",
      "9000/9000 - 9s - loss: 4.4109 - mae: 1.6456\n",
      "Epoch 38/100\n",
      "9000/9000 - 9s - loss: 4.2889 - mae: 1.6324\n",
      "Epoch 39/100\n",
      "9000/9000 - 9s - loss: 4.1092 - mae: 1.6045\n",
      "Epoch 40/100\n",
      "9000/9000 - 8s - loss: 4.0328 - mae: 1.5711\n",
      "Epoch 41/100\n",
      "9000/9000 - 8s - loss: 3.8392 - mae: 1.5488\n",
      "Epoch 42/100\n",
      "9000/9000 - 8s - loss: 3.8225 - mae: 1.5472\n",
      "Epoch 43/100\n",
      "9000/9000 - 8s - loss: 3.8098 - mae: 1.5335\n",
      "Epoch 44/100\n",
      "9000/9000 - 8s - loss: 3.7108 - mae: 1.5090\n",
      "Epoch 45/100\n",
      "9000/9000 - 9s - loss: 3.5495 - mae: 1.4739\n",
      "Epoch 46/100\n",
      "9000/9000 - 8s - loss: 3.5835 - mae: 1.4835\n",
      "Epoch 47/100\n",
      "9000/9000 - 8s - loss: 3.4191 - mae: 1.4570\n",
      "Epoch 48/100\n",
      "9000/9000 - 9s - loss: 3.3657 - mae: 1.4449\n",
      "Epoch 49/100\n",
      "9000/9000 - 9s - loss: 3.3003 - mae: 1.4319\n",
      "Epoch 50/100\n",
      "9000/9000 - 9s - loss: 3.3427 - mae: 1.4354\n",
      "Epoch 51/100\n",
      "9000/9000 - 11s - loss: 3.1964 - mae: 1.4112\n",
      "Epoch 52/100\n",
      "9000/9000 - 8s - loss: 3.0857 - mae: 1.3831\n",
      "Epoch 53/100\n",
      "9000/9000 - 9s - loss: 3.0358 - mae: 1.3734\n",
      "Epoch 54/100\n",
      "9000/9000 - 7s - loss: 3.1318 - mae: 1.3917\n",
      "Epoch 55/100\n",
      "9000/9000 - 7s - loss: 2.9145 - mae: 1.3424\n",
      "Epoch 56/100\n",
      "9000/9000 - 7s - loss: 2.9230 - mae: 1.3462\n",
      "Epoch 57/100\n",
      "9000/9000 - 7s - loss: 2.8256 - mae: 1.3203\n",
      "Epoch 58/100\n",
      "9000/9000 - 8s - loss: 2.8764 - mae: 1.3333\n",
      "Epoch 59/100\n",
      "9000/9000 - 8s - loss: 2.7421 - mae: 1.3030\n",
      "Epoch 60/100\n",
      "9000/9000 - 9s - loss: 2.7775 - mae: 1.3040\n",
      "Epoch 61/100\n",
      "9000/9000 - 7s - loss: 2.7639 - mae: 1.3061\n",
      "Epoch 62/100\n",
      "9000/9000 - 7s - loss: 2.7195 - mae: 1.2900\n",
      "Epoch 63/100\n",
      "9000/9000 - 8s - loss: 2.6267 - mae: 1.2676\n",
      "Epoch 64/100\n",
      "9000/9000 - 12s - loss: 2.6099 - mae: 1.2660\n",
      "Epoch 65/100\n",
      "9000/9000 - 8s - loss: 2.5874 - mae: 1.2680\n",
      "Epoch 66/100\n",
      "9000/9000 - 7s - loss: 2.5528 - mae: 1.2530\n",
      "Epoch 67/100\n",
      "9000/9000 - 8s - loss: 2.4939 - mae: 1.2366\n",
      "Epoch 68/100\n",
      "9000/9000 - 7s - loss: 2.3272 - mae: 1.1944\n",
      "Epoch 69/100\n",
      "9000/9000 - 7s - loss: 2.4197 - mae: 1.2175\n",
      "Epoch 70/100\n",
      "9000/9000 - 7s - loss: 2.4042 - mae: 1.2131\n",
      "Epoch 71/100\n",
      "9000/9000 - 8s - loss: 2.3668 - mae: 1.2065\n",
      "Epoch 72/100\n",
      "9000/9000 - 7s - loss: 2.3245 - mae: 1.1969\n",
      "Epoch 73/100\n",
      "9000/9000 - 7s - loss: 2.2761 - mae: 1.1771\n",
      "Epoch 74/100\n",
      "9000/9000 - 7s - loss: 2.2902 - mae: 1.1793\n",
      "Epoch 75/100\n",
      "9000/9000 - 8s - loss: 2.2709 - mae: 1.1711\n",
      "Epoch 76/100\n",
      "9000/9000 - 7s - loss: 2.2589 - mae: 1.1702\n",
      "Epoch 77/100\n",
      "9000/9000 - 7s - loss: 2.2508 - mae: 1.1681\n",
      "Epoch 78/100\n",
      "9000/9000 - 7s - loss: 2.2187 - mae: 1.1647\n",
      "Epoch 79/100\n",
      "9000/9000 - 8s - loss: 2.1706 - mae: 1.1501\n",
      "Epoch 80/100\n",
      "9000/9000 - 7s - loss: 2.1469 - mae: 1.1430\n",
      "Epoch 81/100\n",
      "9000/9000 - 7s - loss: 2.1445 - mae: 1.1476\n",
      "Epoch 82/100\n",
      "9000/9000 - 7s - loss: 2.0406 - mae: 1.1243\n",
      "Epoch 83/100\n",
      "9000/9000 - 7s - loss: 2.0515 - mae: 1.1248\n",
      "Epoch 84/100\n",
      "9000/9000 - 7s - loss: 2.0496 - mae: 1.1152\n",
      "Epoch 85/100\n",
      "9000/9000 - 8s - loss: 2.0396 - mae: 1.1186\n",
      "Epoch 86/100\n",
      "9000/9000 - 7s - loss: 2.0361 - mae: 1.1081\n",
      "Epoch 87/100\n",
      "9000/9000 - 7s - loss: 2.0123 - mae: 1.0991\n",
      "Epoch 88/100\n",
      "9000/9000 - 7s - loss: 2.0406 - mae: 1.1100\n",
      "Epoch 89/100\n",
      "9000/9000 - 7s - loss: 1.8997 - mae: 1.0777\n",
      "Epoch 90/100\n",
      "9000/9000 - 7s - loss: 1.9102 - mae: 1.0807\n",
      "Epoch 91/100\n",
      "9000/9000 - 7s - loss: 1.8827 - mae: 1.0728\n",
      "Epoch 92/100\n",
      "9000/9000 - 7s - loss: 1.9257 - mae: 1.0889\n",
      "Epoch 93/100\n",
      "9000/9000 - 7s - loss: 1.9450 - mae: 1.0910\n",
      "Epoch 94/100\n",
      "9000/9000 - 7s - loss: 1.8313 - mae: 1.0582\n",
      "Epoch 95/100\n",
      "9000/9000 - 7s - loss: 1.8923 - mae: 1.0696\n",
      "Epoch 96/100\n",
      "9000/9000 - 7s - loss: 1.7758 - mae: 1.0417\n",
      "Epoch 97/100\n",
      "9000/9000 - 8s - loss: 1.8153 - mae: 1.0512\n",
      "Epoch 98/100\n",
      "9000/9000 - 8s - loss: 1.7767 - mae: 1.0430\n",
      "Epoch 99/100\n",
      "9000/9000 - 8s - loss: 1.8490 - mae: 1.0552\n",
      "Epoch 100/100\n",
      "9000/9000 - 9s - loss: 1.8131 - mae: 1.0494\n"
     ]
    },
    {
     "data": {
      "text/plain": [
       "<tensorflow.python.keras.callbacks.History at 0x7f7b78f58040>"
      ]
     },
     "execution_count": 56,
     "metadata": {},
     "output_type": "execute_result"
    }
   ],
   "source": [
    "dl.fit(X_train, y_train, epochs=100, batch_size=1, verbose=2)"
   ]
  },
  {
   "cell_type": "code",
   "execution_count": 57,
   "metadata": {},
   "outputs": [
    {
     "name": "stdout",
     "output_type": "stream",
     "text": [
      "Средняя абсолютная ошибка: 5.352691173553467\n"
     ]
    }
   ],
   "source": [
    "check_stat(dl)"
   ]
  },
  {
   "cell_type": "markdown",
   "metadata": {},
   "source": [
    "## Известны имена признаков"
   ]
  },
  {
   "cell_type": "markdown",
   "metadata": {},
   "source": [
    "### Проверка гипотез"
   ]
  },
  {
   "cell_type": "markdown",
   "metadata": {},
   "source": [
    "#### Наблюдения\n",
    "---\n",
    "\n",
    "Признаки - добавление, вычитание или бездействие\n",
    "\n",
    "Второй показатель - кол-во вещества\n",
    "\n",
    "Третий показатель - емкость вещества"
   ]
  },
  {
   "cell_type": "markdown",
   "metadata": {},
   "source": [
    "##### Нормализация данных(замена -1 на 0)"
   ]
  },
  {
   "cell_type": "code",
   "execution_count": 8,
   "metadata": {},
   "outputs": [],
   "source": [
    "def preprocess(Matrix):\n",
    "    Ans = np.array(Matrix)\n",
    "    for i in range(100):\n",
    "        for j in range(3):\n",
    "            for k in range(Matrix.shape[0]):\n",
    "                if (Matrix[k][3*i+j] == -1):\n",
    "                    Ans[k][3*i+j] = 0\n",
    "    return Ans"
   ]
  },
  {
   "cell_type": "code",
   "execution_count": 9,
   "metadata": {},
   "outputs": [
    {
     "name": "stdout",
     "output_type": "stream",
     "text": [
      "False\n"
     ]
    }
   ],
   "source": [
    "Correct_Matrix = preprocess(Matrix)\n",
    "print((Correct_Matrix == -1).any())"
   ]
  },
  {
   "cell_type": "code",
   "execution_count": 10,
   "metadata": {},
   "outputs": [
    {
     "name": "stdout",
     "output_type": "stream",
     "text": [
      "False\n"
     ]
    }
   ],
   "source": [
    "Correct_Tester = preprocess(Tester)\n",
    "print((Correct_Tester == -1).any())"
   ]
  },
  {
   "cell_type": "markdown",
   "metadata": {},
   "source": [
    "#### Гипотеза №1\n",
    "\n",
    "1-ая характеристика - это концентрация\n",
    "\n",
    "2-ая характеристика - это масса\n",
    "\n",
    "Типы операций:\n",
    "- 0 - добавить к смеси некоторую массу раствора заданной концентрации\n",
    "- 1 - добавить массу воды \n",
    "- 2 - убрать из смеси некоторую массу раствора заданной массы\n",
    "- 3 - добиться заданной концентрации\n",
    "\n",
    "Целевой признак - концентрация после преобразований"
   ]
  },
  {
   "cell_type": "code",
   "execution_count": 8,
   "metadata": {},
   "outputs": [],
   "source": [
    "def operate(type, mas, percent, current_all, current_salt):\n",
    "    percent = float(percent / 100)\n",
    "    if type == 1:\n",
    "        salt_add = mas*percent\n",
    "        water_add = mas - salt_add\n",
    "        current_all -= water_add\n",
    "        current_salt -= salt_add\n",
    "    elif type == 3:\n",
    "        salt_add = mas * percent\n",
    "        water_add = mas - salt_add\n",
    "        current_all += water_add\n",
    "        current_salt += salt_add\n",
    "    elif type == 0:\n",
    "        if percent == 0:\n",
    "            current_all -= current_salt\n",
    "            current_salt = 0\n",
    "        else:\n",
    "            current_all = current_salt/percent\n",
    "    elif type == 2:\n",
    "        current_all += mas\n",
    "        \n",
    "    return (current_all, current_salt)"
   ]
  },
  {
   "cell_type": "markdown",
   "metadata": {},
   "source": [
    "##### Анализ распределения характеристик"
   ]
  },
  {
   "cell_type": "code",
   "execution_count": 48,
   "metadata": {},
   "outputs": [
    {
     "name": "stdout",
     "output_type": "stream",
     "text": [
      "1.1203349999999999\n"
     ]
    }
   ],
   "source": [
    "print(Correct_Matrix[:,2].mean())"
   ]
  },
  {
   "cell_type": "markdown",
   "metadata": {},
   "source": [
    "##### Проверка наличия отрицательных масс соли"
   ]
  },
  {
   "cell_type": "code",
   "execution_count": null,
   "metadata": {
    "tags": []
   },
   "outputs": [],
   "source": [
    "hypothesis_1 = np.zeros((10000))\n",
    "li = list()\n",
    "mas = np.zeros_like(hypothesis_1)\n",
    "salt = np.zeros_like(hypothesis_1)\n",
    "for i in range(10000):\n",
    "    mas[i] = 18.3\n",
    "    for j in range(100):\n",
    "        mas[i], salt[i] = operate(Correct_Matrix[i][3*j], Correct_Matrix[i][3*j+1], Correct_Matrix[i][3*j+2], mas[i], salt[i])\n",
    "        if salt[i] < 0:\n",
    "            li.append(3*j)\n",
    "    hypothesis_1[i] = (salt[i]/mas[i]) * 100\n",
    "print(li)\n",
    "print(mas)\n",
    "print(salt)\n",
    "print(hypothesis_1)\n",
    "print(y)\n",
    "print(np.abs(y - hypothesis_1).mean())"
   ]
  },
  {
   "cell_type": "markdown",
   "metadata": {},
   "source": [
    "##### Проверка частот появления разных значений процентов"
   ]
  },
  {
   "cell_type": "code",
   "execution_count": 75,
   "metadata": {},
   "outputs": [
    {
     "name": "stdout",
     "output_type": "stream",
     "text": [
      "[[ 51.  53.  64. ...  54.  52.  40.]\n",
      " [487. 435. 470. ... 462. 479. 444.]\n",
      " [501. 469. 460. ... 487. 471. 434.]\n",
      " ...\n",
      " [ 42.  70.  59. ...  45.  62.  53.]\n",
      " [ 48.  41.  49. ...  44.  55.  46.]\n",
      " [ 47.  33.  54. ...  33.  43.  56.]]\n"
     ]
    }
   ],
   "source": [
    "percents = np.zeros((101, 100))\n",
    "for i in range(10000):\n",
    "    for j in range(100):\n",
    "        if Matrix[i][3*j+1] != -1:\n",
    "            percents[int(Matrix[i][3*j+1])][j] += 1\n",
    "print(percents)"
   ]
  },
  {
   "cell_type": "markdown",
   "metadata": {},
   "source": [
    "#### Проверка близости линейного полинома к значению целевого признака"
   ]
  },
  {
   "cell_type": "code",
   "execution_count": 14,
   "metadata": {},
   "outputs": [
    {
     "name": "stdout",
     "output_type": "stream",
     "text": [
      "[18.4219 28.2703  6.9814 ... 11.901   7.8855 22.1043]\n",
      "0       19.0\n",
      "1       25.0\n",
      "2       22.0\n",
      "3       22.0\n",
      "4       24.0\n",
      "        ... \n",
      "9995    14.0\n",
      "9996     7.0\n",
      "9997    18.0\n",
      "9998     7.0\n",
      "9999     9.0\n",
      "Name: y, Length: 10000, dtype: float64\n",
      "6.98379433\n",
      "4015\n",
      "5957\n"
     ]
    },
    {
     "data": {
      "image/png": "[encoded data removed]",
      "text/plain": [
       "<Figure size 432x288 with 1 Axes>"
      ]
     },
     "metadata": {},
     "output_type": "display_data"
    }
   ],
   "source": [
    "sum = np.zeros((10000))\n",
    "for j in range(10000):\n",
    "    for i in range(100):\n",
    "        if Correct_Matrix[j,3*i] == 1:\n",
    "            sum[j] += Correct_Matrix[j,3*i+2]*Correct_Matrix[j,3*i+1]/100\n",
    "        elif Correct_Matrix[j,3*i] == 3:\n",
    "            sum[j] -= Correct_Matrix[j,3*i+2]*Correct_Matrix[j,3*i+1]/100\n",
    "        #elif Correct_Matrix[j,3*i] == 2:\n",
    "        #    sum[j] += Correct_Matrix[j,3*i+2]\n",
    "        #elif Correct_Matrix[j,3*i] == 0:\n",
    "        #    sum[j] = Correct_Matrix[j,3*i+1]/100\n",
    "sum += 18.3\n",
    "print(sum)\n",
    "print(y)\n",
    "print(np.abs(y - sum).mean())\n",
    "sigma = 6.87\n",
    "mu = 18.3\n",
    "count, bins, ignored = plt.hist(y, 47, density=True)\n",
    "plt.plot(bins, 1/(sigma * np.sqrt(2 * np.pi)) *\n",
    "        np.exp( - (bins - mu)**2 / (2 * sigma**2) ),\n",
    "        linewidth=2, color='r')\n",
    "plt.hist(sum, 47, density=True, color='g')\n",
    "print(y.argmax())\n",
    "print(sum.argmax())\n",
    "plt.savefig('./3-1+.png')"
   ]
  },
  {
   "cell_type": "markdown",
   "metadata": {},
   "source": [
    "#### Анализ частот появления разных методов"
   ]
  },
  {
   "cell_type": "code",
   "execution_count": 23,
   "metadata": {},
   "outputs": [
    {
     "name": "stdout",
     "output_type": "stream",
     "text": [
      "30\n",
      "18\n",
      "27\n",
      "29\n",
      "35\n",
      "21\n"
     ]
    }
   ],
   "source": [
    "count0 = 0\n",
    "count2 = 0\n",
    "for i in range(100):\n",
    "    if Correct_Matrix[9997][3*i] == 0:\n",
    "        count0 += 1\n",
    "    elif Correct_Matrix[9997][3*i] == 2:\n",
    "        count2 += 1\n",
    "print(count0)\n",
    "print(count2)\n",
    "\n",
    "count0 = 0\n",
    "count2 = 0\n",
    "for i in range(100):\n",
    "    if Correct_Matrix[9998][3*i] == 0:\n",
    "        count0 += 1\n",
    "    elif Correct_Matrix[9998][3*i] == 2:\n",
    "        count2 += 1\n",
    "print(count0)\n",
    "print(count2)\n",
    "\n",
    "count0 = 0\n",
    "count2 = 0\n",
    "for i in range(100):\n",
    "    if Correct_Matrix[9999][3*i] == 0:\n",
    "        count0 += 1\n",
    "    elif Correct_Matrix[9999][3*i] == 2:\n",
    "        count2 += 1\n",
    "print(count0)\n",
    "print(count2)"
   ]
  },
  {
   "cell_type": "markdown",
   "metadata": {},
   "source": [
    "### Проверка гипотезы, что в эксперименте нет опытов с методами 0 и 2 с двумя заданными характеристиками"
   ]
  },
  {
   "cell_type": "code",
   "execution_count": 17,
   "metadata": {},
   "outputs": [
    {
     "name": "stdout",
     "output_type": "stream",
     "text": [
      "0\n"
     ]
    }
   ],
   "source": [
    "count = 0\n",
    "#res = np.zeros((100, 2))\n",
    "for i in range(Matrix.shape[0]):\n",
    "    for j in range(100):\n",
    "        if Matrix[i][3*j] == 2 or Matrix[i][3*j] == 0:\n",
    "            if Matrix[i][3*j+1] != -1 and Matrix[i][3*j+2] != -1:\n",
    "                count += 1\n",
    "print(count)"
   ]
  },
  {
   "cell_type": "markdown",
   "metadata": {},
   "source": [
    "### Проверка гипотезы, что в эксперименте нет опытов с методом 0 и с заданной второй характеристикой"
   ]
  },
  {
   "cell_type": "code",
   "execution_count": 31,
   "metadata": {},
   "outputs": [
    {
     "name": "stdout",
     "output_type": "stream",
     "text": [
      "0\n"
     ]
    }
   ],
   "source": [
    "count = 0\n",
    "for i in range(Matrix.shape[0]):\n",
    "    for j in range(100):\n",
    "        if Matrix[i][3*j] == 0:\n",
    "            if Matrix[i][3*j+2] != -1:# and Matrix[i][3*j+2] != -1:\n",
    "                count += 1\n",
    "print(count)"
   ]
  },
  {
   "cell_type": "markdown",
   "metadata": {},
   "source": [
    "### Проверка гипотезы, что в эксперименте нет опытов с методом 2 и с заданной первой характеристикой"
   ]
  },
  {
   "cell_type": "code",
   "execution_count": 32,
   "metadata": {},
   "outputs": [
    {
     "name": "stdout",
     "output_type": "stream",
     "text": [
      "0\n"
     ]
    }
   ],
   "source": [
    "count = 0\n",
    "for i in range(Matrix.shape[0]):\n",
    "    for j in range(100):\n",
    "        if Matrix[i][3*j] == 2:\n",
    "            if Matrix[i][3*j+1] != -1:# and Matrix[i][3*j+2] != -1:\n",
    "                count += 1\n",
    "print(count)"
   ]
  },
  {
   "cell_type": "markdown",
   "metadata": {},
   "source": [
    "#### Гипотеза №2\n",
    "\n",
    "__ОПЫТ__: Изучение зависимости растоворимости от температуры\n",
    "\n",
    "__МАТЕРИАЛ__:\n",
    "- вода($H_2O$)\n",
    "- соль(NaCl)\n",
    "\n",
    "__ДАННЫЕ__:\n",
    "- 2 характеристики каждой операции:\n",
    "  - Температура вещества (целое число от 0 до 100 градусов Цельсия)\n",
    "  - масса(вещественное значение от 0 до 3) в граммах\n",
    "- 4 операции:\n",
    "  - 0 - нагрев смеси до заданной температуры\n",
    "  - 1 - добавление соли заданной температуы заданной массы в раствор\n",
    "  - 2 - извлечение выпавшего осадка соли\n",
    "  - 3 - добавление воды заданной температуры заданной массы в раствор\n",
    "- __РЕЗУЛЬТАТ__ - значение концентрации\n",
    "\n",
    "__Почему такая гипотеза__: \n",
    "- Изменение характеристик, непосредственно оказывающих влияние на растворимость(температура,\n",
    "  концентрация, включающая массу воды и массу соли)\n",
    "- Реальность операций: логично их выполнение(нет извлечения заданной концентрации из смеси, как в\n",
    "  предыдущей гипотезе)\n",
    "  \n",
    "__Проблемы__:\n",
    "- Так как среди операций есть извлечение осадка соли, и эта операция может оказаться первой в\n",
    "  экспериментах, то нужны изначальные данные: масса воды и масса соли. Как их узнать?\n",
    "  \n",
    "__Потенциальное решение__:\n",
    "- Запустить цикл для отбора, в котором принимаютя различные значения массы воды, массы соли, чтобы\n",
    "  выполялось два условия:\n",
    "  - Отсутствие отрицательной массы соли в любой момент эксперимента\n",
    "  - Минимальность ошибки смоделированной величины и известной\n",
    "\n",
    "Результат корректности гипотезы запланирован на завтра."
   ]
  },
  {
   "cell_type": "markdown",
   "metadata": {},
   "source": [
    "##### Дополнительные проблемы\n",
    "\n",
    "Чтобы оперировать изменением температуры, нужно использовать условие термодинамического равновесия, а для этого нужно знать массу солей и массу воды.\n",
    "\n",
    "Подбор малых значений массы соли приводит к отрицательным значениям в ходе эксперимента, поэтому нужно устанавливать массу соли, не меньшую кол-ва, которое изымают из системы."
   ]
  },
  {
   "cell_type": "code",
   "execution_count": 90,
   "metadata": {},
   "outputs": [],
   "source": [
    "def operation(method, temperature, mass, real_temperature, water_mass, salt_mass):\n",
    "    if method == 0:\n",
    "        # Нагрев\n",
    "        pass\n",
    "    elif method == 1:\n",
    "        # Добавление нагретой соли\n",
    "        water_mass += mass\n",
    "        # с_воды*water_mass*real_temperature + c_соли*salt_mass*real_temperature + c_соли*mass*temperature = (с_воды*water_mass+c_соли*salt_mass+c_соли*mass)*new_temeprature\n",
    "        # new_temperature = (с_воды*water_mass*real_temperature + c_соли*salt_mass*real_temperature + c_соли*mass*temperature)/(с_воды*water_mass+c_соли*salt_mass+c_соли*mass)\n",
    "        c_water = 4220\n",
    "        c_salt = 880\n",
    "        new_temperature = ((c_water*water_mass + c_salt*salt_mass) * real_temperature + \n",
    "                           c_salt*mass*temperature) / (c_water*water_mass + c_salt*salt_mass + c_salt*mass)\n",
    "        \n",
    "        real_temperature = new_temperature\n",
    "        salt_mass += mass\n",
    "    elif method == 2:\n",
    "        salt_mass -= mass\n",
    "        if salt_mass < 0:\n",
    "            print(\"Negative salt:\")\n",
    "            print(\"method: \", end='')\n",
    "            print(method)\n",
    "            print(\"temperature: \", end='')\n",
    "            print(temperature)\n",
    "            print(\"mass: \", end='')\n",
    "            print(mass)\n",
    "    elif method == 3:\n",
    "        # Добавление воды\n",
    "        c_water = 4220\n",
    "        c_salt = 880\n",
    "        # с_воды*water_mass*real_temperature + c_соли*salt_mass*real_temperature + c_воды*mass*temperature = (с_воды*water_mass+c_соли*salt_mass+c_воды*mass)*new_temeprature\n",
    "        # new_temperature = (с_воды*water_mass*real_temperature + c_соли*salt_mass*real_temperature + c_воды*mass*temperature)/(с_воды*water_mass+c_соли*salt_mass+c_воды*mass)\n",
    "        new_temperature = ((c_water*water_mass + c_salt*salt_mass) * real_temperature + \n",
    "                           c_water*mass*temperature) / (c_water*water_mass + c_salt*salt_mass + c_water*mass)\n",
    "        \n",
    "        real_temperature = new_temperature\n",
    "        #print('temp: ')\n",
    "        #print(real_temperature)\n",
    "        water_mass += mass\n",
    "    return real_temperature, water_mass, salt_mass"
   ]
  },
  {
   "cell_type": "code",
   "execution_count": 95,
   "metadata": {},
   "outputs": [],
   "source": [
    "def test(length = 10000, real_temperature = 24, water_mass = 75, salt_mass = 75, Matrix = Correct_Matrix):\n",
    "    \n",
    "    ans = np.zeros((length, 300))\n",
    "    for j in range(length):\n",
    "        ans[j][0] = real_temperature\n",
    "        ans[j][1] = water_mass\n",
    "        ans[j][2] = salt_mass\n",
    "        for i in range(100):\n",
    "            ans[j][0], ans[j][1], ans[j][2] = operation(Matrix[j][3*i], Matrix[j][3*i+1], Matrix[j][3*i+2], ans[j][0], ans[j][1], ans[j][2])\n",
    "            if j == 0:\n",
    "                pass\n",
    "                #print(ans[j][0])\n",
    "                #temp_mas[i] = ans[j][0]\n",
    "            if ans[j][2] < 0:\n",
    "                print(j)\n",
    "                print(i)\n",
    "                return np.zeros((length, 300))\n",
    "        \n",
    "    return ans"
   ]
  },
  {
   "cell_type": "markdown",
   "metadata": {},
   "source": [
    "##### Проверка наибольшего возможно значения забора соли из системы(и вывод индекса этого наибольшего значения)"
   ]
  },
  {
   "cell_type": "code",
   "execution_count": 48,
   "metadata": {},
   "outputs": [
    {
     "name": "stdout",
     "output_type": "stream",
     "text": [
      "57.61\n",
      "2510\n"
     ]
    }
   ],
   "source": [
    "max = 0\n",
    "ind = -1\n",
    "for j in range(10000):\n",
    "    sum = 0\n",
    "    for i in range(100):\n",
    "        if Correct_Matrix[j][3*i] == 2:\n",
    "             sum += Correct_Matrix[j][3*i+2]\n",
    "        if Correct_Matrix[j][3*i] == 1:\n",
    "             sum -= Correct_Matrix[j][3*i+2]\n",
    "    if sum > max:\n",
    "        ind = j\n",
    "        max = sum\n",
    "print(max)\n",
    "print(ind)"
   ]
  },
  {
   "cell_type": "markdown",
   "metadata": {},
   "source": [
    "###### Наибольшее значение массы соли составило 57.61 г(выбрано так для удельной теплоемкости)"
   ]
  },
  {
   "cell_type": "markdown",
   "metadata": {},
   "source": [
    "##### Подбор начальных значений, минимизцирующий ошибку на тренировочных данных\n",
    "\n",
    "Подбор в небольших диапазонах массы(от 75 до 100г) не приводит к значению ошибки, меньшему, чем 14.7.\n",
    "\n",
    "Подбор температуры не приводит к оптимальному значению без \"хорошего\" значения массы воды и соли."
   ]
  },
  {
   "cell_type": "code",
   "execution_count": null,
   "metadata": {
    "tags": []
   },
   "outputs": [],
   "source": [
    "min = 100\n",
    "optimal_mas = -1\n",
    "optimal_temp = -1\n",
    "optimal_salt = -1\n",
    "for mass in range(0, 100):\n",
    "    for temp in range(0, 100):\n",
    "        for salt in range(58, 100):\n",
    "            ans = test(real_temperature=temp, water_mass = mass, salt_mass=salt)\n",
    "            temps = ans[:, 0]\n",
    "            temps = np.array(temps, dtype=int)\n",
    "            res = np.abs(y-temps).mean()\n",
    "            if res < min:\n",
    "                min = res\n",
    "                optimal_mas = mass\n",
    "                optimal_salt = salt\n",
    "                optimal_temp = temp\n",
    "print(min)\n",
    "print('water: ' + str(optimal_mas))\n",
    "print('salt: ' + str(optimal_salt))\n",
    "print('temp: ' + str(optimal_temp))"
   ]
  },
  {
   "cell_type": "markdown",
   "metadata": {},
   "source": [
    "__Небольшой отчет__: известно все о задаче, гипотезы не совпали с реальными, начальные значения машина не успела подобрать."
   ]
  },
  {
   "cell_type": "code",
   "execution_count": 122,
   "metadata": {
    "tags": []
   },
   "outputs": [],
   "source": [
    "tmp = test(real_temperature= 10, water_mass = 57, salt_mass=58)"
   ]
  },
  {
   "cell_type": "code",
   "execution_count": 123,
   "metadata": {},
   "outputs": [
    {
     "name": "stdout",
     "output_type": "stream",
     "text": [
      "[28.27819506 35.53216148 30.3483586  ... 33.0765332  23.39411765\n",
      " 37.24762387]\n",
      "0       19.0\n",
      "1       25.0\n",
      "2       22.0\n",
      "3       22.0\n",
      "4       24.0\n",
      "        ... \n",
      "9995    14.0\n",
      "9996     7.0\n",
      "9997    18.0\n",
      "9998     7.0\n",
      "9999     9.0\n",
      "Name: y, Length: 10000, dtype: float64\n",
      "11.7411\n",
      "[23.86545357 25.11708392 28.37710322 ... 26.07697189 27.86799116\n",
      " 21.16470888]\n",
      "[23 25 28 ... 26 27 21]\n",
      "7.5866\n"
     ]
    }
   ],
   "source": [
    "y_check = tmp[:, 2]/(tmp[:, 1]+tmp[:, 2])*100\n",
    "print(y_check)\n",
    "print(y)\n",
    "#print(y_check.mean())\n",
    "y_conc = np.array(y_check, dtype=int)\n",
    "print(np.abs(y-y_conc).mean())\n",
    "print(tmp[:,0])\n",
    "temps = np.array(tmp[:, 0], dtype=int)\n",
    "print(temps)\n",
    "print(np.abs(y-temps).mean())"
   ]
  },
  {
   "cell_type": "markdown",
   "metadata": {},
   "source": [
    "# Третья неделя\n",
    "\n",
    "Известно все о задаче\n",
    "\n",
    "Эксперименты: перемещение руды по ленте\n",
    "\n",
    "Материалы: руда и механическая лента\n",
    "\n",
    "Типы операций:\n",
    "- включается режим глобального перемешивания(лента трясётся и руда перемешивается )\n",
    "- включается режим локального перемешивания(в определённом месте ленты специальными \"миксерами\" руду перемешивают )\n",
    "- включают движение (сама лента движется - с её конца продукция ссыпается в хранилище)\n",
    "- помещение руды на ленту\n",
    "\n",
    "__Целевой признак__ - хим. состав руды, которая после последней операции находится на ленте.\n",
    "\n",
    "__Коды операций__:\n",
    "- 0 = сдвиг ленты (продолжительность сдвига, -1)\n",
    "- 1 = добавление руды (в какую часть ленты, какая марка руды) -- одинаковое колличество, но неизвестное\n",
    "- 2 = глобальное перемешивание (-1, интенсивность)\n",
    "- 3 = локальное перемешивание (в какой части ленты, интенсивность)"
   ]
  },
  {
   "cell_type": "markdown",
   "metadata": {},
   "source": [
    "## Исследование операций перемешивания"
   ]
  },
  {
   "cell_type": "markdown",
   "metadata": {},
   "source": [
    "### Глобальное перемешивание"
   ]
  },
  {
   "cell_type": "code",
   "execution_count": 13,
   "metadata": {},
   "outputs": [
    {
     "name": "stdout",
     "output_type": "stream",
     "text": [
      "Summ: [39.68 31.42 32.54 ... 26.74 40.23 21.77]\n",
      "Mean: [1.52615385 1.30916667 1.627      ... 1.48555556 1.38724138 1.03666667]\n",
      "Len: [26. 24. 20. ... 18. 29. 21.]\n",
      "Max: [2.97 2.83 2.86 ... 2.94 2.92 2.62]\n",
      "Min: [0.01 0.04 0.18 ... 0.09 0.25 0.04]\n",
      "y: 0       19.0\n",
      "1       25.0\n",
      "2       22.0\n",
      "3       22.0\n",
      "4       24.0\n",
      "        ... \n",
      "9995    14.0\n",
      "9996     7.0\n",
      "9997    18.0\n",
      "9998     7.0\n",
      "9999     9.0\n",
      "Name: y, Length: 10000, dtype: float64\n",
      "Max ind summ: 1719\n",
      "Min ind summ: 2216\n",
      "Max ind y: 4015\n",
      "Min ind y: 941\n"
     ]
    }
   ],
   "source": [
    "summ = np.zeros((10000))\n",
    "mean = np.zeros((10000))\n",
    "length = np.zeros((10000))\n",
    "maximum = np.zeros((10000))\n",
    "minimum = np.zeros((10000))\n",
    "for j in range(10000):\n",
    "    minimum[j] = 100\n",
    "    for i in range(100):\n",
    "        if Matrix[j, 3*i] == 2:\n",
    "            summ[j] += Matrix[j, 3*i + 2]\n",
    "            length[j] += 1\n",
    "            if maximum[j] < Matrix[j, 3*i + 2]:\n",
    "                maximum[j] = Matrix[j, 3*i + 2]\n",
    "            if minimum[j] > Matrix[j, 3*i + 2]:\n",
    "                minimum[j] = Matrix[j, 3*i + 2]\n",
    "    mean[j] = summ[j]/length[j]\n",
    "\n",
    "print('Summ: ' + str(summ))\n",
    "print('Mean: ' + str(mean))\n",
    "print('Len: ' + str(length))\n",
    "print('Max: ' + str(maximum))\n",
    "print('Min: ' + str(minimum))\n",
    "print('y: ' + str(y))\n",
    "print('Max ind summ: ' + str(summ.argmax()))\n",
    "print('Min ind summ: ' + str(summ.argmin()))\n",
    "print('Max ind y: ' + str(y.argmax()))\n",
    "print('Min ind y: ' + str(y.argmin()))"
   ]
  },
  {
   "cell_type": "markdown",
   "metadata": {},
   "source": [
    "## Определение возможных марок руд"
   ]
  },
  {
   "cell_type": "code",
   "execution_count": 40,
   "metadata": {},
   "outputs": [
    {
     "name": "stdout",
     "output_type": "stream",
     "text": [
      "[0.0, 1.0, 2.0, 3.0]\n"
     ]
    }
   ],
   "source": [
    "marks = list()\n",
    "for j in range(10000):\n",
    "    for i in range(100):\n",
    "        if Matrix[j, 3*i] == 1:\n",
    "            if Matrix[j, 3*i + 2] not in marks:\n",
    "                marks.append(Matrix[j, 3*i + 2])\n",
    "print(marks)"
   ]
  },
  {
   "cell_type": "markdown",
   "metadata": {},
   "source": [
    "## Гипотетическая модель\n",
    "\n",
    "После попадания в сегмент ленты всех 4-х марок руд и после их перемешивания образуется нужная смесь. Задача: посчитать сколько сегментов с необходимой смесью на ленте останется после последних 100 операций.\n",
    "\n",
    "- Если происходит перемешивание по всей механической ленте, то все сегменты, в которых содеражались 4 элемента образуют нужную смесь\n",
    "- Если происходит локальное перемешивание, то при наличии всех 4-х нужных элементов образуется нужная смесь.\n",
    "\n"
   ]
  },
  {
   "cell_type": "markdown",
   "metadata": {},
   "source": [
    "### Методы операций"
   ]
  },
  {
   "cell_type": "markdown",
   "metadata": {},
   "source": [
    "#### Информация о характеристиках операций"
   ]
  },
  {
   "cell_type": "code",
   "execution_count": 59,
   "metadata": {},
   "outputs": [
    {
     "name": "stdout",
     "output_type": "stream",
     "text": [
      "Наибольшая интенсивность: 3.0\n",
      "Сколько раз проиходит досыпание руды: [24. 35. 22. ... 28. 12. 26.]\n",
      "Сколько раз в среднем проиходит досыпание руды: 25.0755\n",
      "Сколько раз проиходит сброс руды с ленты: [ 99.  79.  78. ...  90.  90. 128.]\n",
      "Сколько раз проиходит сброс руды с ленты в среднем: 87.584\n",
      "Наибольший сдвиг при движении: 6.0\n"
     ]
    }
   ],
   "source": [
    "ruda = np.zeros((10000))\n",
    "moves = np.zeros((10000))\n",
    "maximum = np.zeros((10000))\n",
    "intens = 0\n",
    "for i in range(10000):\n",
    "    for j in range(100):\n",
    "        if Matrix[i, 3*j] == 1:\n",
    "            ruda[i] += 1\n",
    "        elif Matrix[i, 3*j] == 0:\n",
    "            moves[i] += Matrix[i, 3*j+1]\n",
    "            maximum[j] = max(maximum[j], Matrix[i, 3*j+1])\n",
    "        elif Matrix[i, 3*j] == 2 or Matrix[i, 3*j] == 3:\n",
    "            if Matrix[i, 3*j+2] > intens:\n",
    "                intens = Matrix[i, 3*j+2]\n",
    "print(\"Наибольшая интенсивность: \" + str(intens))\n",
    "print(\"Сколько раз проиходит досыпание руды: \" + str(ruda))\n",
    "print(\"Сколько раз в среднем проиходит досыпание руды: \" + str(ruda.mean()))\n",
    "print(\"Сколько раз проиходит сброс руды с ленты: \" + str(moves))\n",
    "print(\"Сколько раз проиходит сброс руды с ленты в среднем: \" + str(moves.mean()))\n",
    "print(\"Наибольший сдвиг при движении: \" + str(maximum.max()))"
   ]
  },
  {
   "cell_type": "markdown",
   "metadata": {},
   "source": [
    "#### Методы"
   ]
  },
  {
   "cell_type": "code",
   "execution_count": 214,
   "metadata": {},
   "outputs": [],
   "source": [
    "# Сдвиг тележки \"вправо\"\n",
    "# Аргументы:\n",
    "# - mas - 3-х мерный тензор(содержит нужное число строк-кол-во экспериментов; \n",
    "#                          101 столбец - сегменты ленты; \n",
    "#                          4 - 3-я размерность(кол-во соответствующей руды в сегменте))\n",
    "# - move - на сколько сегментов произойдет сдвиг вправо\n",
    "# - str_ind - номер эксперимента(строка матрицы)\n",
    "# Сдвиг происходит \"вправо\", так как прямое+обратное движение опровергнуто, поэтому \n",
    "# - значения в сегментах с номерами от 0 до move инициализируются значениями пришедшей руды с предыдущих сегментов (случайное содержание)\n",
    "# - значения в сешментах от move до 100 инициализируются нулями\n",
    "@jit(nopython=True)\n",
    "def moving(mas, move, str_ind):\n",
    "    # число сегментов\n",
    "    last_ind = int(mas.shape[1])\n",
    "    # сдвиг \"вправо\"\n",
    "    mas[str_ind, :-move, :] = mas[str_ind, move:, :]\n",
    "    mas[str_ind, -move:, :] = np.zeros((move, 5))\n",
    "    return mas"
   ]
  },
  {
   "cell_type": "code",
   "execution_count": 46,
   "metadata": {},
   "outputs": [],
   "source": [
    "# Добавление руды в сегменты\n",
    "# Аргументы:\n",
    "# - mas - 3-х мерный тензор(содержит нужное число строк-кол-во экспериментов; \n",
    "#                          101 столбец - сегменты ленты; \n",
    "#                          4 - 3-я размерность(кол-во соответствующей руды в сегменте))\n",
    "# - where - в какой сегмент добавляют руду\n",
    "# - mark - марка добавляемой руды\n",
    "# - str_ind - номер эксперимента(строка матрицы)\n",
    "# - mass - сколько вещества добавляют на ленту\n",
    "# Добавление может происходить по двум стратегиям \n",
    "# - фиксировать факт, что в данном сегменте находится определенная марка руды(mas[...] = 1)\n",
    "# - добавить массу определенной марки к элементам сегмента(mas[...] += mass)\n",
    "@jit(nopython=True)\n",
    "def ore(mas, where, mark, str_ind, mass):\n",
    "    where_ind = int(where)\n",
    "    mark = int(mark)\n",
    "    mass = mass\n",
    "    mas[str_ind, where_ind, mark] += mass\n",
    "    return mas"
   ]
  },
  {
   "cell_type": "code",
   "execution_count": 147,
   "metadata": {},
   "outputs": [],
   "source": [
    "# Глобальное перемешивание руды\n",
    "# Аргументы:\n",
    "# - mas - 3-х мерный тензор(содержит нужное число строк-кол-во экспериментов; \n",
    "#                          101 столбец - сегменты ленты; \n",
    "#                          4 - 3-я размерность(кол-во соответствующей руды в сегменте))\n",
    "# - intensivity - интенсивность - какую часть от равномерной суммы добавляем/вычитаем к массам сегментов ленты\n",
    "# - str_ind - номер эксперимента(строка матрицы)\n",
    "# равномерно распределяем элементы по всей ленте\n",
    "@jit(nopython=True)\n",
    "def global_mix(mas, intensivity, str_ind):\n",
    "    ores = np.zeros((5))\n",
    "    intensivity /= 3\n",
    "    # Установка параметров в методе вызывает ошибку вызова компиляции @jit\n",
    "    ores[0] = mas[str_ind, :, 0].mean()\n",
    "    ores[1] = mas[str_ind, :, 1].mean()\n",
    "    ores[2] = mas[str_ind, :, 2].mean()\n",
    "    ores[3] = mas[str_ind, :, 3].mean()\n",
    "    ores[4] = ores[:4].min()\n",
    "    \n",
    "    ores *= intensivity\n",
    "    mas[str_ind, :, :] = mas[str_ind, :, :] * (1-intensivity) + ores\n",
    "    \n",
    "    return mas"
   ]
  },
  {
   "cell_type": "code",
   "execution_count": 48,
   "metadata": {},
   "outputs": [],
   "source": [
    "# Локальное перемешивание руды\n",
    "# Аргументы:\n",
    "# - mas - 3-х мерный тензор(содержит нужное число строк-кол-во экспериментов; \n",
    "#                          101 столбец - сегменты ленты; \n",
    "#                          4 - 3-я размерность(кол-во соответствующей руды в сегменте))\n",
    "# - where - какой сегмент перемешивается\n",
    "# - intensivity - интенсивность - какая часть от возможно смеси преобразуется.\n",
    "# - str_ind - номер эксперимента(строка матрицы)\n",
    "@jit(nopython=True)\n",
    "def local_mix(mas, where, intensivity, str_ind):\n",
    "    where_ind = int(where)\n",
    "    intensivity /= 3\n",
    "    if mas[str_ind, where_ind, :4].all():\n",
    "        addetive = mas[str_ind, where_ind, :4].min()\n",
    "        mas[str_ind, where_ind, 4] = addetive*4*intensivity\n",
    "    return mas"
   ]
  },
  {
   "cell_type": "markdown",
   "metadata": {},
   "source": [
    "### Проверка моделей"
   ]
  },
  {
   "cell_type": "markdown",
   "metadata": {},
   "source": [
    "#### Метод для проверки гипотез"
   ]
  },
  {
   "cell_type": "code",
   "execution_count": 8,
   "metadata": {},
   "outputs": [],
   "source": [
    "from scipy.optimize import curve_fit"
   ]
  },
  {
   "cell_type": "markdown",
   "metadata": {},
   "source": [
    "##### Вспомогательные методы (генератор 3-х мерного тензора - каждый сегмент каждого эксперимента)"
   ]
  },
  {
   "cell_type": "code",
   "execution_count": 106,
   "metadata": {},
   "outputs": [],
   "source": [
    "@jit(nopython=True)\n",
    "def lighted_generator(init_mas, length = 10000):\n",
    "    lighted = np.zeros((length, 101, 5))\n",
    "    for j in range(length):\n",
    "        for i in range(101):\n",
    "            lighted[j, i, 0] = init_mas[4*i]\n",
    "            lighted[j, i, 1] = init_mas[4*i+1]\n",
    "            lighted[j, i, 2] = init_mas[4*i+2]\n",
    "            lighted[j, i, 3] = init_mas[4*i+3]\n",
    "            five = lighted[j, i, :4].min()\n",
    "            lighted[j, i, 4] = five*4\n",
    "    return lighted"
   ]
  },
  {
   "cell_type": "markdown",
   "metadata": {},
   "source": [
    "##### Генерация аргументов алгоритма для подбора методом МНК"
   ]
  },
  {
   "cell_type": "code",
   "execution_count": null,
   "metadata": {},
   "outputs": [],
   "source": [
    "length = 404\n",
    "for i in range(length):\n",
    "    print(\"a\"+str(i)+\", \", end = '')"
   ]
  },
  {
   "cell_type": "markdown",
   "metadata": {},
   "source": [
    "## Первая гипотеза"
   ]
  },
  {
   "cell_type": "code",
   "execution_count": 277,
   "metadata": {},
   "outputs": [],
   "source": [
    "@jit(nopython=True)\n",
    "def pred_hypo1(Matrix = Matrix, cofs = masses, mass_int = 9):\n",
    "    init_mas = cofs\n",
    "    \n",
    "    length = int(Matrix.shape[0])\n",
    "    lighted = lighted_generator(init_mas, length = length)\n",
    "    ans = np.zeros(length)\n",
    "    mass = np.zeros(length)\n",
    "    printed = np.zeros(length)\n",
    "    for j in range(length):\n",
    "        for i in range(100):\n",
    "            if Matrix[j, 3*i] == 0:\n",
    "                move = int(Matrix[j, 3*i+1])\n",
    "                lighted = moving_new(lighted, move, j)\n",
    "            elif Matrix[j, 3*i] == 1:\n",
    "                lighted = ore(lighted, Matrix[j, 3*i+1], Matrix[j, 3*i+2], j, mass_int)\n",
    "            elif Matrix[j, 3*i] == 2:\n",
    "                lighted = global_mix(lighted, Matrix[j, 3*i+2], j)\n",
    "            elif Matrix[j, 3*i] == 3:\n",
    "                lighted = local_mix(lighted, Matrix[j, 3*i+1], Matrix[j, 3*i+2], j)\n",
    "        for i in range(101):\n",
    "            ans[j] += lighted[j, i, 4]\n",
    "            mass[j] += lighted[j, i, :4].sum()\n",
    "        printed[j] = ans[j]/mass[j]*100\n",
    "    return printed"
   ]
  },
  {
   "cell_type": "code",
   "execution_count": 279,
   "metadata": {},
   "outputs": [],
   "source": [
    "@jit(nopython=True)\n",
    "def model(Matrix, a0, a1, a2, a3, a4, a5, a6, a7, a8, a9, a10, a11, a12, \n",
    "          a13, a14, a15, a16, a17, a18, a19, a20, a21, a22, a23, a24, a25, \n",
    "          a26, a27, a28, a29, a30, a31, a32, a33, a34, a35, a36, a37, a38, \n",
    "          a39, a40, a41, a42, a43, a44, a45, a46, a47, a48, a49, a50, a51, \n",
    "          a52, a53, a54, a55, a56, a57, a58, a59, a60, a61, a62, a63, a64, \n",
    "          a65, a66, a67, a68, a69, a70, a71, a72, a73, a74, a75, a76, a77, \n",
    "          a78, a79, a80, a81, a82, a83, a84, a85, a86, a87, a88, a89, a90, \n",
    "          a91, a92, a93, a94, a95, a96, a97, a98, a99, a100, a101, a102, a103, \n",
    "          a104, a105, a106, a107, a108, a109, a110, a111, a112, a113, a114, \n",
    "          a115, a116, a117, a118, a119, a120, a121, a122, a123, a124, a125, \n",
    "          a126, a127, a128, a129, a130, a131, a132, a133, a134, a135, a136, \n",
    "          a137, a138, a139, a140, a141, a142, a143, a144, a145, a146, a147, \n",
    "          a148, a149, a150, a151, a152, a153, a154, a155, a156, a157, a158, \n",
    "          a159, a160, a161, a162, a163, a164, a165, a166, a167, a168, a169, \n",
    "          a170, a171, a172, a173, a174, a175, a176, a177, a178, a179, a180, \n",
    "          a181, a182, a183, a184, a185, a186, a187, a188, a189, a190, a191, \n",
    "          a192, a193, a194, a195, a196, a197, a198, a199, a200, a201, a202, \n",
    "          a203, a204, a205, a206, a207, a208, a209, a210, a211, a212, a213, \n",
    "          a214, a215, a216, a217, a218, a219, a220, a221, a222, a223, a224, \n",
    "          a225, a226, a227, a228, a229, a230, a231, a232, a233, a234, a235, \n",
    "          a236, a237, a238, a239, a240, a241, a242, a243, a244, a245, a246, \n",
    "          a247, a248, a249, a250, a251, a252, a253, a254, a255, a256, a257, \n",
    "          a258, a259, a260, a261, a262, a263, a264, a265, a266, a267, a268, \n",
    "          a269, a270, a271, a272, a273, a274, a275, a276, a277, a278, a279, \n",
    "          a280, a281, a282, a283, a284, a285, a286, a287, a288, a289, a290, \n",
    "          a291, a292, a293, a294, a295, a296, a297, a298, a299, a300, a301, \n",
    "          a302, a303, a304, a305, a306, a307, a308, a309, a310, a311, a312, \n",
    "          a313, a314, a315, a316, a317, a318, a319, a320, a321, a322, a323, \n",
    "          a324, a325, a326, a327, a328, a329, a330, a331, a332, a333, a334, \n",
    "          a335, a336, a337, a338, a339, a340, a341, a342, a343, a344, a345, \n",
    "          a346, a347, a348, a349, a350, a351, a352, a353, a354, a355, a356, \n",
    "          a357, a358, a359, a360, a361, a362, a363, a364, a365, a366, a367, \n",
    "          a368, a369, a370, a371, a372, a373, a374, a375, a376, a377, a378, \n",
    "          a379, a380, a381, a382, a383, a384, a385, a386, a387, a388, a389, \n",
    "          a390, a391, a392, a393, a394, a395, a396, a397, a398, a399, a400, \n",
    "          a401, a402, a403, \n",
    "          ):\n",
    "    mass_int = 9\n",
    "    init_mas = np.array([a0, a1, a2, a3, a4, a5, a6, a7, a8, a9, a10, a11, a12, a13, a14, a15, a16, a17, a18, a19, a20, \n",
    "                         a21, a22, a23, a24, a25, a26, a27, a28, a29, a30, a31, a32, a33, a34, a35, a36, a37, a38, a39, \n",
    "                         a40, a41, a42, a43, a44, a45, a46, a47, a48, a49, a50, a51, a52, a53, a54, a55, a56, a57, a58, \n",
    "                         a59, a60, a61, a62, a63, a64, a65, a66, a67, a68, a69, a70, a71, a72, a73, a74, a75, a76, a77, \n",
    "                         a78, a79, a80, a81, a82, a83, a84, a85, a86, a87, a88, a89, a90, a91, a92, a93, a94, a95, a96, \n",
    "                         a97, a98, a99, a100, a101, a102, a103, a104, a105, a106, a107, a108, a109, a110, a111, a112, \n",
    "                         a113, a114, a115, a116, a117, a118, a119, a120, a121, a122, a123, a124, a125, a126, a127, a128, \n",
    "                         a129, a130, a131, a132, a133, a134, a135, a136, a137, a138, a139, a140, a141, a142, a143, a144, \n",
    "                         a145, a146, a147, a148, a149, a150, a151, a152, a153, a154, a155, a156, a157, a158, a159, a160, \n",
    "                         a161, a162, a163, a164, a165, a166, a167, a168, a169, a170, a171, a172, a173, a174, a175, a176, \n",
    "                         a177, a178, a179, a180, a181, a182, a183, a184, a185, a186, a187, a188, a189, a190, a191, a192, \n",
    "                         a193, a194, a195, a196, a197, a198, a199, a200, a201, a202, a203, a204, a205, a206, a207, a208, \n",
    "                         a209, a210, a211, a212, a213, a214, a215, a216, a217, a218, a219, a220, a221, a222, a223, a224, \n",
    "                         a225, a226, a227, a228, a229, a230, a231, a232, a233, a234, a235, a236, a237, a238, a239, a240, \n",
    "                         a241, a242, a243, a244, a245, a246, a247, a248, a249, a250, a251, a252, a253, a254, a255, a256, \n",
    "                         a257, a258, a259, a260, a261, a262, a263, a264, a265, a266, a267, a268, a269, a270, a271, a272, \n",
    "                         a273, a274, a275, a276, a277, a278, a279, a280, a281, a282, a283, a284, a285, a286, a287, a288, \n",
    "                         a289, a290, a291, a292, a293, a294, a295, a296, a297, a298, a299, a300, a301, a302, a303, a304, \n",
    "                         a305, a306, a307, a308, a309, a310, a311, a312, a313, a314, a315, a316, a317, a318, a319, a320, \n",
    "                         a321, a322, a323, a324, a325, a326, a327, a328, a329, a330, a331, a332, a333, a334, a335, a336, \n",
    "                         a337, a338, a339, a340, a341, a342, a343, a344, a345, a346, a347, a348, a349, a350, a351, a352, \n",
    "                         a353, a354, a355, a356, a357, a358, a359, a360, a361, a362, a363, a364, a365, a366, a367, a368, \n",
    "                         a369, a370, a371, a372, a373, a374, a375, a376, a377, a378, a379, a380, a381, a382, a383, a384, \n",
    "                         a385, a386, a387, a388, a389, a390, a391, a392, a393, a394, a395, a396, a397, a398, a399, a400, \n",
    "                         a401, a402, a403])\n",
    "    length = int(Matrix.shape[0])\n",
    "    lighted = lighted_generator(init_mas, length = length)\n",
    "    ans = np.zeros(10000)\n",
    "    mass = np.zeros(10000)\n",
    "    printed = np.zeros(10000)\n",
    "    for j in range(length):\n",
    "        for i in range(100):\n",
    "            if Matrix[j, 3*i] == 0:\n",
    "                move = int(Matrix[j, 3*i+1])\n",
    "                lighted = moving_new(lighted, move, j)\n",
    "            elif Matrix[j, 3*i] == 1:\n",
    "                lighted = ore(lighted, Matrix[j, 3*i+1], Matrix[j, 3*i+2], j, mass_int)\n",
    "            elif Matrix[j, 3*i] == 2:\n",
    "                lighted = global_mix(lighted, Matrix[j, 3*i+2], j)\n",
    "            elif Matrix[j, 3*i] == 3:\n",
    "                lighted = local_mix(lighted, Matrix[j, 3*i+1], Matrix[j, 3*i+2], j)\n",
    "        for i in range(101):\n",
    "            ans[j] += lighted[j, i, 4]\n",
    "            mass[j] += lighted[j, i, :4].sum()\n",
    "        printed[j] = ans[j]/mass[j]*100\n",
    "    return printed"
   ]
  },
  {
   "cell_type": "code",
   "execution_count": null,
   "metadata": {
    "tags": []
   },
   "outputs": [],
   "source": [
    "masses, _ = curve_fit(model, Matrix, y)"
   ]
  },
  {
   "cell_type": "code",
   "execution_count": 241,
   "metadata": {},
   "outputs": [],
   "source": [
    "masses = new_coefs"
   ]
  },
  {
   "cell_type": "code",
   "execution_count": 278,
   "metadata": {},
   "outputs": [
    {
     "name": "stdout",
     "output_type": "stream",
     "text": [
      "[1. 1. 1. 1. 1. 1. 1. 1. 1. 1. 1. 1. 1. 1. 1. 1. 1. 1. 1. 1. 1. 1. 1. 1.\n",
      " 1. 1. 1. 1. 1. 1. 1. 1. 1. 1. 1. 1. 1. 1. 1. 1. 1. 1. 1. 1. 1. 1. 1. 1.\n",
      " 1. 1. 1. 1. 1. 1. 1. 1. 1. 1. 1. 1. 1. 1. 1. 1. 1. 1. 1. 1. 1. 1. 1. 1.\n",
      " 1. 1. 1. 1. 1. 1. 1. 1. 1. 1. 1. 1. 1. 1. 1. 1. 1. 1. 1. 1. 1. 1. 1. 1.\n",
      " 1. 1. 1. 1. 1. 1. 1. 1. 1. 1. 1. 1. 1. 1. 1. 1. 1. 1. 1. 1. 1. 1. 1. 1.\n",
      " 1. 1. 1. 1. 1. 1. 1. 1. 1. 1. 1. 1. 1. 1. 1. 1. 1. 1. 1. 1. 1. 1. 1. 1.\n",
      " 1. 1. 1. 1. 1. 1. 1. 1. 1. 1. 1. 1. 1. 1. 1. 1. 1. 1. 1. 1. 1. 1. 1. 1.\n",
      " 1. 1. 1. 1. 1. 1. 1. 1. 1. 1. 1. 1. 1. 1. 1. 1. 1. 1. 1. 1. 1. 1. 1. 1.\n",
      " 1. 1. 1. 1. 1. 1. 1. 1. 1. 1. 1. 1. 1. 1. 1. 1. 1. 1. 1. 1. 1. 1. 1. 1.\n",
      " 1. 1. 1. 1. 1. 1. 1. 1. 1. 1. 1. 1. 1. 1. 1. 1. 1. 1. 1. 1. 1. 1. 1. 1.\n",
      " 1. 1. 1. 1. 1. 1. 1. 1. 1. 1. 1. 1. 1. 1. 1. 1. 1. 1. 1. 1. 1. 1. 1. 1.\n",
      " 1. 1. 1. 1. 1. 1. 1. 1. 1. 1. 1. 1. 1. 1. 1. 1. 1. 1. 1. 1. 1. 1. 1. 1.\n",
      " 1. 1. 1. 1. 1. 1. 1. 1. 1. 1. 1. 1. 1. 1. 1. 1. 1. 1. 1. 1. 1. 1. 1. 1.\n",
      " 1. 1. 1. 1. 1. 1. 1. 1. 1. 1. 1. 1. 1. 1. 1. 1. 1. 1. 1. 1. 1. 1. 1. 1.\n",
      " 1. 1. 1. 1. 1. 1. 1. 1. 1. 1. 1. 1. 1. 1. 1. 1. 1. 1. 1. 1. 1. 1. 1. 1.\n",
      " 1. 1. 1. 1. 1. 1. 1. 1. 1. 1. 1. 1. 1. 1. 1. 1. 1. 1. 1. 1. 1. 1. 1. 1.\n",
      " 1. 1. 1. 1. 1. 1. 1. 1. 1. 1. 1. 1. 1. 1. 1. 1. 1. 1. 1. 1.]\n",
      "6.115842733010239\n"
     ]
    }
   ],
   "source": [
    "print(masses)\n",
    "print(np.abs(y - pred_hypo1()).mean())"
   ]
  },
  {
   "cell_type": "code",
   "execution_count": 280,
   "metadata": {},
   "outputs": [],
   "source": [
    "np.save(\"./Masses_hypo1\", masses)"
   ]
  },
  {
   "cell_type": "markdown",
   "metadata": {},
   "source": [
    "### Подбор добавочной массы"
   ]
  },
  {
   "cell_type": "code",
   "execution_count": 281,
   "metadata": {},
   "outputs": [],
   "source": [
    "@jit(nopython=True)\n",
    "def add_model(Matrix, mass_int):\n",
    "    init_mas = masses\n",
    "    length = int(Matrix.shape[0])\n",
    "    lighted = lighted_generator(init_mas, length = length)\n",
    "    ans = np.zeros(10000)\n",
    "    mass = np.zeros(10000)\n",
    "    printed = np.zeros(10000)\n",
    "    for j in range(length):\n",
    "        for i in range(100):\n",
    "            if Matrix[j, 3*i] == 0:\n",
    "                move = int(Matrix[j, 3*i+1])\n",
    "                lighted = moving_new(lighted, move, j)\n",
    "            elif Matrix[j, 3*i] == 1:\n",
    "                lighted = ore(lighted, Matrix[j, 3*i+1], Matrix[j, 3*i+2], j, mass_int)\n",
    "            elif Matrix[j, 3*i] == 2:\n",
    "                lighted = global_mix(lighted, Matrix[j, 3*i+2], j)\n",
    "            elif Matrix[j, 3*i] == 3:\n",
    "                lighted = local_mix(lighted, Matrix[j, 3*i+1], Matrix[j, 3*i+2], j)\n",
    "        for i in range(101):\n",
    "            ans[j] += lighted[j, i, 4]\n",
    "            mass[j] += lighted[j, i, :4].sum()\n",
    "        printed[j] = ans[j]/mass[j]*100\n",
    "    return printed"
   ]
  },
  {
   "cell_type": "code",
   "execution_count": 282,
   "metadata": {},
   "outputs": [],
   "source": [
    "added, _ = curve_fit(add_model, Matrix, y)"
   ]
  },
  {
   "cell_type": "code",
   "execution_count": 283,
   "metadata": {},
   "outputs": [
    {
     "name": "stdout",
     "output_type": "stream",
     "text": [
      "[16.07745093]\n",
      "5.862654567218781\n"
     ]
    }
   ],
   "source": [
    "print(added)\n",
    "print(np.abs(y - pred_hypo1(mass_int = int(added))).mean())"
   ]
  },
  {
   "cell_type": "code",
   "execution_count": 250,
   "metadata": {},
   "outputs": [],
   "source": [
    "np.save(\"./Added_hypo1\", added)"
   ]
  },
  {
   "cell_type": "markdown",
   "metadata": {},
   "source": [
    "### Создание целевого вектора модели"
   ]
  },
  {
   "cell_type": "code",
   "execution_count": 284,
   "metadata": {},
   "outputs": [
    {
     "name": "stdout",
     "output_type": "stream",
     "text": [
      "(50000,)\n"
     ]
    }
   ],
   "source": [
    "y_hypo1 = pred_hypo1(Matrix=Tester, mass_int = int(added))\n",
    "print(y_hypo1.shape)"
   ]
  },
  {
   "cell_type": "code",
   "execution_count": 285,
   "metadata": {},
   "outputs": [
    {
     "name": "stdout",
     "output_type": "stream",
     "text": [
      "[21.73945156 20.82764539 14.62744942 18.59200305 17.88498034]\n"
     ]
    }
   ],
   "source": [
    "print(y_hypo1[:5])"
   ]
  },
  {
   "cell_type": "markdown",
   "metadata": {},
   "source": [
    "#### Загрузка коэффициентов обученного метода наименьших квадратов для 5-ти коэффицицентов(предположение, что начальные значения масс для всех сегментов одинаковы)"
   ]
  },
  {
   "cell_type": "code",
   "execution_count": 32,
   "metadata": {},
   "outputs": [],
   "source": [
    "from numba import jit"
   ]
  },
  {
   "cell_type": "code",
   "execution_count": 18,
   "metadata": {},
   "outputs": [],
   "source": [
    "cofs = np.load(\"./coefs.npy\")"
   ]
  },
  {
   "cell_type": "markdown",
   "metadata": {},
   "source": [
    "#### Метод для получения результата для 5-ти коэффициентов"
   ]
  },
  {
   "cell_type": "code",
   "execution_count": 251,
   "metadata": {},
   "outputs": [],
   "source": [
    "@jit(nopython=True)\n",
    "def pred(cofs = cofs, Matrix = Matrix):\n",
    "    init_mas = np.zeros((404))\n",
    "    for i in range(101):\n",
    "        init_mas[4*i] = cofs[0]\n",
    "        init_mas[4*i+1] = cofs[1]\n",
    "        init_mas[4*i+2] = cofs[2]\n",
    "        init_mas[4*i+3] = cofs[3]\n",
    "    mass_int = cofs[4]\n",
    "    \n",
    "    length = int(Matrix.shape[0])\n",
    "    lighted = lighted_generator(init_mas, length = length)\n",
    "    ans = np.zeros(length)\n",
    "    mass = np.zeros(length)\n",
    "    printed = np.zeros(length)\n",
    "    for j in range(length):\n",
    "        for i in range(100):\n",
    "            if Matrix[j, 3*i] == 0:\n",
    "                move = int(Matrix[j, 3*i+1])\n",
    "                lighted = moving(lighted, move, j)\n",
    "            elif Matrix[j, 3*i] == 1:\n",
    "                lighted = ore(lighted, Matrix[j, 3*i+1], Matrix[j, 3*i+2], j, mass_int)\n",
    "            elif Matrix[j, 3*i] == 2:\n",
    "                lighted = global_mix(lighted, Matrix[j, 3*i+2], j)\n",
    "            elif Matrix[j, 3*i] == 3:\n",
    "                lighted = local_mix(lighted, Matrix[j, 3*i+1], Matrix[j, 3*i+2], j)\n",
    "        for i in range(101):\n",
    "            ans[j] += lighted[j, i, 4]\n",
    "            mass[j] += lighted[j, i, :4].sum()\n",
    "        printed[j] = ans[j]/mass[j]*100\n",
    "    return printed"
   ]
  },
  {
   "cell_type": "code",
   "execution_count": 23,
   "metadata": {},
   "outputs": [],
   "source": [
    "y_mnk = pred()"
   ]
  },
  {
   "cell_type": "code",
   "execution_count": 26,
   "metadata": {},
   "outputs": [
    {
     "name": "stdout",
     "output_type": "stream",
     "text": [
      "Init mass: [2.13643149 2.10502024 1.98572813 1.21240885]\n",
      "Add mass: 8.05196239847112\n"
     ]
    }
   ],
   "source": [
    "print(\"Initial mass: \" + str(cofs[:4]))\n",
    "print(\"Add mass: \" + str(cofs[4]))"
   ]
  },
  {
   "cell_type": "code",
   "execution_count": 25,
   "metadata": {},
   "outputs": [
    {
     "name": "stdout",
     "output_type": "stream",
     "text": [
      "Diff: 5.233833599502356\n"
     ]
    }
   ],
   "source": [
    "diff = np.abs(y - y_mnk).mean()\n",
    "print(\"Diff: \" + str(diff))"
   ]
  },
  {
   "cell_type": "code",
   "execution_count": 97,
   "metadata": {},
   "outputs": [
    {
     "name": "stdout",
     "output_type": "stream",
     "text": [
      "(50000,)\n"
     ]
    }
   ],
   "source": [
    "y_ans = pred(Matrix=Tester)\n",
    "print(y_ans.shape)"
   ]
  },
  {
   "cell_type": "code",
   "execution_count": 31,
   "metadata": {},
   "outputs": [
    {
     "name": "stdout",
     "output_type": "stream",
     "text": [
      "[18.00709954 19.75606897 21.1081201  18.9974311  18.15208926]\n"
     ]
    }
   ],
   "source": [
    "print(y_ans[:5])"
   ]
  },
  {
   "cell_type": "markdown",
   "metadata": {},
   "source": [
    "#### Метод создания результата для вектора произвольного размера"
   ]
  },
  {
   "cell_type": "code",
   "execution_count": 121,
   "metadata": {},
   "outputs": [],
   "source": [
    "@jit(nopython=True)\n",
    "def predict(cofs = cofs, Matrix = Matrix):\n",
    "    init_mas = cofs[:-1]\n",
    "    mass_int = cofs[-1]\n",
    "    \n",
    "    length = int(Matrix.shape[0])\n",
    "    lighted = lighted_generator(init_mas, length = length)\n",
    "    ans = np.zeros(length)\n",
    "    mass = np.zeros(length)\n",
    "    printed = np.zeros(length)\n",
    "    for j in range(length):\n",
    "        for i in range(100):\n",
    "            if Matrix[j, 3*i] == 0:\n",
    "                move = int(Matrix[j, 3*i+1])\n",
    "                lighted = moving(lighted, move, j)\n",
    "            elif Matrix[j, 3*i] == 1:\n",
    "                lighted = ore(lighted, Matrix[j, 3*i+1], Matrix[j, 3*i+2], j, mass_int)\n",
    "            elif Matrix[j, 3*i] == 2:\n",
    "                lighted = global_mix(lighted, Matrix[j, 3*i+2], j)\n",
    "            elif Matrix[j, 3*i] == 3:\n",
    "                lighted = local_mix(lighted, Matrix[j, 3*i+1], Matrix[j, 3*i+2], j)\n",
    "        for i in range(101):\n",
    "            ans[j] += lighted[j, i, 4]\n",
    "            mass[j] += lighted[j, i, :4].sum()\n",
    "        printed[j] = ans[j]/mass[j]*100\n",
    "    return printed"
   ]
  },
  {
   "cell_type": "code",
   "execution_count": 141,
   "metadata": {},
   "outputs": [],
   "source": [
    "y_mnk = predict()"
   ]
  },
  {
   "cell_type": "code",
   "execution_count": 139,
   "metadata": {
    "collapsed": true,
    "jupyter": {
     "outputs_hidden": true
    },
    "tags": []
   },
   "outputs": [
    {
     "name": "stdout",
     "output_type": "stream",
     "text": [
      "[9.99993670e+02 9.08636280e+01 9.96230883e+02 1.11180847e-02\n",
      " 6.15326320e+01 2.11309883e-06 3.11219256e+01 6.70095897e+02\n",
      " 9.93729055e+02 1.01748401e+02 5.27657381e+02 1.68157441e+01\n",
      " 1.20960538e+00 5.08922156e-10 6.86239324e+00 2.77966668e+02\n",
      " 1.91285223e+01 5.45885965e+02 5.08098414e-01 4.00649099e+01\n",
      " 9.35147912e+02 4.31326723e+02 7.05767834e+02 2.68374672e+00\n",
      " 2.59364420e+02 2.58202071e+02 2.39731752e+02 1.52435325e+02\n",
      " 2.59223347e+02 2.55653245e+02 2.40346984e+02 1.51659498e+02\n",
      " 2.59203677e+02 2.56355928e+02 2.39729445e+02 1.43937065e+02\n",
      " 2.59319436e+02 2.55898938e+02 2.40786632e+02 1.51807235e+02\n",
      " 2.59181093e+02 2.58370781e+02 2.39437853e+02 1.52372186e+02\n",
      " 2.59479384e+02 2.55803207e+02 2.39949824e+02 1.52314550e+02\n",
      " 2.59268239e+02 2.56864229e+02 2.40144772e+02 1.39918579e+02\n",
      " 2.59353044e+02 2.57989170e+02 2.40372068e+02 1.47742145e+02\n",
      " 2.59167695e+02 2.60089921e+02 2.38653377e+02 1.48106943e+02\n",
      " 2.59240068e+02 2.58170705e+02 2.38940248e+02 1.43908354e+02\n",
      " 2.59177155e+02 2.59978482e+02 2.40513010e+02 1.52421818e+02\n",
      " 2.59194895e+02 2.57348072e+02 2.39974805e+02 1.52034909e+02\n",
      " 2.59344465e+02 2.58621813e+02 2.39402778e+02 1.52372789e+02\n",
      " 2.59406900e+02 2.56665997e+02 2.40523225e+02 1.47095539e+02\n",
      " 2.59396193e+02 2.55763167e+02 2.39228686e+02 1.33028430e+02\n",
      " 2.59299090e+02 2.54735168e+02 2.39806486e+02 1.51010736e+02\n",
      " 2.59300450e+02 2.54766032e+02 2.39097995e+02 1.52427572e+02\n",
      " 2.59397193e+02 2.53718393e+02 2.40080761e+02 1.42812045e+02\n",
      " 2.59161382e+02 2.53468935e+02 2.39346052e+02 1.53030165e+02\n",
      " 2.59397295e+02 2.54548551e+02 2.38631310e+02 1.52359421e+02\n",
      " 2.59237740e+02 2.54428260e+02 2.39893230e+02 1.40136661e+02\n",
      " 2.59226896e+02 2.54383848e+02 2.40243600e+02 1.50623477e+02\n",
      " 2.59268139e+02 2.59002330e+02 2.39862921e+02 1.51955184e+02\n",
      " 2.59295393e+02 2.56040797e+02 2.38056574e+02 1.50770900e+02\n",
      " 2.59209602e+02 2.58500816e+02 2.39536412e+02 1.52586737e+02\n",
      " 2.59234592e+02 2.54020123e+02 2.38277099e+02 1.51445926e+02\n",
      " 2.59147274e+02 2.56274291e+02 2.38797219e+02 1.52466622e+02\n",
      " 2.59326251e+02 2.58115388e+02 2.41153166e+02 1.51324598e+02\n",
      " 2.59380005e+02 2.57940908e+02 2.40090244e+02 1.39862675e+02\n",
      " 2.59205207e+02 2.54916248e+02 2.38039184e+02 1.52562201e+02\n",
      " 2.59294612e+02 2.56798803e+02 2.39812886e+02 1.51565272e+02\n",
      " 2.59342629e+02 2.56140242e+02 2.39925138e+02 1.50674723e+02\n",
      " 2.59390778e+02 2.57375386e+02 2.40155193e+02 1.51544355e+02\n",
      " 2.59295747e+02 2.59141718e+02 2.39400402e+02 1.51956505e+02\n",
      " 2.59235299e+02 2.57487364e+02 2.38189921e+02 1.51524962e+02\n",
      " 2.59261657e+02 2.55621347e+02 2.40123744e+02 1.51181810e+02\n",
      " 2.59299354e+02 2.54841704e+02 2.39545819e+02 1.53431770e+02\n",
      " 2.59227539e+02 2.58542815e+02 2.38800945e+02 1.36979015e+02\n",
      " 2.59241886e+02 2.57529145e+02 2.40633270e+02 1.50641020e+02\n",
      " 2.59216295e+02 2.55610689e+02 2.40508269e+02 1.53165567e+02\n",
      " 2.59467143e+02 2.54876810e+02 2.75590077e+02 1.47998290e+02\n",
      " 2.59309092e+02 2.57714365e+02 2.40334262e+02 1.51229839e+02\n",
      " 2.59131272e+02 2.52870629e+02 2.39104476e+02 1.52184110e+02\n",
      " 2.59169874e+02 2.58298796e+02 2.40369548e+02 1.52477849e+02\n",
      " 2.59350905e+02 2.57744683e+02 2.38443663e+02 1.49154083e+02\n",
      " 2.59286317e+02 2.55074135e+02 2.39818514e+02 1.53000718e+02\n",
      " 2.59459340e+02 2.57695313e+02 2.40959823e+02 1.50063929e+02\n",
      " 2.59209831e+02 2.56925069e+02 2.39977153e+02 1.52104229e+02\n",
      " 2.59450230e+02 2.56053754e+02 2.39172665e+02 1.42019189e+02\n",
      " 2.59466009e+02 2.56675742e+02 2.38041838e+02 1.51933260e+02\n",
      " 2.59247292e+02 2.55656163e+02 2.39969688e+02 1.52476529e+02\n",
      " 2.59186160e+02 2.58581894e+02 2.39276522e+02 1.47272571e+02\n",
      " 2.59491269e+02 2.56341704e+02 2.39393386e+02 1.52570853e+02\n",
      " 2.59255629e+02 2.56502454e+02 2.38774475e+02 1.52308877e+02\n",
      " 2.59116110e+02 2.57245042e+02 2.40490789e+02 1.51409009e+02\n",
      " 2.59190959e+02 2.55187982e+02 2.39956631e+02 1.33036979e+02\n",
      " 2.59313597e+02 2.59671982e+02 2.40811207e+02 1.50189165e+02\n",
      " 2.59336067e+02 2.53485088e+02 2.40821470e+02 1.52027429e+02\n",
      " 2.59476236e+02 2.57693944e+02 2.40800859e+02 1.50359551e+02\n",
      " 2.59211133e+02 2.57622289e+02 2.40256222e+02 1.52085852e+02\n",
      " 2.59499067e+02 2.59491232e+02 2.40425109e+02 1.50869681e+02\n",
      " 2.59140316e+02 2.58517679e+02 2.40119579e+02 1.52532159e+02\n",
      " 2.59525154e+02 2.55648605e+02 2.39382201e+02 1.52345652e+02\n",
      " 2.59396642e+02 2.59953435e+02 2.40473272e+02 1.52481374e+02\n",
      " 2.59467623e+02 2.57804734e+02 2.38035228e+02 1.51655576e+02\n",
      " 2.59238669e+02 2.56860377e+02 2.39397482e+02 1.52534340e+02\n",
      " 2.59126009e+02 2.60392368e+02 2.40720542e+02 1.52623953e+02\n",
      " 2.59231655e+02 2.57535279e+02 2.40517014e+02 1.49307922e+02\n",
      " 2.59455770e+02 2.52617038e+02 2.38837295e+02 1.52550643e+02\n",
      " 2.59419382e+02 2.54577737e+02 2.39744889e+02 1.51668357e+02\n",
      " 2.59376332e+02 2.56579380e+02 2.39266037e+02 1.51363499e+02\n",
      " 2.59332092e+02 2.58168521e+02 2.40479496e+02 1.37617941e+02\n",
      " 2.59406318e+02 2.58521171e+02 2.40398228e+02 1.52105751e+02\n",
      " 2.59453112e+02 2.58624339e+02 2.38883035e+02 1.51906249e+02\n",
      " 2.59485778e+02 2.58703316e+02 2.38328502e+02 1.51541960e+02\n",
      " 2.59123427e+02 2.54946184e+02 2.39325547e+02 1.50906844e+02\n",
      " 2.59153446e+02 2.54763384e+02 2.38638394e+02 1.51477933e+02\n",
      " 2.59477101e+02 2.56007252e+02 2.39998664e+02 1.49764810e+02\n",
      " 2.59562260e+02 2.54478271e+02 2.39783070e+02 1.52020992e+02\n",
      " 2.59364158e+02 2.58683157e+02 2.39582416e+02 1.51319355e+02\n",
      " 2.59238382e+02 2.57252661e+02 2.38933640e+02 1.51355483e+02\n",
      " 2.59408155e+02 2.56846705e+02 2.39211410e+02 1.33147931e+02\n",
      " 2.59428273e+02 2.56621727e+02 2.39706426e+02 1.51438245e+02\n",
      " 2.59445901e+02 2.58173754e+02 2.39962455e+02 1.40848075e+02\n",
      " 2.59273971e+02 2.58417060e+02 2.40127865e+02 1.52012259e+02\n",
      " 2.59299777e+02 2.55298222e+02 2.40721737e+02 1.48619922e+02\n",
      " 2.59344166e+02 2.59612307e+02 2.38949566e+02 1.51576112e+02\n",
      " 2.59332234e+02 2.58392243e+02 2.38309047e+02 1.52632926e+02\n",
      " 2.59267348e+02 2.55894220e+02 2.38514629e+02 1.53154292e+02\n",
      " 2.59188197e+02 2.54351472e+02 2.40816083e+02 1.52223084e+02\n",
      " 2.59221852e+02 2.53294988e+02 2.34021760e+02 1.53855592e+02\n",
      " 2.59403245e+02 2.58531558e+02 2.36766821e+02 1.47611502e+02\n",
      " 2.59237529e+02 2.55078447e+02 2.39809502e+02 1.51482453e+02\n",
      " 2.59295947e+02 2.55033918e+02 2.39821374e+02 1.52551006e+02\n",
      " 2.59455860e+02 2.55517116e+02 2.40015049e+02 1.48608589e+02\n",
      " 9.77179514e+02]\n"
     ]
    }
   ],
   "source": [
    "print(coefs)"
   ]
  },
  {
   "cell_type": "code",
   "execution_count": 145,
   "metadata": {},
   "outputs": [
    {
     "name": "stdout",
     "output_type": "stream",
     "text": [
      "[17.484467811966 17.103179340337753 17.6424022255981 ...\n",
      " 17.602584072767502 17.264647180064326 18.213832058385343]\n"
     ]
    }
   ],
   "source": [
    "print(y_mnk*(10**24))\n",
    "y_not = y_mnk*(10**24)"
   ]
  },
  {
   "cell_type": "code",
   "execution_count": 146,
   "metadata": {},
   "outputs": [
    {
     "name": "stdout",
     "output_type": "stream",
     "text": [
      "Diff: 5.506425576595312\n"
     ]
    }
   ],
   "source": [
    "diff = np.abs(y - y_not).mean()\n",
    "print(\"Diff: \" + str(diff))"
   ]
  },
  {
   "cell_type": "markdown",
   "metadata": {},
   "source": [
    "## Похожая гипотеза, но теперь в каждой марке руды какое-то число целевой руды\n",
    "\n",
    "Процесс обогащения - отделение \"мусора\" от целевой руды"
   ]
  },
  {
   "cell_type": "markdown",
   "metadata": {},
   "source": [
    "### Сдвиг и добавление руды не нуждаются в переопределении, так как не меняются, поэтому переопределяются методы глобального и локального перемешивания"
   ]
  },
  {
   "cell_type": "code",
   "execution_count": 215,
   "metadata": {},
   "outputs": [],
   "source": [
    "# Глобальное перемешивание руды НОВАЯ ГИПОТЕЗА\n",
    "# Аргументы:\n",
    "# - mas - 3-х мерный тензор(содержит нужное число строк-кол-во экспериментов; \n",
    "#                          101 столбец - сегменты ленты; \n",
    "#                          4 - 3-я размерность(кол-во соответствующей руды в сегменте))\n",
    "# - intensivity - интенсивность - какую часть от равномерной суммы добавляем/вычитаем к массам сегментов ленты\n",
    "# - str_ind - номер эксперимента(строка матрицы)\n",
    "# равномерно распределяем элементы по всей ленте\n",
    "# НОВШЕСТВО: 5-ый параметр перераспределяется равномерно, как и предыдущие(так как эта величина теперь не мнимая)\n",
    "@jit(nopython=True)\n",
    "def global_mix_new(mas, intensivity, str_ind):\n",
    "    ores = np.zeros((5))\n",
    "    intensivity /= 3\n",
    "    # Установка параметров в методе вызывает ошибку вызова компиляции @jit\n",
    "    ores[0] = mas[str_ind, :, 0].mean()\n",
    "    ores[1] = mas[str_ind, :, 1].mean()\n",
    "    ores[2] = mas[str_ind, :, 2].mean()\n",
    "    ores[3] = mas[str_ind, :, 3].mean()\n",
    "    ores[4] = mas[str_ind, :, 4].mean()\n",
    "    \n",
    "    ores *= intensivity\n",
    "    mas[str_ind, :, :] = mas[str_ind, :, :] * (1-intensivity) + ores\n",
    "    \n",
    "    return mas"
   ]
  },
  {
   "cell_type": "code",
   "execution_count": 216,
   "metadata": {},
   "outputs": [],
   "source": [
    "# Локальное перемешивание руды НОВАЯ ГИПОТЕЗА\n",
    "# Аргументы:\n",
    "# - mas - 3-х мерный тензор(содержит нужное число строк-кол-во экспериментов; \n",
    "#                          101 столбец - сегменты ленты; \n",
    "#                          4 - 3-я размерность(кол-во соответствующей руды в сегменте))\n",
    "# - where - какой сегмент перемешивается\n",
    "# - intensivity - интенсивность - какая часть от возможно смеси преобразуется.\n",
    "# - str_ind - номер эксперимента(строка матрицы)\n",
    "# - concentration - массив концентраций, размер = 4\n",
    "# НОВШЕСТВО: 5-ый параметр оперделяется, как сумма масс руд всех марок, домноженная на их концентрации\n",
    "@jit(nopython=True)\n",
    "def local_mix_new(mas, where, intensivity, str_ind, concentration):\n",
    "    where_ind = int(where)\n",
    "    intensivity /= 3\n",
    "    mas[str_ind, where_ind, :4] -= mas[str_ind, where_ind, :4] * concentration * intensivity\n",
    "    mas[str_ind, where_ind, 4] += mas[str_ind, where_ind, :4].dot(concentration) * intensivity\n",
    "    \n",
    "    return mas"
   ]
  },
  {
   "cell_type": "markdown",
   "metadata": {},
   "source": [
    "### Подбор через МНК"
   ]
  },
  {
   "cell_type": "code",
   "execution_count": 218,
   "metadata": {},
   "outputs": [],
   "source": [
    "# После проверки гипотез, отмеченных за день 21 в дневнике, установлены значения концентраций(близкие к ним) и добавочная масса:\n",
    "# - Добавочная масса 9\n",
    "# - Концентрации(близкие значения): [0.83979392 0.83970481 0.83995887 0.84453193]\n",
    "@jit(nopython=True)\n",
    "def new_model(Matrix, a0, a1, a2, a3, a4, a5, a6, a7, a8, a9, a10, a11, a12, \n",
    "          a13, a14, a15, a16, a17, a18, a19, a20, a21, a22, a23, a24, a25, \n",
    "          a26, a27, a28, a29, a30, a31, a32, a33, a34, a35, a36, a37, a38, \n",
    "          a39, a40, a41, a42, a43, a44, a45, a46, a47, a48, a49, a50, a51, \n",
    "          a52, a53, a54, a55, a56, a57, a58, a59, a60, a61, a62, a63, a64, \n",
    "          a65, a66, a67, a68, a69, a70, a71, a72, a73, a74, a75, a76, a77, \n",
    "          a78, a79, a80, a81, a82, a83, a84, a85, a86, a87, a88, a89, a90, \n",
    "          a91, a92, a93, a94, a95, a96, a97, a98, a99, a100, a101, a102, a103, \n",
    "          a104, a105, a106, a107, a108, a109, a110, a111, a112, a113, a114, \n",
    "          a115, a116, a117, a118, a119, a120, a121, a122, a123, a124, a125, \n",
    "          a126, a127, a128, a129, a130, a131, a132, a133, a134, a135, a136, \n",
    "          a137, a138, a139, a140, a141, a142, a143, a144, a145, a146, a147, \n",
    "          a148, a149, a150, a151, a152, a153, a154, a155, a156, a157, a158, \n",
    "          a159, a160, a161, a162, a163, a164, a165, a166, a167, a168, a169, \n",
    "          a170, a171, a172, a173, a174, a175, a176, a177, a178, a179, a180, \n",
    "          a181, a182, a183, a184, a185, a186, a187, a188, a189, a190, a191, \n",
    "          a192, a193, a194, a195, a196, a197, a198, a199, a200, a201, a202, \n",
    "          a203, a204, a205, a206, a207, a208, a209, a210, a211, a212, a213, \n",
    "          a214, a215, a216, a217, a218, a219, a220, a221, a222, a223, a224, \n",
    "          a225, a226, a227, a228, a229, a230, a231, a232, a233, a234, a235, \n",
    "          a236, a237, a238, a239, a240, a241, a242, a243, a244, a245, a246, \n",
    "          a247, a248, a249, a250, a251, a252, a253, a254, a255, a256, a257, \n",
    "          a258, a259, a260, a261, a262, a263, a264, a265, a266, a267, a268, \n",
    "          a269, a270, a271, a272, a273, a274, a275, a276, a277, a278, a279, \n",
    "          a280, a281, a282, a283, a284, a285, a286, a287, a288, a289, a290, \n",
    "          a291, a292, a293, a294, a295, a296, a297, a298, a299, a300, a301, \n",
    "          a302, a303, a304, a305, a306, a307, a308, a309, a310, a311, a312, \n",
    "          a313, a314, a315, a316, a317, a318, a319, a320, a321, a322, a323, \n",
    "          a324, a325, a326, a327, a328, a329, a330, a331, a332, a333, a334, \n",
    "          a335, a336, a337, a338, a339, a340, a341, a342, a343, a344, a345, \n",
    "          a346, a347, a348, a349, a350, a351, a352, a353, a354, a355, a356, \n",
    "          a357, a358, a359, a360, a361, a362, a363, a364, a365, a366, a367, \n",
    "          a368, a369, a370, a371, a372, a373, a374, a375, a376, a377, a378, \n",
    "          a379, a380, a381, a382, a383, a384, a385, a386, a387, a388, a389, \n",
    "          a390, a391, a392, a393, a394, a395, a396, a397, a398, a399, a400, \n",
    "          a401, a402, a403,\n",
    "          ):\n",
    "    mass_int = 9\n",
    "    #init_mas = new_coefs\n",
    "    init_mas = np.array([a0, a1, a2, a3, a4, a5, a6, a7, a8, a9, a10, a11, a12, a13, a14, a15, a16, a17, a18, a19, a20, \n",
    "                         a21, a22, a23, a24, a25, a26, a27, a28, a29, a30, a31, a32, a33, a34, a35, a36, a37, a38, a39, \n",
    "                         a40, a41, a42, a43, a44, a45, a46, a47, a48, a49, a50, a51, a52, a53, a54, a55, a56, a57, a58, \n",
    "                         a59, a60, a61, a62, a63, a64, a65, a66, a67, a68, a69, a70, a71, a72, a73, a74, a75, a76, a77, \n",
    "                         a78, a79, a80, a81, a82, a83, a84, a85, a86, a87, a88, a89, a90, a91, a92, a93, a94, a95, a96, \n",
    "                         a97, a98, a99, a100, a101, a102, a103, a104, a105, a106, a107, a108, a109, a110, a111, a112, \n",
    "                         a113, a114, a115, a116, a117, a118, a119, a120, a121, a122, a123, a124, a125, a126, a127, a128, \n",
    "                         a129, a130, a131, a132, a133, a134, a135, a136, a137, a138, a139, a140, a141, a142, a143, a144, \n",
    "                         a145, a146, a147, a148, a149, a150, a151, a152, a153, a154, a155, a156, a157, a158, a159, a160, \n",
    "                         a161, a162, a163, a164, a165, a166, a167, a168, a169, a170, a171, a172, a173, a174, a175, a176, \n",
    "                         a177, a178, a179, a180, a181, a182, a183, a184, a185, a186, a187, a188, a189, a190, a191, a192, \n",
    "                         a193, a194, a195, a196, a197, a198, a199, a200, a201, a202, a203, a204, a205, a206, a207, a208, \n",
    "                         a209, a210, a211, a212, a213, a214, a215, a216, a217, a218, a219, a220, a221, a222, a223, a224, \n",
    "                         a225, a226, a227, a228, a229, a230, a231, a232, a233, a234, a235, a236, a237, a238, a239, a240, \n",
    "                         a241, a242, a243, a244, a245, a246, a247, a248, a249, a250, a251, a252, a253, a254, a255, a256, \n",
    "                         a257, a258, a259, a260, a261, a262, a263, a264, a265, a266, a267, a268, a269, a270, a271, a272, \n",
    "                         a273, a274, a275, a276, a277, a278, a279, a280, a281, a282, a283, a284, a285, a286, a287, a288, \n",
    "                         a289, a290, a291, a292, a293, a294, a295, a296, a297, a298, a299, a300, a301, a302, a303, a304, \n",
    "                         a305, a306, a307, a308, a309, a310, a311, a312, a313, a314, a315, a316, a317, a318, a319, a320, \n",
    "                         a321, a322, a323, a324, a325, a326, a327, a328, a329, a330, a331, a332, a333, a334, a335, a336, \n",
    "                         a337, a338, a339, a340, a341, a342, a343, a344, a345, a346, a347, a348, a349, a350, a351, a352, \n",
    "                         a353, a354, a355, a356, a357, a358, a359, a360, a361, a362, a363, a364, a365, a366, a367, a368, \n",
    "                         a369, a370, a371, a372, a373, a374, a375, a376, a377, a378, a379, a380, a381, a382, a383, a384, \n",
    "                         a385, a386, a387, a388, a389, a390, a391, a392, a393, a394, a395, a396, a397, a398, a399, a400, \n",
    "                         a401, a402, a403])\n",
    "    concentration = np.array([0.83979392, 0.83970481, 0.83995887, 0.84453193])\n",
    "    length = int(Matrix.shape[0])\n",
    "    lighted = lighted_generator(init_mas, length = length)\n",
    "    ans = np.zeros(10000)\n",
    "    mass = np.zeros(10000)\n",
    "    printed = np.zeros(10000)\n",
    "    for j in range(length):\n",
    "        for i in range(100):\n",
    "            if Matrix[j, 3*i] == 0:\n",
    "                move = int(Matrix[j, 3*i+1])\n",
    "                lighted = moving(lighted, move, j)\n",
    "            elif Matrix[j, 3*i] == 1:\n",
    "                lighted = ore(lighted, Matrix[j, 3*i+1], Matrix[j, 3*i+2], j, mass_int)\n",
    "            elif Matrix[j, 3*i] == 2:\n",
    "                lighted = global_mix_new(lighted, Matrix[j, 3*i+2], j)\n",
    "            elif Matrix[j, 3*i] == 3:\n",
    "                lighted = local_mix_new(lighted, Matrix[j, 3*i+1], Matrix[j, 3*i+2], j, concentration)\n",
    "        for i in range(101):\n",
    "            ans[j] += lighted[j, i, 4]\n",
    "            mass[j] += lighted[j, i, :].sum()\n",
    "        printed[j] = ans[j]/mass[j]*100\n",
    "    return printed"
   ]
  },
  {
   "cell_type": "code",
   "execution_count": 219,
   "metadata": {},
   "outputs": [
    {
     "name": "stdout",
     "output_type": "stream",
     "text": [
      "(404,)\n"
     ]
    }
   ],
   "source": [
    "new_coefs, _ = curve_fit(new_model, Matrix, y)\n",
    "print(new_coefs.shape)"
   ]
  },
  {
   "cell_type": "code",
   "execution_count": 220,
   "metadata": {
    "tags": []
   },
   "outputs": [
    {
     "name": "stdout",
     "output_type": "stream",
     "text": [
      "[1. 1. 1. 1. 1. 1. 1. 1. 1. 1. 1. 1. 1. 1. 1. 1. 1. 1. 1. 1. 1. 1. 1. 1.\n",
      " 1. 1. 1. 1. 1. 1. 1. 1. 1. 1. 1. 1. 1. 1. 1. 1. 1. 1. 1. 1. 1. 1. 1. 1.\n",
      " 1. 1. 1. 1. 1. 1. 1. 1. 1. 1. 1. 1. 1. 1. 1. 1. 1. 1. 1. 1. 1. 1. 1. 1.\n",
      " 1. 1. 1. 1. 1. 1. 1. 1. 1. 1. 1. 1. 1. 1. 1. 1. 1. 1. 1. 1. 1. 1. 1. 1.\n",
      " 1. 1. 1. 1. 1. 1. 1. 1. 1. 1. 1. 1. 1. 1. 1. 1. 1. 1. 1. 1. 1. 1. 1. 1.\n",
      " 1. 1. 1. 1. 1. 1. 1. 1. 1. 1. 1. 1. 1. 1. 1. 1. 1. 1. 1. 1. 1. 1. 1. 1.\n",
      " 1. 1. 1. 1. 1. 1. 1. 1. 1. 1. 1. 1. 1. 1. 1. 1. 1. 1. 1. 1. 1. 1. 1. 1.\n",
      " 1. 1. 1. 1. 1. 1. 1. 1. 1. 1. 1. 1. 1. 1. 1. 1. 1. 1. 1. 1. 1. 1. 1. 1.\n",
      " 1. 1. 1. 1. 1. 1. 1. 1. 1. 1. 1. 1. 1. 1. 1. 1. 1. 1. 1. 1. 1. 1. 1. 1.\n",
      " 1. 1. 1. 1. 1. 1. 1. 1. 1. 1. 1. 1. 1. 1. 1. 1. 1. 1. 1. 1. 1. 1. 1. 1.\n",
      " 1. 1. 1. 1. 1. 1. 1. 1. 1. 1. 1. 1. 1. 1. 1. 1. 1. 1. 1. 1. 1. 1. 1. 1.\n",
      " 1. 1. 1. 1. 1. 1. 1. 1. 1. 1. 1. 1. 1. 1. 1. 1. 1. 1. 1. 1. 1. 1. 1. 1.\n",
      " 1. 1. 1. 1. 1. 1. 1. 1. 1. 1. 1. 1. 1. 1. 1. 1. 1. 1. 1. 1. 1. 1. 1. 1.\n",
      " 1. 1. 1. 1. 1. 1. 1. 1. 1. 1. 1. 1. 1. 1. 1. 1. 1. 1. 1. 1. 1. 1. 1. 1.\n",
      " 1. 1. 1. 1. 1. 1. 1. 1. 1. 1. 1. 1. 1. 1. 1. 1. 1. 1. 1. 1. 1. 1. 1. 1.\n",
      " 1. 1. 1. 1. 1. 1. 1. 1. 1. 1. 1. 1. 1. 1. 1. 1. 1. 1. 1. 1. 1. 1. 1. 1.\n",
      " 1. 1. 1. 1. 1. 1. 1. 1. 1. 1. 1. 1. 1. 1. 1. 1. 1. 1. 1. 1.]\n"
     ]
    }
   ],
   "source": [
    "print(new_coefs)"
   ]
  },
  {
   "cell_type": "code",
   "execution_count": 221,
   "metadata": {},
   "outputs": [],
   "source": [
    "np.save(\"./hypocofs\", new_coefs)"
   ]
  },
  {
   "cell_type": "code",
   "execution_count": 233,
   "metadata": {
    "tags": []
   },
   "outputs": [],
   "source": [
    "@jit(nopython=True)\n",
    "def new_predict(cofs = new_coefs, Matrix = Matrix, mass_int = 9, conc = np.array([0.83979392, 0.83970481, 0.83995887, 0.84453193])):\n",
    "    init_mas = cofs\n",
    "    # Предопределенные в результате проверки гипотез значения\n",
    "    #conc = np.array([0.83979392, 0.83970481, 0.83995887, 0.84453193])\n",
    "    #mass_int = 9\n",
    "    \n",
    "    length = int(Matrix.shape[0])\n",
    "    lighted = lighted_generator(init_mas, length = length)\n",
    "    ans = np.zeros(length)\n",
    "    mass = np.zeros(length)\n",
    "    printed = np.zeros(length)\n",
    "    for j in range(length):\n",
    "        for i in range(100):\n",
    "            if Matrix[j, 3*i] == 0:\n",
    "                move = int(Matrix[j, 3*i+1])\n",
    "                lighted = moving(lighted, move, j)\n",
    "            elif Matrix[j, 3*i] == 1:\n",
    "                lighted = ore(lighted, Matrix[j, 3*i+1], Matrix[j, 3*i+2], j, mass_int)\n",
    "            elif Matrix[j, 3*i] == 2:\n",
    "                lighted = global_mix_new(lighted, Matrix[j, 3*i+2], j)\n",
    "            elif Matrix[j, 3*i] == 3:\n",
    "                lighted = local_mix_new(lighted, Matrix[j, 3*i+1], Matrix[j, 3*i+2], j, conc)\n",
    "        for i in range(101):\n",
    "            ans[j] += lighted[j, i, 4]\n",
    "            mass[j] += lighted[j, i, :].sum()\n",
    "        printed[j] = ans[j]/mass[j]*100\n",
    "    return printed"
   ]
  },
  {
   "cell_type": "code",
   "execution_count": 234,
   "metadata": {},
   "outputs": [
    {
     "name": "stdout",
     "output_type": "stream",
     "text": [
      "18.94350344415221\n"
     ]
    }
   ],
   "source": [
    "print(np.abs(y-new_predict(cofs = new_coefs)).mean())"
   ]
  },
  {
   "cell_type": "markdown",
   "metadata": {},
   "source": [
    "## Подбор значения добавочной массы"
   ]
  },
  {
   "cell_type": "code",
   "execution_count": 224,
   "metadata": {},
   "outputs": [],
   "source": [
    "@jit(nopython=True)\n",
    "def add_mas_model(Matrix, mass_int):\n",
    "    #mass_int = 9\n",
    "    init_mas = new_coefs\n",
    "    \n",
    "    concentration = np.array([0.83979392, 0.83970481, 0.83995887, 0.84453193])\n",
    "    length = int(Matrix.shape[0])\n",
    "    lighted = lighted_generator(init_mas, length = length)\n",
    "    ans = np.zeros(10000)\n",
    "    mass = np.zeros(10000)\n",
    "    printed = np.zeros(10000)\n",
    "    for j in range(length):\n",
    "        for i in range(100):\n",
    "            if Matrix[j, 3*i] == 0:\n",
    "                move = int(Matrix[j, 3*i+1])\n",
    "                lighted = moving(lighted, move, j)\n",
    "            elif Matrix[j, 3*i] == 1:\n",
    "                lighted = ore(lighted, Matrix[j, 3*i+1], Matrix[j, 3*i+2], j, mass_int)\n",
    "            elif Matrix[j, 3*i] == 2:\n",
    "                lighted = global_mix_new(lighted, Matrix[j, 3*i+2], j)\n",
    "            elif Matrix[j, 3*i] == 3:\n",
    "                lighted = local_mix_new(lighted, Matrix[j, 3*i+1], Matrix[j, 3*i+2], j, concentration)\n",
    "        for i in range(101):\n",
    "            ans[j] += lighted[j, i, 4]\n",
    "            mass[j] += lighted[j, i, :].sum()\n",
    "        printed[j] = ans[j]/mass[j]*100\n",
    "    return printed"
   ]
  },
  {
   "cell_type": "code",
   "execution_count": 225,
   "metadata": {},
   "outputs": [
    {
     "name": "stdout",
     "output_type": "stream",
     "text": [
      "Added mass: [43.42135717]\n"
     ]
    }
   ],
   "source": [
    "mass_adder, _ = curve_fit(add_mas_model, Matrix, y)\n",
    "print(\"Added mass: \" + str(mass_adder))"
   ]
  },
  {
   "cell_type": "code",
   "execution_count": 235,
   "metadata": {},
   "outputs": [
    {
     "name": "stdout",
     "output_type": "stream",
     "text": [
      "6.336770573592784\n"
     ]
    }
   ],
   "source": [
    "print(np.abs(y-new_predict(cofs = new_coefs, mass_int=int(mass_adder))).mean())"
   ]
  },
  {
   "cell_type": "markdown",
   "metadata": {},
   "source": [
    "## Подбор значений концентрации"
   ]
  },
  {
   "cell_type": "code",
   "execution_count": 230,
   "metadata": {},
   "outputs": [],
   "source": [
    "@jit(nopython=True)\n",
    "def conc_model(Matrix, a0, a1, a2, a3):\n",
    "    mass_int = 43\n",
    "    init_mas = new_coefs\n",
    "    \n",
    "    concentration = np.array([a0, a1, a2, a3])\n",
    "    length = int(Matrix.shape[0])\n",
    "    lighted = lighted_generator(init_mas, length = length)\n",
    "    ans = np.zeros(10000)\n",
    "    mass = np.zeros(10000)\n",
    "    printed = np.zeros(10000)\n",
    "    for j in range(length):\n",
    "        for i in range(100):\n",
    "            if Matrix[j, 3*i] == 0:\n",
    "                move = int(Matrix[j, 3*i+1])\n",
    "                lighted = moving(lighted, move, j)\n",
    "            elif Matrix[j, 3*i] == 1:\n",
    "                lighted = ore(lighted, Matrix[j, 3*i+1], Matrix[j, 3*i+2], j, mass_int)\n",
    "            elif Matrix[j, 3*i] == 2:\n",
    "                lighted = global_mix_new(lighted, Matrix[j, 3*i+2], j)\n",
    "            elif Matrix[j, 3*i] == 3:\n",
    "                lighted = local_mix_new(lighted, Matrix[j, 3*i+1], Matrix[j, 3*i+2], j, concentration)\n",
    "        for i in range(101):\n",
    "            ans[j] += lighted[j, i, 4]\n",
    "            mass[j] += lighted[j, i, :].sum()\n",
    "        printed[j] = ans[j]/mass[j]*100\n",
    "    return printed"
   ]
  },
  {
   "cell_type": "code",
   "execution_count": 231,
   "metadata": {},
   "outputs": [
    {
     "name": "stdout",
     "output_type": "stream",
     "text": [
      "Conc: [0.16544567 0.49924067 0.68212242 0.7612292 ]\n"
     ]
    }
   ],
   "source": [
    "conc, _ = curve_fit(conc_model, Matrix, y)\n",
    "print(\"Conc: \" + str(conc))"
   ]
  },
  {
   "cell_type": "code",
   "execution_count": 236,
   "metadata": {},
   "outputs": [
    {
     "name": "stdout",
     "output_type": "stream",
     "text": [
      "6.289626943044672\n"
     ]
    }
   ],
   "source": [
    "print(np.abs(y-new_predict(cofs = new_coefs, mass_int=int(mass_adder), conc=conc)).mean())"
   ]
  },
  {
   "cell_type": "code",
   "execution_count": 237,
   "metadata": {},
   "outputs": [
    {
     "name": "stdout",
     "output_type": "stream",
     "text": [
      "(50000,)\n",
      "[17.99762459 17.53230225 20.20631224 17.42789804 18.24423499]\n"
     ]
    }
   ],
   "source": [
    "y_mnk = new_predict(Matrix=Tester, cofs = new_coefs, mass_int=int(mass_adder), conc=conc)\n",
    "print(y_mnk.shape)\n",
    "print(y_mnk[:5])"
   ]
  },
  {
   "cell_type": "markdown",
   "metadata": {},
   "source": [
    "## Дополнительная гипотеза с предыдущим методом сдвига"
   ]
  },
  {
   "cell_type": "code",
   "execution_count": 256,
   "metadata": {},
   "outputs": [],
   "source": [
    "# Сдвиг тележки \"вправо\"\n",
    "# Аргументы:\n",
    "# - mas - 3-х мерный тензор(содержит нужное число строк-кол-во экспериментов; \n",
    "#                          101 столбец - сегменты ленты; \n",
    "#                          4 - 3-я размерность(кол-во соответствующей руды в сегменте))\n",
    "# - move - на сколько сегментов произойдет сдвиг вправо\n",
    "# - str_ind - номер эксперимента(строка матрицы)\n",
    "# Сдвиг происходит \"вправо\", так как прямое+обратное движение опровергнуто, поэтому \n",
    "# - значения в сегментах с номерами от 0 до move инициализируются значениями пришедшей руды с предыдущих сегментов (случайное содержание)\n",
    "# - значения в сешментах от move до 100 инициализируются нулями\n",
    "@jit(nopython=True)\n",
    "def moving_new(mas, move, str_ind):\n",
    "    # число сегментов\n",
    "    last_ind = int(mas.shape[1])\n",
    "    # сдвиг \"вперед и назад\"\n",
    "    mas[str_ind, :move, :] = np.zeros((move, 5))\n",
    "    return mas"
   ]
  },
  {
   "cell_type": "code",
   "execution_count": 257,
   "metadata": {},
   "outputs": [],
   "source": [
    "# После проверки гипотез, отмеченных за день 21 в дневнике, установлены значения концентраций(близкие к ним) и добавочная масса:\n",
    "# - Добавочная масса 9\n",
    "# - Концентрации(близкие значения): [0.83979392 0.83970481 0.83995887 0.84453193]\n",
    "@jit(nopython=True)\n",
    "def new_model1(Matrix, a0, a1, a2, a3, a4, a5, a6, a7, a8, a9, a10, a11, a12, \n",
    "          a13, a14, a15, a16, a17, a18, a19, a20, a21, a22, a23, a24, a25, \n",
    "          a26, a27, a28, a29, a30, a31, a32, a33, a34, a35, a36, a37, a38, \n",
    "          a39, a40, a41, a42, a43, a44, a45, a46, a47, a48, a49, a50, a51, \n",
    "          a52, a53, a54, a55, a56, a57, a58, a59, a60, a61, a62, a63, a64, \n",
    "          a65, a66, a67, a68, a69, a70, a71, a72, a73, a74, a75, a76, a77, \n",
    "          a78, a79, a80, a81, a82, a83, a84, a85, a86, a87, a88, a89, a90, \n",
    "          a91, a92, a93, a94, a95, a96, a97, a98, a99, a100, a101, a102, a103, \n",
    "          a104, a105, a106, a107, a108, a109, a110, a111, a112, a113, a114, \n",
    "          a115, a116, a117, a118, a119, a120, a121, a122, a123, a124, a125, \n",
    "          a126, a127, a128, a129, a130, a131, a132, a133, a134, a135, a136, \n",
    "          a137, a138, a139, a140, a141, a142, a143, a144, a145, a146, a147, \n",
    "          a148, a149, a150, a151, a152, a153, a154, a155, a156, a157, a158, \n",
    "          a159, a160, a161, a162, a163, a164, a165, a166, a167, a168, a169, \n",
    "          a170, a171, a172, a173, a174, a175, a176, a177, a178, a179, a180, \n",
    "          a181, a182, a183, a184, a185, a186, a187, a188, a189, a190, a191, \n",
    "          a192, a193, a194, a195, a196, a197, a198, a199, a200, a201, a202, \n",
    "          a203, a204, a205, a206, a207, a208, a209, a210, a211, a212, a213, \n",
    "          a214, a215, a216, a217, a218, a219, a220, a221, a222, a223, a224, \n",
    "          a225, a226, a227, a228, a229, a230, a231, a232, a233, a234, a235, \n",
    "          a236, a237, a238, a239, a240, a241, a242, a243, a244, a245, a246, \n",
    "          a247, a248, a249, a250, a251, a252, a253, a254, a255, a256, a257, \n",
    "          a258, a259, a260, a261, a262, a263, a264, a265, a266, a267, a268, \n",
    "          a269, a270, a271, a272, a273, a274, a275, a276, a277, a278, a279, \n",
    "          a280, a281, a282, a283, a284, a285, a286, a287, a288, a289, a290, \n",
    "          a291, a292, a293, a294, a295, a296, a297, a298, a299, a300, a301, \n",
    "          a302, a303, a304, a305, a306, a307, a308, a309, a310, a311, a312, \n",
    "          a313, a314, a315, a316, a317, a318, a319, a320, a321, a322, a323, \n",
    "          a324, a325, a326, a327, a328, a329, a330, a331, a332, a333, a334, \n",
    "          a335, a336, a337, a338, a339, a340, a341, a342, a343, a344, a345, \n",
    "          a346, a347, a348, a349, a350, a351, a352, a353, a354, a355, a356, \n",
    "          a357, a358, a359, a360, a361, a362, a363, a364, a365, a366, a367, \n",
    "          a368, a369, a370, a371, a372, a373, a374, a375, a376, a377, a378, \n",
    "          a379, a380, a381, a382, a383, a384, a385, a386, a387, a388, a389, \n",
    "          a390, a391, a392, a393, a394, a395, a396, a397, a398, a399, a400, \n",
    "          a401, a402, a403,\n",
    "          ):\n",
    "    mass_int = 9\n",
    "    #init_mas = new_coefs\n",
    "    init_mas = np.array([a0, a1, a2, a3, a4, a5, a6, a7, a8, a9, a10, a11, a12, a13, a14, a15, a16, a17, a18, a19, a20, \n",
    "                         a21, a22, a23, a24, a25, a26, a27, a28, a29, a30, a31, a32, a33, a34, a35, a36, a37, a38, a39, \n",
    "                         a40, a41, a42, a43, a44, a45, a46, a47, a48, a49, a50, a51, a52, a53, a54, a55, a56, a57, a58, \n",
    "                         a59, a60, a61, a62, a63, a64, a65, a66, a67, a68, a69, a70, a71, a72, a73, a74, a75, a76, a77, \n",
    "                         a78, a79, a80, a81, a82, a83, a84, a85, a86, a87, a88, a89, a90, a91, a92, a93, a94, a95, a96, \n",
    "                         a97, a98, a99, a100, a101, a102, a103, a104, a105, a106, a107, a108, a109, a110, a111, a112, \n",
    "                         a113, a114, a115, a116, a117, a118, a119, a120, a121, a122, a123, a124, a125, a126, a127, a128, \n",
    "                         a129, a130, a131, a132, a133, a134, a135, a136, a137, a138, a139, a140, a141, a142, a143, a144, \n",
    "                         a145, a146, a147, a148, a149, a150, a151, a152, a153, a154, a155, a156, a157, a158, a159, a160, \n",
    "                         a161, a162, a163, a164, a165, a166, a167, a168, a169, a170, a171, a172, a173, a174, a175, a176, \n",
    "                         a177, a178, a179, a180, a181, a182, a183, a184, a185, a186, a187, a188, a189, a190, a191, a192, \n",
    "                         a193, a194, a195, a196, a197, a198, a199, a200, a201, a202, a203, a204, a205, a206, a207, a208, \n",
    "                         a209, a210, a211, a212, a213, a214, a215, a216, a217, a218, a219, a220, a221, a222, a223, a224, \n",
    "                         a225, a226, a227, a228, a229, a230, a231, a232, a233, a234, a235, a236, a237, a238, a239, a240, \n",
    "                         a241, a242, a243, a244, a245, a246, a247, a248, a249, a250, a251, a252, a253, a254, a255, a256, \n",
    "                         a257, a258, a259, a260, a261, a262, a263, a264, a265, a266, a267, a268, a269, a270, a271, a272, \n",
    "                         a273, a274, a275, a276, a277, a278, a279, a280, a281, a282, a283, a284, a285, a286, a287, a288, \n",
    "                         a289, a290, a291, a292, a293, a294, a295, a296, a297, a298, a299, a300, a301, a302, a303, a304, \n",
    "                         a305, a306, a307, a308, a309, a310, a311, a312, a313, a314, a315, a316, a317, a318, a319, a320, \n",
    "                         a321, a322, a323, a324, a325, a326, a327, a328, a329, a330, a331, a332, a333, a334, a335, a336, \n",
    "                         a337, a338, a339, a340, a341, a342, a343, a344, a345, a346, a347, a348, a349, a350, a351, a352, \n",
    "                         a353, a354, a355, a356, a357, a358, a359, a360, a361, a362, a363, a364, a365, a366, a367, a368, \n",
    "                         a369, a370, a371, a372, a373, a374, a375, a376, a377, a378, a379, a380, a381, a382, a383, a384, \n",
    "                         a385, a386, a387, a388, a389, a390, a391, a392, a393, a394, a395, a396, a397, a398, a399, a400, \n",
    "                         a401, a402, a403])\n",
    "    concentration = np.array([0.83979392, 0.83970481, 0.83995887, 0.84453193])\n",
    "    length = int(Matrix.shape[0])\n",
    "    lighted = lighted_generator(init_mas, length = length)\n",
    "    ans = np.zeros(10000)\n",
    "    mass = np.zeros(10000)\n",
    "    printed = np.zeros(10000)\n",
    "    for j in range(length):\n",
    "        for i in range(100):\n",
    "            if Matrix[j, 3*i] == 0:\n",
    "                move = int(Matrix[j, 3*i+1])\n",
    "                lighted = moving_new(lighted, move, j)\n",
    "            elif Matrix[j, 3*i] == 1:\n",
    "                lighted = ore(lighted, Matrix[j, 3*i+1], Matrix[j, 3*i+2], j, mass_int)\n",
    "            elif Matrix[j, 3*i] == 2:\n",
    "                lighted = global_mix_new(lighted, Matrix[j, 3*i+2], j)\n",
    "            elif Matrix[j, 3*i] == 3:\n",
    "                lighted = local_mix_new(lighted, Matrix[j, 3*i+1], Matrix[j, 3*i+2], j, concentration)\n",
    "        for i in range(101):\n",
    "            ans[j] += lighted[j, i, 4]\n",
    "            mass[j] += lighted[j, i, :].sum()\n",
    "        printed[j] = ans[j]/mass[j]*100\n",
    "    return printed"
   ]
  },
  {
   "cell_type": "code",
   "execution_count": 258,
   "metadata": {},
   "outputs": [
    {
     "name": "stdout",
     "output_type": "stream",
     "text": [
      "(404,)\n"
     ]
    }
   ],
   "source": [
    "masses_second, _ = curve_fit(new_model1, Matrix, y)\n",
    "print(masses_second.shape)"
   ]
  },
  {
   "cell_type": "code",
   "execution_count": 259,
   "metadata": {
    "tags": []
   },
   "outputs": [
    {
     "name": "stdout",
     "output_type": "stream",
     "text": [
      "[1. 1. 1. 1. 1. 1. 1. 1. 1. 1. 1. 1. 1. 1. 1. 1. 1. 1. 1. 1. 1. 1. 1. 1.\n",
      " 1. 1. 1. 1. 1. 1. 1. 1. 1. 1. 1. 1. 1. 1. 1. 1. 1. 1. 1. 1. 1. 1. 1. 1.\n",
      " 1. 1. 1. 1. 1. 1. 1. 1. 1. 1. 1. 1. 1. 1. 1. 1. 1. 1. 1. 1. 1. 1. 1. 1.\n",
      " 1. 1. 1. 1. 1. 1. 1. 1. 1. 1. 1. 1. 1. 1. 1. 1. 1. 1. 1. 1. 1. 1. 1. 1.\n",
      " 1. 1. 1. 1. 1. 1. 1. 1. 1. 1. 1. 1. 1. 1. 1. 1. 1. 1. 1. 1. 1. 1. 1. 1.\n",
      " 1. 1. 1. 1. 1. 1. 1. 1. 1. 1. 1. 1. 1. 1. 1. 1. 1. 1. 1. 1. 1. 1. 1. 1.\n",
      " 1. 1. 1. 1. 1. 1. 1. 1. 1. 1. 1. 1. 1. 1. 1. 1. 1. 1. 1. 1. 1. 1. 1. 1.\n",
      " 1. 1. 1. 1. 1. 1. 1. 1. 1. 1. 1. 1. 1. 1. 1. 1. 1. 1. 1. 1. 1. 1. 1. 1.\n",
      " 1. 1. 1. 1. 1. 1. 1. 1. 1. 1. 1. 1. 1. 1. 1. 1. 1. 1. 1. 1. 1. 1. 1. 1.\n",
      " 1. 1. 1. 1. 1. 1. 1. 1. 1. 1. 1. 1. 1. 1. 1. 1. 1. 1. 1. 1. 1. 1. 1. 1.\n",
      " 1. 1. 1. 1. 1. 1. 1. 1. 1. 1. 1. 1. 1. 1. 1. 1. 1. 1. 1. 1. 1. 1. 1. 1.\n",
      " 1. 1. 1. 1. 1. 1. 1. 1. 1. 1. 1. 1. 1. 1. 1. 1. 1. 1. 1. 1. 1. 1. 1. 1.\n",
      " 1. 1. 1. 1. 1. 1. 1. 1. 1. 1. 1. 1. 1. 1. 1. 1. 1. 1. 1. 1. 1. 1. 1. 1.\n",
      " 1. 1. 1. 1. 1. 1. 1. 1. 1. 1. 1. 1. 1. 1. 1. 1. 1. 1. 1. 1. 1. 1. 1. 1.\n",
      " 1. 1. 1. 1. 1. 1. 1. 1. 1. 1. 1. 1. 1. 1. 1. 1. 1. 1. 1. 1. 1. 1. 1. 1.\n",
      " 1. 1. 1. 1. 1. 1. 1. 1. 1. 1. 1. 1. 1. 1. 1. 1. 1. 1. 1. 1. 1. 1. 1. 1.\n",
      " 1. 1. 1. 1. 1. 1. 1. 1. 1. 1. 1. 1. 1. 1. 1. 1. 1. 1. 1. 1.]\n"
     ]
    }
   ],
   "source": [
    "print(masses_second)"
   ]
  },
  {
   "cell_type": "code",
   "execution_count": 260,
   "metadata": {},
   "outputs": [],
   "source": [
    "np.save(\"./Masses_second\", masses_second)"
   ]
  },
  {
   "cell_type": "code",
   "execution_count": 261,
   "metadata": {
    "tags": []
   },
   "outputs": [],
   "source": [
    "@jit(nopython=True)\n",
    "def new_predict1(cofs = masses_second, Matrix = Matrix, mass_int = 9, conc = np.array([0.83979392, 0.83970481, 0.83995887, 0.84453193])):\n",
    "    init_mas = cofs\n",
    "    # Предопределенные в результате проверки гипотез значения\n",
    "    #conc = np.array([0.83979392, 0.83970481, 0.83995887, 0.84453193])\n",
    "    #mass_int = 9\n",
    "    \n",
    "    length = int(Matrix.shape[0])\n",
    "    lighted = lighted_generator(init_mas, length = length)\n",
    "    ans = np.zeros(length)\n",
    "    mass = np.zeros(length)\n",
    "    printed = np.zeros(length)\n",
    "    for j in range(length):\n",
    "        for i in range(100):\n",
    "            if Matrix[j, 3*i] == 0:\n",
    "                move = int(Matrix[j, 3*i+1])\n",
    "                lighted = moving(lighted, move, j)\n",
    "            elif Matrix[j, 3*i] == 1:\n",
    "                lighted = ore(lighted, Matrix[j, 3*i+1], Matrix[j, 3*i+2], j, mass_int)\n",
    "            elif Matrix[j, 3*i] == 2:\n",
    "                lighted = global_mix_new(lighted, Matrix[j, 3*i+2], j)\n",
    "            elif Matrix[j, 3*i] == 3:\n",
    "                lighted = local_mix_new(lighted, Matrix[j, 3*i+1], Matrix[j, 3*i+2], j, conc)\n",
    "        for i in range(101):\n",
    "            ans[j] += lighted[j, i, 4]\n",
    "            mass[j] += lighted[j, i, :].sum()\n",
    "        printed[j] = ans[j]/mass[j]*100\n",
    "    return printed"
   ]
  },
  {
   "cell_type": "code",
   "execution_count": 262,
   "metadata": {},
   "outputs": [
    {
     "name": "stdout",
     "output_type": "stream",
     "text": [
      "18.94350344415221\n"
     ]
    }
   ],
   "source": [
    "print(np.abs(y-new_predict1()).mean())"
   ]
  },
  {
   "cell_type": "markdown",
   "metadata": {},
   "source": [
    "## Подбор значения добавочной массы"
   ]
  },
  {
   "cell_type": "code",
   "execution_count": 263,
   "metadata": {},
   "outputs": [],
   "source": [
    "@jit(nopython=True)\n",
    "def add_mas_model1(Matrix, mass_int):\n",
    "    #mass_int = 9\n",
    "    init_mas = masses_second\n",
    "    \n",
    "    concentration = np.array([0.83979392, 0.83970481, 0.83995887, 0.84453193])\n",
    "    length = int(Matrix.shape[0])\n",
    "    lighted = lighted_generator(init_mas, length = length)\n",
    "    ans = np.zeros(10000)\n",
    "    mass = np.zeros(10000)\n",
    "    printed = np.zeros(10000)\n",
    "    for j in range(length):\n",
    "        for i in range(100):\n",
    "            if Matrix[j, 3*i] == 0:\n",
    "                move = int(Matrix[j, 3*i+1])\n",
    "                lighted = moving_new(lighted, move, j)\n",
    "            elif Matrix[j, 3*i] == 1:\n",
    "                lighted = ore(lighted, Matrix[j, 3*i+1], Matrix[j, 3*i+2], j, mass_int)\n",
    "            elif Matrix[j, 3*i] == 2:\n",
    "                lighted = global_mix_new(lighted, Matrix[j, 3*i+2], j)\n",
    "            elif Matrix[j, 3*i] == 3:\n",
    "                lighted = local_mix_new(lighted, Matrix[j, 3*i+1], Matrix[j, 3*i+2], j, concentration)\n",
    "        for i in range(101):\n",
    "            ans[j] += lighted[j, i, 4]\n",
    "            mass[j] += lighted[j, i, :].sum()\n",
    "        printed[j] = ans[j]/mass[j]*100\n",
    "    return printed"
   ]
  },
  {
   "cell_type": "code",
   "execution_count": 264,
   "metadata": {},
   "outputs": [
    {
     "name": "stdout",
     "output_type": "stream",
     "text": [
      "Added mass1: [60.77402932]\n"
     ]
    }
   ],
   "source": [
    "mass_adder1, _ = curve_fit(add_mas_model1, Matrix, y)\n",
    "print(\"Added mass1: \" + str(mass_adder1))"
   ]
  },
  {
   "cell_type": "code",
   "execution_count": 265,
   "metadata": {},
   "outputs": [
    {
     "name": "stdout",
     "output_type": "stream",
     "text": [
      "6.760340601838754\n"
     ]
    }
   ],
   "source": [
    "print(np.abs(y-new_predict1(mass_int=int(mass_adder1))).mean())"
   ]
  },
  {
   "cell_type": "markdown",
   "metadata": {},
   "source": [
    "## Подбор значений концентрации"
   ]
  },
  {
   "cell_type": "code",
   "execution_count": 270,
   "metadata": {},
   "outputs": [],
   "source": [
    "@jit(nopython=True)\n",
    "def conc_model1(Matrix, a0, a1, a2, a3):\n",
    "    mass_int = 61\n",
    "    init_mas = masses_second\n",
    "    \n",
    "    concentration = np.array([a0, a1, a2, a3])\n",
    "    length = int(Matrix.shape[0])\n",
    "    lighted = lighted_generator(init_mas, length = length)\n",
    "    ans = np.zeros(10000)\n",
    "    mass = np.zeros(10000)\n",
    "    printed = np.zeros(10000)\n",
    "    for j in range(length):\n",
    "        for i in range(100):\n",
    "            if Matrix[j, 3*i] == 0:\n",
    "                move = int(Matrix[j, 3*i+1])\n",
    "                lighted = moving_new(lighted, move, j)\n",
    "            elif Matrix[j, 3*i] == 1:\n",
    "                lighted = ore(lighted, Matrix[j, 3*i+1], Matrix[j, 3*i+2], j, mass_int)\n",
    "            elif Matrix[j, 3*i] == 2:\n",
    "                lighted = global_mix_new(lighted, Matrix[j, 3*i+2], j)\n",
    "            elif Matrix[j, 3*i] == 3:\n",
    "                lighted = local_mix_new(lighted, Matrix[j, 3*i+1], Matrix[j, 3*i+2], j, concentration)\n",
    "        for i in range(101):\n",
    "            ans[j] += lighted[j, i, 4]\n",
    "            mass[j] += lighted[j, i, :].sum()\n",
    "        printed[j] = ans[j]/mass[j]*100\n",
    "    return printed"
   ]
  },
  {
   "cell_type": "code",
   "execution_count": 271,
   "metadata": {},
   "outputs": [
    {
     "name": "stdout",
     "output_type": "stream",
     "text": [
      "Conc: [0.33975347 0.50310893 0.72123826 0.77166882]\n"
     ]
    }
   ],
   "source": [
    "conc1, _ = curve_fit(conc_model1, Matrix, y)\n",
    "print(\"Conc: \" + str(conc1))"
   ]
  },
  {
   "cell_type": "code",
   "execution_count": 272,
   "metadata": {},
   "outputs": [
    {
     "name": "stdout",
     "output_type": "stream",
     "text": [
      "6.843598520371121\n"
     ]
    }
   ],
   "source": [
    "print(np.abs(y-new_predict1(mass_int=int(mass_adder1), conc=conc1)).mean())"
   ]
  },
  {
   "cell_type": "code",
   "execution_count": 273,
   "metadata": {},
   "outputs": [
    {
     "name": "stdout",
     "output_type": "stream",
     "text": [
      "(50000,)\n",
      "[14.80201587 14.31268566 16.58693203 14.18544025 14.91129627]\n"
     ]
    }
   ],
   "source": [
    "y_mnk1 = new_predict1(Matrix=Tester, cofs = masses_second, mass_int=int(mass_adder1), conc=conc1)\n",
    "print(y_mnk1.shape)\n",
    "print(y_mnk1[:5])"
   ]
  },
  {
   "cell_type": "markdown",
   "metadata": {},
   "source": [
    "# Подготовка к отправке решения"
   ]
  },
  {
   "cell_type": "markdown",
   "metadata": {},
   "source": [
    "## Сохранение ответа"
   ]
  },
  {
   "cell_type": "code",
   "execution_count": 286,
   "metadata": {},
   "outputs": [],
   "source": [
    "# Сохранить решение\n",
    "pd.DataFrame({'id': np.arange(50000), 'y':y_hypo1}).to_csv('solution.csv', index=False)"
   ]
  },
  {
   "cell_type": "code",
   "execution_count": null,
   "metadata": {},
   "outputs": [],
   "source": []
  }
 ],
 "metadata": {
  "kernelspec": {
   "display_name": "Python 3",
   "language": "python",
   "name": "python3"
  },
  "language_info": {
   "codemirror_mode": {
    "name": "ipython",
    "version": 3
   },
   "file_extension": ".py",
   "mimetype": "text/x-python",
   "name": "python",
   "nbconvert_exporter": "python",
   "pygments_lexer": "ipython3",
   "version": "3.9.2"
  }
 },
 "nbformat": 4,
 "nbformat_minor": 4
}
